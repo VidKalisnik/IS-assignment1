{
 "cells": [
  {
   "cell_type": "markdown",
   "metadata": {},
   "source": [
    "# 1. Configuration\n",
    "\n",
    "### Imports"
   ]
  },
  {
   "cell_type": "code",
   "execution_count": 5,
   "metadata": {},
   "outputs": [],
   "source": [
    "import pygad\n",
    "import numpy as np\n",
    "import matplotlib.pyplot as plt\n",
    "import pandas as pd \n",
    "import random\n",
    "import math\n",
    "import time\n",
    "from sympy import sympify, symbols, simplify, Eq, solve"
   ]
  },
  {
   "cell_type": "markdown",
   "metadata": {},
   "source": [
    "### Read the data"
   ]
  },
  {
   "cell_type": "code",
   "execution_count": 6,
   "metadata": {},
   "outputs": [
    {
     "data": {
      "text/html": [
       "<div>\n",
       "<style scoped>\n",
       "    .dataframe tbody tr th:only-of-type {\n",
       "        vertical-align: middle;\n",
       "    }\n",
       "\n",
       "    .dataframe tbody tr th {\n",
       "        vertical-align: top;\n",
       "    }\n",
       "\n",
       "    .dataframe thead th {\n",
       "        text-align: right;\n",
       "    }\n",
       "</style>\n",
       "<table border=\"1\" class=\"dataframe\">\n",
       "  <thead>\n",
       "    <tr style=\"text-align: right;\">\n",
       "      <th></th>\n",
       "      <th>Equation</th>\n",
       "      <th>Xs</th>\n",
       "      <th>Ys</th>\n",
       "    </tr>\n",
       "  </thead>\n",
       "  <tbody>\n",
       "    <tr>\n",
       "      <th>0</th>\n",
       "      <td>((x ** 4) - 6)</td>\n",
       "      <td>[1, 2, 3, 4, 5, 6, 7, 8, 9, 10, 11, 12, 13, 14...</td>\n",
       "      <td>[-5, 10, 75, 250, 619, 1290, 2395, 4090, 6555,...</td>\n",
       "    </tr>\n",
       "    <tr>\n",
       "      <th>1</th>\n",
       "      <td>(((x / 8) * 2) + 1)</td>\n",
       "      <td>[1, 2, 3, 4, 5, 6, 7, 8, 9, 10, 11, 12, 13, 14...</td>\n",
       "      <td>[1.25, 1.5, 1.75, 2.0, 2.25, 2.5, 2.75, 3.0, 3...</td>\n",
       "    </tr>\n",
       "    <tr>\n",
       "      <th>2</th>\n",
       "      <td>(((x - 1) - 3) / 5)</td>\n",
       "      <td>[1, 2, 3, 4, 5, 6, 7, 8, 9, 10, 11, 12, 13, 14...</td>\n",
       "      <td>[-0.6, -0.4, -0.2, 0.0, 0.2, 0.4, 0.6, 0.8, 1....</td>\n",
       "    </tr>\n",
       "    <tr>\n",
       "      <th>3</th>\n",
       "      <td>(x * 5)</td>\n",
       "      <td>[1, 2, 3, 4, 5, 6, 7, 8, 9, 10, 11, 12, 13, 14...</td>\n",
       "      <td>[5, 10, 15, 20, 25, 30, 35, 40, 45, 50, 55, 60...</td>\n",
       "    </tr>\n",
       "    <tr>\n",
       "      <th>4</th>\n",
       "      <td>(x + 2)</td>\n",
       "      <td>[1, 2, 3, 4, 5, 6, 7, 8, 9, 10, 11, 12, 13, 14...</td>\n",
       "      <td>[3, 4, 5, 6, 7, 8, 9, 10, 11, 12, 13, 14, 15, ...</td>\n",
       "    </tr>\n",
       "    <tr>\n",
       "      <th>...</th>\n",
       "      <td>...</td>\n",
       "      <td>...</td>\n",
       "      <td>...</td>\n",
       "    </tr>\n",
       "    <tr>\n",
       "      <th>93</th>\n",
       "      <td>1*x**5 + -2*x**3 + -1*x + -5</td>\n",
       "      <td>[1, 2, 3, 4, 5, 6, 7, 8, 9, 10, 11, 12, 13, 14...</td>\n",
       "      <td>[-7, 9, 181, 887, 2865, 7333, 16109, 31731, 57...</td>\n",
       "    </tr>\n",
       "    <tr>\n",
       "      <th>94</th>\n",
       "      <td>3*x**5 + 2*x**4 + 1*x + -2</td>\n",
       "      <td>[1, 2, 3, 4, 5, 6, 7, 8, 9, 10, 11, 12, 13, 14...</td>\n",
       "      <td>[4, 128, 892, 3586, 10628, 25924, 55228, 10650...</td>\n",
       "    </tr>\n",
       "    <tr>\n",
       "      <th>95</th>\n",
       "      <td>-4*x**5 + -1*x + -5</td>\n",
       "      <td>[1, 2, 3, 4, 5, 6, 7, 8, 9, 10, 11, 12, 13, 14...</td>\n",
       "      <td>[-10, -135, -980, -4105, -12510, -31115, -6724...</td>\n",
       "    </tr>\n",
       "    <tr>\n",
       "      <th>96</th>\n",
       "      <td>4*x + +1</td>\n",
       "      <td>[1, 2, 3, 4, 5, 6, 7, 8, 9, 10, 11, 12, 13, 14...</td>\n",
       "      <td>[5, 9, 13, 17, 21, 25, 29, 33, 37, 41, 45, 49,...</td>\n",
       "    </tr>\n",
       "    <tr>\n",
       "      <th>97</th>\n",
       "      <td>-4*x**5 + 3*x**4 + -4*x**2 + -2*x + 5</td>\n",
       "      <td>[1, 2, 3, 4, 5, 6, 7, 8, 9, 10, 11, 12, 13, 14...</td>\n",
       "      <td>[-2, -95, -766, -3395, -10730, -27367, -60230,...</td>\n",
       "    </tr>\n",
       "  </tbody>\n",
       "</table>\n",
       "<p>98 rows × 3 columns</p>\n",
       "</div>"
      ],
      "text/plain": [
       "                                  Equation  \\\n",
       "0                           ((x ** 4) - 6)   \n",
       "1                      (((x / 8) * 2) + 1)   \n",
       "2                      (((x - 1) - 3) / 5)   \n",
       "3                                  (x * 5)   \n",
       "4                                  (x + 2)   \n",
       "..                                     ...   \n",
       "93            1*x**5 + -2*x**3 + -1*x + -5   \n",
       "94              3*x**5 + 2*x**4 + 1*x + -2   \n",
       "95                     -4*x**5 + -1*x + -5   \n",
       "96                                4*x + +1   \n",
       "97   -4*x**5 + 3*x**4 + -4*x**2 + -2*x + 5   \n",
       "\n",
       "                                                   Xs  \\\n",
       "0   [1, 2, 3, 4, 5, 6, 7, 8, 9, 10, 11, 12, 13, 14...   \n",
       "1   [1, 2, 3, 4, 5, 6, 7, 8, 9, 10, 11, 12, 13, 14...   \n",
       "2   [1, 2, 3, 4, 5, 6, 7, 8, 9, 10, 11, 12, 13, 14...   \n",
       "3   [1, 2, 3, 4, 5, 6, 7, 8, 9, 10, 11, 12, 13, 14...   \n",
       "4   [1, 2, 3, 4, 5, 6, 7, 8, 9, 10, 11, 12, 13, 14...   \n",
       "..                                                ...   \n",
       "93  [1, 2, 3, 4, 5, 6, 7, 8, 9, 10, 11, 12, 13, 14...   \n",
       "94  [1, 2, 3, 4, 5, 6, 7, 8, 9, 10, 11, 12, 13, 14...   \n",
       "95  [1, 2, 3, 4, 5, 6, 7, 8, 9, 10, 11, 12, 13, 14...   \n",
       "96  [1, 2, 3, 4, 5, 6, 7, 8, 9, 10, 11, 12, 13, 14...   \n",
       "97  [1, 2, 3, 4, 5, 6, 7, 8, 9, 10, 11, 12, 13, 14...   \n",
       "\n",
       "                                                   Ys  \n",
       "0   [-5, 10, 75, 250, 619, 1290, 2395, 4090, 6555,...  \n",
       "1   [1.25, 1.5, 1.75, 2.0, 2.25, 2.5, 2.75, 3.0, 3...  \n",
       "2   [-0.6, -0.4, -0.2, 0.0, 0.2, 0.4, 0.6, 0.8, 1....  \n",
       "3   [5, 10, 15, 20, 25, 30, 35, 40, 45, 50, 55, 60...  \n",
       "4   [3, 4, 5, 6, 7, 8, 9, 10, 11, 12, 13, 14, 15, ...  \n",
       "..                                                ...  \n",
       "93  [-7, 9, 181, 887, 2865, 7333, 16109, 31731, 57...  \n",
       "94  [4, 128, 892, 3586, 10628, 25924, 55228, 10650...  \n",
       "95  [-10, -135, -980, -4105, -12510, -31115, -6724...  \n",
       "96  [5, 9, 13, 17, 21, 25, 29, 33, 37, 41, 45, 49,...  \n",
       "97  [-2, -95, -766, -3395, -10730, -27367, -60230,...  \n",
       "\n",
       "[98 rows x 3 columns]"
      ]
     },
     "execution_count": 6,
     "metadata": {},
     "output_type": "execute_result"
    }
   ],
   "source": [
    "dataset = pd.read_csv(\"dataset.csv\")\n",
    "dataset"
   ]
  },
  {
   "cell_type": "markdown",
   "metadata": {},
   "source": [
    "# 2. Representation"
   ]
  },
  {
   "cell_type": "code",
   "execution_count": 7,
   "metadata": {},
   "outputs": [],
   "source": [
    "maxEquationLength = 25"
   ]
  },
  {
   "cell_type": "markdown",
   "metadata": {},
   "source": [
    "#### Helper functions"
   ]
  },
  {
   "cell_type": "markdown",
   "metadata": {},
   "source": [
    "Convert a `string equation` into an `array of tokens`."
   ]
  },
  {
   "cell_type": "code",
   "execution_count": 29,
   "metadata": {},
   "outputs": [],
   "source": [
    "def stringEQtoArray(equation):\n",
    "    arr = np.array([])\n",
    "    skip = 0\n",
    "\n",
    "    for index, char in enumerate(equation):\n",
    "        if skip != 0:\n",
    "            skip-=1\n",
    "            continue\n",
    "    \n",
    "        if char == ' ':\n",
    "            continue\n",
    "        elif char.isdigit():\n",
    "            if index+1 < len(equation) and equation[index+1].isdigit():\n",
    "                newIndex = index+1\n",
    "                while newIndex < len(equation) and equation[newIndex].isdigit():\n",
    "                    newIndex+=1\n",
    "                    char = char+equation[newIndex-1]\n",
    "                    skip += 1\n",
    "                arr = np.append(arr, char)\n",
    "            else:\n",
    "                arr = np.append(arr, char)\n",
    "        elif char == '-' and equation[index+1].isdigit()::\n",
    "            if index+1 < len(equation) and equation[index+1].isdigit():\n",
    "                newIndex = index+1\n",
    "                while newIndex < len(equation) and equation[newIndex].isdigit():\n",
    "                    newIndex+=1\n",
    "                    char = char+equation[newIndex-1]\n",
    "                    skip += 1\n",
    "                arr = np.append(arr, char)\n",
    "            else:\n",
    "                arr = np.append(arr, char)\n",
    "        elif char == 'x' or char.isdigit():\n",
    "            arr = np.append(arr, char)\n",
    "        elif char == '*' and equation[index+1] == '*':\n",
    "            arr = np.append(arr, '**')\n",
    "            skip = 1\n",
    "        elif char in ['+', '-'] and equation[index+1].isdigit():\n",
    "            if char == '+':\n",
    "                arr = np.append(arr, equation[index+1])\n",
    "            else:\n",
    "                arr = np.append(arr, char+equation[index+1])\n",
    "            skip = 1\n",
    "        elif char in ['+', '-', '*', '/', '(', ')']:\n",
    "            arr = np.append(arr, char)\n",
    "\n",
    "    return arr"
   ]
  },
  {
   "cell_type": "markdown",
   "metadata": {},
   "source": [
    "Convert an `array of tokens` to a `string equation`."
   ]
  },
  {
   "cell_type": "code",
   "execution_count": 9,
   "metadata": {},
   "outputs": [],
   "source": [
    "def arrayEQtoString(equation):\n",
    "    string = \"\"\n",
    "    for char in equation:\n",
    "        string += char\n",
    "        string += \" \"\n",
    "    return string"
   ]
  },
  {
   "cell_type": "markdown",
   "metadata": {},
   "source": [
    "Convert a string sequance to an `array`."
   ]
  },
  {
   "cell_type": "code",
   "execution_count": 10,
   "metadata": {},
   "outputs": [],
   "source": [
    "def stringArrayToArray(string):\n",
    "    string = string[1:-1]\n",
    "    arr = string.split(',')\n",
    "    arr = [float(i) for i in arr]\n",
    "    arr = np.array(arr)\n",
    "    return arr"
   ]
  },
  {
   "cell_type": "markdown",
   "metadata": {},
   "source": [
    "Evaluates `x_values` of the `equation`."
   ]
  },
  {
   "cell_type": "code",
   "execution_count": 11,
   "metadata": {},
   "outputs": [],
   "source": [
    "def evaluteEquation(equation, x_values):\n",
    "\n",
    "    result = np.array([])\n",
    "    for x in range(1, x_values+1):\n",
    "        result = np.append(result, eval(equation, {'x': x}, {'math': math}))\n",
    "    return result"
   ]
  },
  {
   "cell_type": "markdown",
   "metadata": {},
   "source": [
    "Testing"
   ]
  },
  {
   "cell_type": "code",
   "execution_count": 12,
   "metadata": {},
   "outputs": [],
   "source": [
    "#vse dela prou :)\n",
    "\n",
    "for x in range(0,98):\n",
    "    equation_inputs = dataset.iloc[x].values[0]\n",
    "    \n",
    "    outputs = stringArrayToArray(dataset.iloc[x].values[2])\n",
    "    \n",
    "    equationOutputs = evaluteEquation(equation_inputs, 100)\n",
    "\n",
    "    #print(np.sum(outputs - equationOutputs))\n",
    "\n",
    "    "
   ]
  },
  {
   "cell_type": "markdown",
   "metadata": {},
   "source": [
    "Tests if the equation `is valid`."
   ]
  },
  {
   "cell_type": "code",
   "execution_count": 13,
   "metadata": {},
   "outputs": [],
   "source": [
    "def is_valid(solution):\n",
    "    #solution is an array of tokens from the equation\n",
    "\n",
    "    #if there is no x in the equation -> it is not valid\n",
    "    if 'x' not in solution:\n",
    "        return False\n",
    "    \n",
    "    #if there is no equation -> it is not valid\n",
    "    if solution.__len__() > maxEquationLength:\n",
    "        return False\n",
    "\n",
    "    #if ther eis a digit larger tham 1000 or smaller than -1000 -> it is not valid\n",
    "    for token in solution:\n",
    "        if token.isdigit():\n",
    "            if int(token) > 10 or int(token) < -10:\n",
    "                return False\n",
    "\n",
    "    #try to evaluate the equation\n",
    "    try:\n",
    "        evaluteEquation(arrayEQtoString(solution), 100)\n",
    "    except:\n",
    "        return False\n",
    "\n",
    "    \n",
    "\n",
    "    return True"
   ]
  },
  {
   "cell_type": "markdown",
   "metadata": {},
   "source": [
    "`Simplifies` the equation."
   ]
  },
  {
   "cell_type": "code",
   "execution_count": 14,
   "metadata": {},
   "outputs": [],
   "source": [
    "def simplify_equation(equation):\n",
    "    \n",
    "    x = symbols('x')\n",
    "\n",
    "    equationString = arrayEQtoString(equation)\n",
    "\n",
    "    simp_equation = simplify(equationString)\n",
    "    #print(simp_equation)\n",
    "    try:\n",
    "        evaluteEquation(str(simp_equation), 100)\n",
    "    except:\n",
    "        simp_equation = str(equation)\n",
    "      \n",
    "    return stringEQtoArray(str(simp_equation))    "
   ]
  },
  {
   "cell_type": "markdown",
   "metadata": {},
   "source": [
    "Transform an array of `chars` to a `int` array, and it's inverse (`int` -> `char`)."
   ]
  },
  {
   "cell_type": "code",
   "execution_count": 15,
   "metadata": {},
   "outputs": [],
   "source": [
    "def char_to_int_array(array):\n",
    "    new_array = []\n",
    "    for i in array:\n",
    "        if i == 'x':\n",
    "            new_array.append(ord(i))\n",
    "        elif i == '+':\n",
    "            new_array.append(ord(i))\n",
    "        elif i == '-':\n",
    "            new_array.append(ord(i))\n",
    "        elif i == '*':\n",
    "            new_array.append(ord(i))\n",
    "        elif i == '/':\n",
    "            new_array.append(ord(i))\n",
    "        elif i == '**':\n",
    "            new_array.append(420)\n",
    "        elif i == '(':\n",
    "            new_array.append(ord(i))\n",
    "        elif i == ')':\n",
    "            new_array.append(ord(i))\n",
    "        else:\n",
    "            new_array.append(int(float(i)))\n",
    "    return new_array"
   ]
  },
  {
   "cell_type": "code",
   "execution_count": 16,
   "metadata": {},
   "outputs": [],
   "source": [
    "def int_array_to_char(array):\n",
    "    new_array = []\n",
    "    for i in array:\n",
    "        if i == ord('x'):\n",
    "            new_array.append('x')\n",
    "        elif i == ord('+'):\n",
    "            new_array.append('+')\n",
    "        elif i == ord('-'):\n",
    "            new_array.append('-')\n",
    "        elif i == ord('*'):\n",
    "            new_array.append('*')\n",
    "        elif i == ord('/'):\n",
    "            new_array.append('/')\n",
    "        elif i == 420:\n",
    "            new_array.append('**')\n",
    "        elif i == ord('('):\n",
    "            new_array.append('(')\n",
    "        elif i == ord(')'):\n",
    "            new_array.append(')')\n",
    "        else:\n",
    "            new_array.append(str(i))\n",
    "    return new_array"
   ]
  },
  {
   "cell_type": "markdown",
   "metadata": {},
   "source": [
    "Adds `pedding` to the int array, and it's inverse (removes padding)."
   ]
  },
  {
   "cell_type": "code",
   "execution_count": 17,
   "metadata": {},
   "outputs": [],
   "source": [
    "def add_padding(array):\n",
    "    new_array = np.zeros(maxEquationLength)\n",
    "    for i in range(len(array)):\n",
    "        new_array[i] = array[i]\n",
    "    return new_array"
   ]
  },
  {
   "cell_type": "code",
   "execution_count": 18,
   "metadata": {},
   "outputs": [],
   "source": [
    "def remove_padding(array):\n",
    "    new_array = []\n",
    "    for i in array:\n",
    "        if i == 0:\n",
    "            break\n",
    "        new_array.append(int(i))\n",
    "    return new_array"
   ]
  },
  {
   "cell_type": "markdown",
   "metadata": {},
   "source": [
    "Puts the last two functions together."
   ]
  },
  {
   "cell_type": "code",
   "execution_count": 19,
   "metadata": {},
   "outputs": [],
   "source": [
    "def equation_for_GA(equation):\n",
    "    equation = char_to_int_array(equation)\n",
    "    equation = add_padding(equation)\n",
    "    return equation"
   ]
  },
  {
   "cell_type": "code",
   "execution_count": 20,
   "metadata": {},
   "outputs": [],
   "source": [
    "def equation_from_GA(equation):\n",
    "    equation = remove_padding(equation)\n",
    "    equation = int_array_to_char(equation)\n",
    "    return equation"
   ]
  },
  {
   "cell_type": "markdown",
   "metadata": {},
   "source": [
    "### 3. Genetic algorithm"
   ]
  },
  {
   "cell_type": "code",
   "execution_count": 21,
   "metadata": {},
   "outputs": [
    {
     "name": "stdout",
     "output_type": "stream",
     "text": [
      "['(' '(' '(' 'x' '1' ')' '3' ')' '/' '5' ')']\n",
      "[  1.   2.   3.   4.   5.   6.   7.   8.   9.  10.  11.  12.  13.  14.\n",
      "  15.  16.  17.  18.  19.  20.  21.  22.  23.  24.  25.  26.  27.  28.\n",
      "  29.  30.  31.  32.  33.  34.  35.  36.  37.  38.  39.  40.  41.  42.\n",
      "  43.  44.  45.  46.  47.  48.  49.  50.  51.  52.  53.  54.  55.  56.\n",
      "  57.  58.  59.  60.  61.  62.  63.  64.  65.  66.  67.  68.  69.  70.\n",
      "  71.  72.  73.  74.  75.  76.  77.  78.  79.  80.  81.  82.  83.  84.\n",
      "  85.  86.  87.  88.  89.  90.  91.  92.  93.  94.  95.  96.  97.  98.\n",
      "  99. 100.]\n",
      "[-0.6 -0.4 -0.2  0.   0.2  0.4  0.6  0.8  1.   1.2  1.4  1.6  1.8  2.\n",
      "  2.2  2.4  2.6  2.8  3.   3.2  3.4  3.6  3.8  4.   4.2  4.4  4.6  4.8\n",
      "  5.   5.2  5.4  5.6  5.8  6.   6.2  6.4  6.6  6.8  7.   7.2  7.4  7.6\n",
      "  7.8  8.   8.2  8.4  8.6  8.8  9.   9.2  9.4  9.6  9.8 10.  10.2 10.4\n",
      " 10.6 10.8 11.  11.2 11.4 11.6 11.8 12.  12.2 12.4 12.6 12.8 13.  13.2\n",
      " 13.4 13.6 13.8 14.  14.2 14.4 14.6 14.8 15.  15.2 15.4 15.6 15.8 16.\n",
      " 16.2 16.4 16.6 16.8 17.  17.2 17.4 17.6 17.8 18.  18.2 18.4 18.6 18.8\n",
      " 19.  19.2]\n"
     ]
    }
   ],
   "source": [
    "#trying for the first equation first\n",
    "eq_num = 2\n",
    "\n",
    "true_equation = stringEQtoArray(dataset.iloc[eq_num].values[0])\n",
    "inputs = stringArrayToArray(dataset.iloc[eq_num].values[1])\n",
    "outputs = np.array(stringArrayToArray(dataset.iloc[eq_num].values[2]))\n",
    "\n",
    "print(true_equation)\n",
    "print(inputs)\n",
    "print(outputs)"
   ]
  },
  {
   "cell_type": "markdown",
   "metadata": {},
   "source": [
    "`Model` returns an array of function outputs and a equation length."
   ]
  },
  {
   "cell_type": "code",
   "execution_count": 25,
   "metadata": {},
   "outputs": [],
   "source": [
    "def model(equation):\n",
    "    #print(\"modelS\")\n",
    "\n",
    "    equation = equation_from_GA(equation)\n",
    "\n",
    "    print(\"MODEL\",equation)\n",
    "    if not is_valid(equation):\n",
    "        return 0,0\n",
    "\n",
    "    #rmaybe remove all the () from the equation for the length???\n",
    "    # equation = [x for x in equation if x != '(' and x != ')']\n",
    "    # equation = np.array(equation)\n",
    "    equation_length = len(equation)\n",
    "\n",
    "    equationString = arrayEQtoString(equation)\n",
    "    equationOutputs = evaluteEquation(equationString, 100)\n",
    "            \n",
    "    return equationOutputs, equation_length\n"
   ]
  },
  {
   "cell_type": "markdown",
   "metadata": {},
   "source": [
    "`Fitness function` returns the fitness of a given equation."
   ]
  },
  {
   "cell_type": "code",
   "execution_count": 23,
   "metadata": {},
   "outputs": [],
   "source": [
    "def fitness_func(ga_instance, solution, solution_idx):\n",
    "    #print(\"FitnesS\")\n",
    "    \n",
    "    model_outputs,equation_length = model(solution)\n",
    "    \n",
    "    if equation_length == 0:\n",
    "        return -np.inf\n",
    "\n",
    "    try:\n",
    "\n",
    "        #change if needed, especialy equation length#\n",
    "\n",
    "        error = np.sum(np.log10(np.abs(model_outputs - outputs) + 1)) + equation_length*0.1\n",
    "\n",
    "        if error < 0:\n",
    "            error = -error\n",
    "\n",
    "    except:\n",
    "        return -np.inf\n",
    "\n",
    "    #print(\"Fitness: \", -error, \"ga_instance.generation: \", ga_instance.generations_completed, \"solution_idx: \", solution_idx)\n",
    "\n",
    "    return -error"
   ]
  },
  {
   "cell_type": "markdown",
   "metadata": {},
   "source": [
    "Try fitness."
   ]
  },
  {
   "cell_type": "code",
   "execution_count": 28,
   "metadata": {},
   "outputs": [
    {
     "name": "stdout",
     "output_type": "stream",
     "text": [
      "['(' '(' '(' 'x' '1' ')' '3' ')' '/' '5' ')']\n",
      "MODEL [ 40.  40.  40. 120.   1.  41.   3.  41.  47.   5.  41.   0.   0.   0.\n",
      "   0.   0.   0.   0.   0.   0.   0.   0.   0.   0.   0.]\n",
      "MODEL ['(', '(', '(', 'x', '1', ')', '3', ')', '/', '5', ')']\n",
      "-inf\n"
     ]
    }
   ],
   "source": [
    "print(true_equation)\n",
    "\n",
    "print(fitness_func(None, equation_for_GA(true_equation), 0))"
   ]
  },
  {
   "cell_type": "markdown",
   "metadata": {},
   "source": [
    "`Crossover function` receives  `N parents` and returns ` N children`."
   ]
  },
  {
   "cell_type": "code",
   "execution_count": 21,
   "metadata": {},
   "outputs": [],
   "source": [
    "def crossover_func(parents, offspring_size, ga_instance):\n",
    "    #print(\"CrossoverS\")\n",
    "    number_of_parents = len(parents)\n",
    "\n",
    "    array = np.empty((0, maxEquationLength))\n",
    "    \n",
    "    for i in range(0, number_of_parents, 2):\n",
    "        parent1 = sympify(arrayEQtoString(equation_from_GA(parents[i])))\n",
    "        parent2 = sympify(arrayEQtoString(equation_from_GA(parents[i+1])))\n",
    "\n",
    "        #print(parent1)\n",
    "        #print(parent2)\n",
    "\n",
    "        x = symbols('x')\n",
    "\n",
    "        subexpressions_parent1 = list(parent1.find(lambda x: x.is_Add or x.is_Mul or x.is_Pow or x.is_Symbol))\n",
    "        subexpression_to_replace = random.choice(subexpressions_parent1)\n",
    "\n",
    "        subexpressions_parent2 = list(parent2.find(lambda x: x.is_Add or x.is_Mul or x.is_Pow or x.is_Symbol))\n",
    "        subexpression_replacement = random.choice(subexpressions_parent2)\n",
    "\n",
    "        new_equation = parent1.subs(subexpression_to_replace,subexpression_replacement)\n",
    "\n",
    "        #print(new_equation)\n",
    "\n",
    "        child = stringEQtoArray(str(new_equation))\n",
    "        child = simplify_equation(child)\n",
    "        child = equation_for_GA(child)\n",
    "\n",
    "        #print(child)\n",
    "\n",
    "        #add the child array to the array\n",
    "        child_array = np.array(child, dtype=int).reshape(1, -1)\n",
    "        array = np.vstack((array, child_array))\n",
    "\n",
    "    return array  "
   ]
  },
  {
   "cell_type": "markdown",
   "metadata": {},
   "source": [
    "Try crossover."
   ]
  },
  {
   "cell_type": "code",
   "execution_count": 22,
   "metadata": {},
   "outputs": [
    {
     "name": "stdout",
     "output_type": "stream",
     "text": [
      "['x', '**', '4', '*', '(', 'x', '**', '4', '+', '2', ')']\n"
     ]
    }
   ],
   "source": [
    "parents = [equation_for_GA(stringEQtoArray(\"x**2 + 2 * x\")), equation_for_GA(stringEQtoArray(\"x**4\"))]\n",
    "\n",
    "print(equation_from_GA(crossover_func(parents, 2, None)[0]))"
   ]
  },
  {
   "cell_type": "markdown",
   "metadata": {},
   "source": [
    "`Mutation function ` receives N equations and returns N `mutated` equations."
   ]
  },
  {
   "cell_type": "code",
   "execution_count": 23,
   "metadata": {},
   "outputs": [],
   "source": [
    "def mutation_func(offspring, ga_instance):\n",
    "    #print(\"MutationS\")\n",
    "    array = np.empty((0, maxEquationLength))\n",
    "\n",
    "    for j in range(len(offspring)):\n",
    "\n",
    "        eq_mutated = equation_from_GA(offspring[j])\n",
    "\n",
    "        #print(\"eq_mutated: \", eq_mutated)  \n",
    "        if not is_valid(eq_mutated):\n",
    "            #print(\"Not valid0\")\n",
    "            eq = stringEQtoArray(\"x + 1\")\n",
    "            offspring_array = np.array(equation_for_GA(eq), dtype=int).reshape(1, -1)\n",
    "            array = np.vstack((array, offspring_array)).astype(int)\n",
    "            continue\n",
    "\n",
    "        #print(\"Before mutation: \", eq_mutated)\n",
    "\n",
    "        #Mutation type 1\n",
    "        if np.random.rand() > 0.2:\n",
    "            while True:\n",
    "                \n",
    "                i = random.randrange(len(eq_mutated))\n",
    "\n",
    "                # changes a random operator\n",
    "                if eq_mutated[i] in ['+', '-', '*', '/', '**']:              \n",
    "                    eq_mutated[i] = np.random.choice(['+', '-', '*', '/', '**'])\n",
    "                    break\n",
    "                # changes a random number\n",
    "                elif eq_mutated[i].isdigit():\n",
    "                    random_number = str(np.random.randint(-10, 10))\n",
    "                    if random_number == '0':\n",
    "                        random_number = '1'\n",
    "                    eq_mutated[i] = random_number\n",
    "                    break\n",
    "                #change the x to ( x + random number )\n",
    "                elif eq_mutated[i] == 'x':\n",
    "                    eq_mutated[i] = '('\n",
    "                    random_number = str(np.random.randint(1, 10))\n",
    "                    eq_mutated = np.insert(eq_mutated, i+1, ['x', '+', str(random_number), ')'])\n",
    "                    break\n",
    "        #Mutation type 2\n",
    "        else:\n",
    "            #if it doesnt have () on the start and the end add them\n",
    "            if eq_mutated[0] != '(' and eq_mutated[-1] != ')':\n",
    "                eq_mutated = np.append(['('], eq_mutated)\n",
    "                eq_mutated = np.append(eq_mutated, [')'])\n",
    "\n",
    "            #add a random operator and a random number on the start or the end\n",
    "            if np.random.rand() > 0.5:\n",
    "                #add on the start\n",
    "                eq_mutated = np.insert(eq_mutated, 0, np.random.choice(['+', '-', '*', '/']))\n",
    "                random_number = str(np.random.randint(1, 10))\n",
    "                eq_mutated = np.insert(eq_mutated, 0, random_number)\n",
    "            else:\n",
    "                #add on the end\n",
    "                eq_mutated = np.append(eq_mutated, np.random.choice(['+', '-', '*', '/']))\n",
    "                random_number = str(np.random.randint(1, 10))\n",
    "                eq_mutated = np.append(eq_mutated, random_number)\n",
    "\n",
    "        #print(1,eq_mutated)\n",
    "\n",
    "        #check if the equation is valid\n",
    "        if not is_valid(eq_mutated):\n",
    "            #print(\"Not valid1\")\n",
    "            eq_mutated = equation_from_GA(offspring[j])\n",
    "\n",
    "        #print(2,eq_mutated)\n",
    "\n",
    "        eq_mutated = simplify_equation(eq_mutated)\n",
    "\n",
    "        #print(3,eq_mutated)\n",
    "\n",
    "        #check if the equation is valid\n",
    "        if not is_valid(eq_mutated):\n",
    "            #print(\"Not valid2\")\n",
    "            eq_mutated = equation_from_GA(offspring[j])\n",
    "    \n",
    "        #print(4,eq_mutated)\n",
    "\n",
    "        offspring_array = np.array(equation_for_GA(eq_mutated), dtype=int).reshape(1, -1)\n",
    "        array = np.vstack((array, offspring_array)).astype(int)\n",
    "\n",
    "    # print(\"Mutation: \")\n",
    "    # for i in array:\n",
    "    #     print(equation_from_GA(i))\n",
    "\n",
    "    return array"
   ]
  },
  {
   "cell_type": "markdown",
   "metadata": {},
   "source": [
    "Try mutation."
   ]
  },
  {
   "cell_type": "code",
   "execution_count": 24,
   "metadata": {},
   "outputs": [
    {
     "data": {
      "text/plain": [
       "['x', '+', '5']"
      ]
     },
     "execution_count": 24,
     "metadata": {},
     "output_type": "execute_result"
    }
   ],
   "source": [
    "equation_from_GA(mutation_func(np.array([equation_for_GA(['x','+','1'])]), 1)[0])"
   ]
  },
  {
   "cell_type": "markdown",
   "metadata": {},
   "source": [
    "Initialize the population."
   ]
  },
  {
   "cell_type": "code",
   "execution_count": 25,
   "metadata": {},
   "outputs": [],
   "source": [
    "pop1 = [['x','+', '1']] + [['x','+', '2']] +[['x','+', '3']] + [['x','+', '4']] + [['x','+', '5']] +[['x','+', '6']] + [['x','+', '7']] + [['x','+', '8']] + [['x','+', '9']]\n",
    "pop2 = [['x','*', '1']] + [['x','*', '2']] +[['x','*', '3']] + [['x','*', '4']] + [['x','*', '5']]  + [['x','*', '6']] +[['x','*', '7']] + [['x','*', '8']] + [['x','*', '9']]\n",
    "pop3 = [['x','**', '2']] +[['x','**', '3']] + [['x','**', '4']] + [['x','**', '5']] + [['x','**', '6']] +[['x','**', '7']] + [['x','**', '8']] + [['x','**', '9']]\n",
    "pop4 = [['x','/', '2']] +[['x','/', '3']] + [['x','/', '4']] + [['x','/', '5']] + [['x','/', '6']] +[['x','/', '7']] + [['x','/', '8']] + [['x','/', '9']]\n",
    "\n",
    "initial_population = pop1 + pop2 + pop3 + pop4\n",
    "\n",
    "#transform the initial population to a int array\n",
    "initial_population = [equation_for_GA(i) for i in initial_population]\n",
    "\n",
    "\n",
    "tmp1 = np.array([i for i in range(1, 10)])\n",
    "tmp2 = np.array([i for i in range(-10, 0)])\n",
    "gene_space = np.array([ord('x'), ord('+'), ord('-'), ord('*'), ord('/'), 420]) \n",
    "gene_space = np.append(gene_space, tmp1)\n",
    "gene_space = np.append(gene_space, tmp2)"
   ]
  },
  {
   "cell_type": "code",
   "execution_count": 26,
   "metadata": {},
   "outputs": [
    {
     "name": "stdout",
     "output_type": "stream",
     "text": [
      "sol_per_pop:  34\n",
      "num_parents_mating:  20\n",
      "keep_elitism:  24\n"
     ]
    }
   ],
   "source": [
    "sol_per_pop = initial_population.__len__()\n",
    "num_parents_mating = 20\n",
    "keep_elitism = int(sol_per_pop - num_parents_mating/2)\n",
    "\n",
    "print(\"sol_per_pop: \", sol_per_pop)\n",
    "print(\"num_parents_mating: \", num_parents_mating)\n",
    "print(\"keep_elitism: \", keep_elitism)"
   ]
  },
  {
   "cell_type": "code",
   "execution_count": 27,
   "metadata": {},
   "outputs": [],
   "source": [
    "def printCrossover(x,y):\n",
    "    print(\"Crossover\")\n",
    "\n",
    "def printMutation(x,y):\n",
    "    print(\"Mutation\")\n",
    "\n",
    "def printFitness(x,y):\n",
    "    print(\"Fitness\")\n",
    "\n",
    "def printParents(y,parents):\n",
    "    print(\"Parents\")"
   ]
  },
  {
   "cell_type": "code",
   "execution_count": 28,
   "metadata": {},
   "outputs": [
    {
     "name": "stdout",
     "output_type": "stream",
     "text": [
      "Equation:  0\n"
     ]
    }
   ],
   "source": [
    "for i in range(20):   \n",
    "    try:\n",
    "        print(\"Equation: \", i)\n",
    "\n",
    "        true_equation = stringEQtoArray(dataset.iloc[i].values[0])\n",
    "        inputs = stringArrayToArray(dataset.iloc[i].values[1])\n",
    "        outputs = np.array(stringArrayToArray(dataset.iloc[i].values[2]))\n",
    "\n",
    "\n",
    "        ga_instance = pygad.GA(num_generations=100,\n",
    "                            num_parents_mating=num_parents_mating,\n",
    "                            fitness_func=fitness_func,\n",
    "                            initial_population=initial_population,\n",
    "                            gene_type=int,\n",
    "                            parent_selection_type=\"tournament\",\n",
    "                            keep_elitism=keep_elitism,\n",
    "                            crossover_probability=0.8,\n",
    "                            crossover_type=crossover_func,\n",
    "                            mutation_type=mutation_func,\n",
    "                            mutation_probability=0.5,\n",
    "                            gene_space=gene_space,\n",
    "                            stop_criteria=\"saturate_50\")\n",
    "                            # on_crossover=printCrossover,\n",
    "                            # on_mutation=printMutation,\n",
    "                            # on_fitness=printFitness,\n",
    "                            # on_parents=printParents)\n",
    "\n",
    "        ga_instance.run()\n",
    "\n",
    "        print(ga_instance.plot_fitness())\n",
    "\n",
    "        solution, solution_fitness, solution_idx = ga_instance.best_solution()\n",
    "        print(\"Parameters of the best solution : {solution}\".format(solution=solution))\n",
    "        print(\"Fitness value of the best solution = {solution_fitness}\".format(solution_fitness=solution_fitness))\n",
    "\n",
    "\n",
    "        x = range(1, 101)\n",
    "\n",
    "        # Assuming you have two output arrays of the same length\n",
    "        y1 = outputs\n",
    "\n",
    "        y2 = evaluteEquation(arrayEQtoString(equation_from_GA(solution)), 100)\n",
    "\n",
    "        print(\"True equation: \", true_equation)\n",
    "        print(\"Predicted equation: \", equation_from_GA(solution))\n",
    "\n",
    "        # Plotting the first array\n",
    "        plt.plot(x, y1, label='True equation')\n",
    "\n",
    "        # Plotting the second array\n",
    "        plt.plot(x, y2, label='Predicted equation')\n",
    "\n",
    "        # Adding labels and title\n",
    "        plt.xlabel('X-axis label')\n",
    "        plt.ylabel('Y-axis label')\n",
    "        plt.title('Two Arrays Plot')\n",
    "\n",
    "        # Adding legend\n",
    "        plt.legend()\n",
    "\n",
    "        # Display the plot\n",
    "        plt.show()\n",
    "\n",
    "    except Exception as e:\n",
    "        print(\"ERROR: \", e)\n",
    "        continue\n"
   ]
  }
 ],
 "metadata": {
  "kernelspec": {
   "display_name": "Python 3",
   "language": "python",
   "name": "python3"
  },
  "language_info": {
   "codemirror_mode": {
    "name": "ipython",
    "version": 3
   },
   "file_extension": ".py",
   "mimetype": "text/x-python",
   "name": "python",
   "nbconvert_exporter": "python",
   "pygments_lexer": "ipython3",
   "version": "3.12.0"
  }
 },
 "nbformat": 4,
 "nbformat_minor": 2
}
