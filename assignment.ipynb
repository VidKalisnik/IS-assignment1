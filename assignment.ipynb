{
 "cells": [
  {
   "cell_type": "markdown",
   "metadata": {},
   "source": [
    "# 1. Configuration\n",
    "\n",
    "### Imports"
   ]
  },
  {
   "cell_type": "code",
   "execution_count": 96,
   "metadata": {},
   "outputs": [],
   "source": [
    "import pygad\n",
    "import numpy as np\n",
    "import matplotlib.pyplot as plt\n",
    "import pandas as pd \n",
    "import random\n",
    "import math\n",
    "import time\n",
    "from sympy import sympify, symbols, simplify, Eq, solve"
   ]
  },
  {
   "cell_type": "markdown",
   "metadata": {},
   "source": [
    "### Read the data"
   ]
  },
  {
   "cell_type": "code",
   "execution_count": 97,
   "metadata": {},
   "outputs": [
    {
     "data": {
      "text/html": [
       "<div>\n",
       "<style scoped>\n",
       "    .dataframe tbody tr th:only-of-type {\n",
       "        vertical-align: middle;\n",
       "    }\n",
       "\n",
       "    .dataframe tbody tr th {\n",
       "        vertical-align: top;\n",
       "    }\n",
       "\n",
       "    .dataframe thead th {\n",
       "        text-align: right;\n",
       "    }\n",
       "</style>\n",
       "<table border=\"1\" class=\"dataframe\">\n",
       "  <thead>\n",
       "    <tr style=\"text-align: right;\">\n",
       "      <th></th>\n",
       "      <th>Equation</th>\n",
       "      <th>Xs</th>\n",
       "      <th>Ys</th>\n",
       "    </tr>\n",
       "  </thead>\n",
       "  <tbody>\n",
       "    <tr>\n",
       "      <th>0</th>\n",
       "      <td>((x ** 4) - 6)</td>\n",
       "      <td>[1, 2, 3, 4, 5, 6, 7, 8, 9, 10, 11, 12, 13, 14...</td>\n",
       "      <td>[-5, 10, 75, 250, 619, 1290, 2395, 4090, 6555,...</td>\n",
       "    </tr>\n",
       "    <tr>\n",
       "      <th>1</th>\n",
       "      <td>(((x / 8) * 2) + 1)</td>\n",
       "      <td>[1, 2, 3, 4, 5, 6, 7, 8, 9, 10, 11, 12, 13, 14...</td>\n",
       "      <td>[1.25, 1.5, 1.75, 2.0, 2.25, 2.5, 2.75, 3.0, 3...</td>\n",
       "    </tr>\n",
       "    <tr>\n",
       "      <th>2</th>\n",
       "      <td>(((x - 1) - 3) / 5)</td>\n",
       "      <td>[1, 2, 3, 4, 5, 6, 7, 8, 9, 10, 11, 12, 13, 14...</td>\n",
       "      <td>[-0.6, -0.4, -0.2, 0.0, 0.2, 0.4, 0.6, 0.8, 1....</td>\n",
       "    </tr>\n",
       "    <tr>\n",
       "      <th>3</th>\n",
       "      <td>(x * 5)</td>\n",
       "      <td>[1, 2, 3, 4, 5, 6, 7, 8, 9, 10, 11, 12, 13, 14...</td>\n",
       "      <td>[5, 10, 15, 20, 25, 30, 35, 40, 45, 50, 55, 60...</td>\n",
       "    </tr>\n",
       "    <tr>\n",
       "      <th>4</th>\n",
       "      <td>(x + 2)</td>\n",
       "      <td>[1, 2, 3, 4, 5, 6, 7, 8, 9, 10, 11, 12, 13, 14...</td>\n",
       "      <td>[3, 4, 5, 6, 7, 8, 9, 10, 11, 12, 13, 14, 15, ...</td>\n",
       "    </tr>\n",
       "    <tr>\n",
       "      <th>...</th>\n",
       "      <td>...</td>\n",
       "      <td>...</td>\n",
       "      <td>...</td>\n",
       "    </tr>\n",
       "    <tr>\n",
       "      <th>93</th>\n",
       "      <td>1*x**5 + -2*x**3 + -1*x + -5</td>\n",
       "      <td>[1, 2, 3, 4, 5, 6, 7, 8, 9, 10, 11, 12, 13, 14...</td>\n",
       "      <td>[-7, 9, 181, 887, 2865, 7333, 16109, 31731, 57...</td>\n",
       "    </tr>\n",
       "    <tr>\n",
       "      <th>94</th>\n",
       "      <td>3*x**5 + 2*x**4 + 1*x + -2</td>\n",
       "      <td>[1, 2, 3, 4, 5, 6, 7, 8, 9, 10, 11, 12, 13, 14...</td>\n",
       "      <td>[4, 128, 892, 3586, 10628, 25924, 55228, 10650...</td>\n",
       "    </tr>\n",
       "    <tr>\n",
       "      <th>95</th>\n",
       "      <td>-4*x**5 + -1*x + -5</td>\n",
       "      <td>[1, 2, 3, 4, 5, 6, 7, 8, 9, 10, 11, 12, 13, 14...</td>\n",
       "      <td>[-10, -135, -980, -4105, -12510, -31115, -6724...</td>\n",
       "    </tr>\n",
       "    <tr>\n",
       "      <th>96</th>\n",
       "      <td>4*x + +1</td>\n",
       "      <td>[1, 2, 3, 4, 5, 6, 7, 8, 9, 10, 11, 12, 13, 14...</td>\n",
       "      <td>[5, 9, 13, 17, 21, 25, 29, 33, 37, 41, 45, 49,...</td>\n",
       "    </tr>\n",
       "    <tr>\n",
       "      <th>97</th>\n",
       "      <td>-4*x**5 + 3*x**4 + -4*x**2 + -2*x + 5</td>\n",
       "      <td>[1, 2, 3, 4, 5, 6, 7, 8, 9, 10, 11, 12, 13, 14...</td>\n",
       "      <td>[-2, -95, -766, -3395, -10730, -27367, -60230,...</td>\n",
       "    </tr>\n",
       "  </tbody>\n",
       "</table>\n",
       "<p>98 rows × 3 columns</p>\n",
       "</div>"
      ],
      "text/plain": [
       "                                  Equation  \\\n",
       "0                           ((x ** 4) - 6)   \n",
       "1                      (((x / 8) * 2) + 1)   \n",
       "2                      (((x - 1) - 3) / 5)   \n",
       "3                                  (x * 5)   \n",
       "4                                  (x + 2)   \n",
       "..                                     ...   \n",
       "93            1*x**5 + -2*x**3 + -1*x + -5   \n",
       "94              3*x**5 + 2*x**4 + 1*x + -2   \n",
       "95                     -4*x**5 + -1*x + -5   \n",
       "96                                4*x + +1   \n",
       "97   -4*x**5 + 3*x**4 + -4*x**2 + -2*x + 5   \n",
       "\n",
       "                                                   Xs  \\\n",
       "0   [1, 2, 3, 4, 5, 6, 7, 8, 9, 10, 11, 12, 13, 14...   \n",
       "1   [1, 2, 3, 4, 5, 6, 7, 8, 9, 10, 11, 12, 13, 14...   \n",
       "2   [1, 2, 3, 4, 5, 6, 7, 8, 9, 10, 11, 12, 13, 14...   \n",
       "3   [1, 2, 3, 4, 5, 6, 7, 8, 9, 10, 11, 12, 13, 14...   \n",
       "4   [1, 2, 3, 4, 5, 6, 7, 8, 9, 10, 11, 12, 13, 14...   \n",
       "..                                                ...   \n",
       "93  [1, 2, 3, 4, 5, 6, 7, 8, 9, 10, 11, 12, 13, 14...   \n",
       "94  [1, 2, 3, 4, 5, 6, 7, 8, 9, 10, 11, 12, 13, 14...   \n",
       "95  [1, 2, 3, 4, 5, 6, 7, 8, 9, 10, 11, 12, 13, 14...   \n",
       "96  [1, 2, 3, 4, 5, 6, 7, 8, 9, 10, 11, 12, 13, 14...   \n",
       "97  [1, 2, 3, 4, 5, 6, 7, 8, 9, 10, 11, 12, 13, 14...   \n",
       "\n",
       "                                                   Ys  \n",
       "0   [-5, 10, 75, 250, 619, 1290, 2395, 4090, 6555,...  \n",
       "1   [1.25, 1.5, 1.75, 2.0, 2.25, 2.5, 2.75, 3.0, 3...  \n",
       "2   [-0.6, -0.4, -0.2, 0.0, 0.2, 0.4, 0.6, 0.8, 1....  \n",
       "3   [5, 10, 15, 20, 25, 30, 35, 40, 45, 50, 55, 60...  \n",
       "4   [3, 4, 5, 6, 7, 8, 9, 10, 11, 12, 13, 14, 15, ...  \n",
       "..                                                ...  \n",
       "93  [-7, 9, 181, 887, 2865, 7333, 16109, 31731, 57...  \n",
       "94  [4, 128, 892, 3586, 10628, 25924, 55228, 10650...  \n",
       "95  [-10, -135, -980, -4105, -12510, -31115, -6724...  \n",
       "96  [5, 9, 13, 17, 21, 25, 29, 33, 37, 41, 45, 49,...  \n",
       "97  [-2, -95, -766, -3395, -10730, -27367, -60230,...  \n",
       "\n",
       "[98 rows x 3 columns]"
      ]
     },
     "execution_count": 97,
     "metadata": {},
     "output_type": "execute_result"
    }
   ],
   "source": [
    "dataset = pd.read_csv(\"dataset.csv\")\n",
    "dataset"
   ]
  },
  {
   "cell_type": "markdown",
   "metadata": {},
   "source": [
    "# 2. Representation"
   ]
  },
  {
   "cell_type": "code",
   "execution_count": 98,
   "metadata": {},
   "outputs": [],
   "source": [
    "maxEquationLength = 25"
   ]
  },
  {
   "cell_type": "markdown",
   "metadata": {},
   "source": [
    "#### Helper functions"
   ]
  },
  {
   "cell_type": "markdown",
   "metadata": {},
   "source": [
    "Convert a `string equation` into an `array of tokens`."
   ]
  },
  {
   "cell_type": "code",
   "execution_count": 99,
   "metadata": {},
   "outputs": [],
   "source": [
    "def stringEQtoArray(equation):\n",
    "    arr = np.array([])\n",
    "    skip = 0\n",
    "\n",
    "    for index, char in enumerate(equation):\n",
    "        if skip != 0:\n",
    "            skip-=1\n",
    "            continue\n",
    "    \n",
    "        if char == ' ':\n",
    "            continue\n",
    "        elif char == 'x' or char.isdigit():\n",
    "            arr = np.append(arr, char)\n",
    "        elif char == '*' and equation[index+1] == '*':\n",
    "            arr = np.append(arr, '**')\n",
    "            skip = 1\n",
    "        elif char in ['+', '-'] and equation[index+1].isdigit():\n",
    "            if char == '+':\n",
    "                arr = np.append(arr, equation[index+1])\n",
    "            else:\n",
    "                arr = np.append(arr, char+equation[index+1])\n",
    "            skip = 1\n",
    "        elif char in ['+', '-', '*', '/', '(', ')']:\n",
    "            arr = np.append(arr, char)\n",
    "\n",
    "    return arr"
   ]
  },
  {
   "cell_type": "markdown",
   "metadata": {},
   "source": [
    "Convert an `array of tokens` to a `string equation`."
   ]
  },
  {
   "cell_type": "code",
   "execution_count": 100,
   "metadata": {},
   "outputs": [],
   "source": [
    "def arrayEQtoString(equation):\n",
    "    string = \"\"\n",
    "    for char in equation:\n",
    "        string += char\n",
    "        string += \" \"\n",
    "    return string"
   ]
  },
  {
   "cell_type": "markdown",
   "metadata": {},
   "source": [
    "Convert a string sequance to an `array`."
   ]
  },
  {
   "cell_type": "code",
   "execution_count": 101,
   "metadata": {},
   "outputs": [],
   "source": [
    "def stringArrayToArray(string):\n",
    "    string = string[1:-1]\n",
    "    arr = string.split(',')\n",
    "    arr = [float(i) for i in arr]\n",
    "    arr = np.array(arr)\n",
    "    return arr"
   ]
  },
  {
   "cell_type": "markdown",
   "metadata": {},
   "source": [
    "Evaluates `x_values` of the `equation`."
   ]
  },
  {
   "cell_type": "code",
   "execution_count": 102,
   "metadata": {},
   "outputs": [],
   "source": [
    "def evaluteEquation(equation, x_values):\n",
    "\n",
    "    result = np.array([])\n",
    "    for x in range(1, x_values+1):\n",
    "        result = np.append(result, eval(equation, {'x': x}, {'math': math}))\n",
    "    return result"
   ]
  },
  {
   "cell_type": "markdown",
   "metadata": {},
   "source": [
    "Testing"
   ]
  },
  {
   "cell_type": "code",
   "execution_count": 103,
   "metadata": {},
   "outputs": [],
   "source": [
    "#vse dela prou :)\n",
    "\n",
    "for x in range(0,98):\n",
    "    equation_inputs = dataset.iloc[x].values[0]\n",
    "    \n",
    "    outputs = stringArrayToArray(dataset.iloc[x].values[2])\n",
    "    \n",
    "    equationOutputs = evaluteEquation(equation_inputs, 100)\n",
    "\n",
    "    #print(np.sum(outputs - equationOutputs))\n",
    "\n",
    "    "
   ]
  },
  {
   "cell_type": "markdown",
   "metadata": {},
   "source": [
    "Tests if the equation `is valid`."
   ]
  },
  {
   "cell_type": "code",
   "execution_count": 104,
   "metadata": {},
   "outputs": [],
   "source": [
    "def is_valid(solution):\n",
    "    #solution is an array of tokens from the equation\n",
    "\n",
    "    #if there is no x in the equation -> it is not valid\n",
    "    if 'x' not in solution:\n",
    "        return False\n",
    "    \n",
    "    #if there is no equation -> it is not valid\n",
    "    if solution.__len__() > maxEquationLength:\n",
    "        return False\n",
    "\n",
    "    #try to evaluate the equation\n",
    "    try:\n",
    "        evaluteEquation(arrayEQtoString(solution), 100)\n",
    "    except:\n",
    "        return False\n",
    "\n",
    "    return True"
   ]
  },
  {
   "cell_type": "markdown",
   "metadata": {},
   "source": [
    "`Simplifies` the equation."
   ]
  },
  {
   "cell_type": "code",
   "execution_count": 105,
   "metadata": {},
   "outputs": [],
   "source": [
    "def simplify_equation(equation):\n",
    "    \n",
    "    x = symbols('x')\n",
    "\n",
    "    equationString = arrayEQtoString(equation)\n",
    "\n",
    "    simp_equation = simplify(equationString)\n",
    "    #print(simp_equation)\n",
    "    try:\n",
    "        evaluteEquation(str(simp_equation), 100)\n",
    "    except:\n",
    "        simp_equation = str(equation)\n",
    "      \n",
    "    return stringEQtoArray(str(simp_equation))    "
   ]
  },
  {
   "cell_type": "markdown",
   "metadata": {},
   "source": [
    "Transform an array of `chars` to a `int` array, and it's inverse (`int` -> `char`)."
   ]
  },
  {
   "cell_type": "code",
   "execution_count": 106,
   "metadata": {},
   "outputs": [],
   "source": [
    "def char_to_int_array(array):\n",
    "    new_array = []\n",
    "    for i in array:\n",
    "        if i == 'x':\n",
    "            new_array.append(ord(i))\n",
    "        elif i == '+':\n",
    "            new_array.append(ord(i))\n",
    "        elif i == '-':\n",
    "            new_array.append(ord(i))\n",
    "        elif i == '*':\n",
    "            new_array.append(ord(i))\n",
    "        elif i == '/':\n",
    "            new_array.append(ord(i))\n",
    "        elif i == '**':\n",
    "            new_array.append(420)\n",
    "        elif i == '(':\n",
    "            new_array.append(ord(i))\n",
    "        elif i == ')':\n",
    "            new_array.append(ord(i))\n",
    "        else:\n",
    "            new_array.append(int(float(i)))\n",
    "    return new_array"
   ]
  },
  {
   "cell_type": "code",
   "execution_count": 107,
   "metadata": {},
   "outputs": [],
   "source": [
    "def int_array_to_char(array):\n",
    "    new_array = []\n",
    "    for i in array:\n",
    "        if i == ord('x'):\n",
    "            new_array.append('x')\n",
    "        elif i == ord('+'):\n",
    "            new_array.append('+')\n",
    "        elif i == ord('-'):\n",
    "            new_array.append('-')\n",
    "        elif i == ord('*'):\n",
    "            new_array.append('*')\n",
    "        elif i == ord('/'):\n",
    "            new_array.append('/')\n",
    "        elif i == 420:\n",
    "            new_array.append('**')\n",
    "        elif i == ord('('):\n",
    "            new_array.append('(')\n",
    "        elif i == ord(')'):\n",
    "            new_array.append(')')\n",
    "        else:\n",
    "            new_array.append(str(i))\n",
    "    return new_array"
   ]
  },
  {
   "cell_type": "markdown",
   "metadata": {},
   "source": [
    "Adds `pedding` to the int array, and it's inverse (removes padding)."
   ]
  },
  {
   "cell_type": "code",
   "execution_count": 108,
   "metadata": {},
   "outputs": [],
   "source": [
    "def add_padding(array):\n",
    "    new_array = np.zeros(maxEquationLength)\n",
    "    for i in range(len(array)):\n",
    "        new_array[i] = array[i]\n",
    "    return new_array"
   ]
  },
  {
   "cell_type": "code",
   "execution_count": 109,
   "metadata": {},
   "outputs": [],
   "source": [
    "def remove_padding(array):\n",
    "    new_array = []\n",
    "    for i in array:\n",
    "        if i == 0:\n",
    "            break\n",
    "        new_array.append(int(i))\n",
    "    return new_array"
   ]
  },
  {
   "cell_type": "markdown",
   "metadata": {},
   "source": [
    "Puts the last two functions together."
   ]
  },
  {
   "cell_type": "code",
   "execution_count": 110,
   "metadata": {},
   "outputs": [],
   "source": [
    "def equation_for_GA(equation):\n",
    "    equation = char_to_int_array(equation)\n",
    "    equation = add_padding(equation)\n",
    "    return equation"
   ]
  },
  {
   "cell_type": "code",
   "execution_count": 111,
   "metadata": {},
   "outputs": [],
   "source": [
    "def equation_from_GA(equation):\n",
    "    equation = remove_padding(equation)\n",
    "    equation = int_array_to_char(equation)\n",
    "    return equation"
   ]
  },
  {
   "cell_type": "markdown",
   "metadata": {},
   "source": [
    "Get a random part of the equation."
   ]
  },
  {
   "cell_type": "code",
   "execution_count": 112,
   "metadata": {},
   "outputs": [],
   "source": [
    "def get_random_subequation(equation):\n",
    "\n",
    "    open_parentheses = [i for i, char in enumerate(equation) if char == '(']\n",
    "    closed_parentheses = [i for i, char in enumerate(equation) if char == ')']\n",
    "\n",
    "    #if there are no parentheses -> return a random substring with at least 1 operator and 2 operands\n",
    "    if not open_parentheses or not closed_parentheses:\n",
    "        \n",
    "        #chose two random indexes\n",
    "        start_index = random.randint(0, len(equation) - 1)\n",
    "        end_index = random.randint(start_index, len(equation) - 1)\n",
    "\n",
    "        if equation[start_index] in ['+', '-', '*', '/', '**']: \n",
    "            if start_index == 0:\n",
    "                start_index += 1\n",
    "            else:\n",
    "                start_index -= 1\n",
    "        \n",
    "        if equation[end_index] in ['+', '-', '*', '/', '**']:\n",
    "            if end_index == len(equation) - 1:\n",
    "                end_index -= 1\n",
    "            else:\n",
    "                end_index += 1\n",
    "\n",
    "        return equation[start_index:end_index+1]\n",
    "\n",
    "\n",
    "    #if there are only one parentheses\n",
    "    if open_parentheses.__len__() == 1 and closed_parentheses.__len__() == 1:\n",
    "        if np.random.rand() < 0.5:\n",
    "            #take the part between the parentheses\n",
    "            return equation[open_parentheses[0]+1:closed_parentheses[0]]\n",
    "        else:\n",
    "            \n",
    "            #if there is only before parentheses\n",
    "            if closed_parentheses[0] == len(equation) - 1:\n",
    "                return equation[:open_parentheses[0]-1]\n",
    "\n",
    "            #if there is only after parentheses\n",
    "            if open_parentheses[0] == 0:\n",
    "                return equation[closed_parentheses[0]+2:]\n",
    "\n",
    "            #take the part before or after the parentheses\n",
    "            if np.random.rand() < 0.5:\n",
    "                return equation[:open_parentheses[0] - 1]\n",
    "            else:\n",
    "                return equation[closed_parentheses[0] + 2:]\n",
    "\n",
    "    \n",
    "    #if there are more than one parentheses, (room for improvement maybe take somethings outside of the parentheses)\n",
    "    start_index = random.choice(open_parentheses)\n",
    "    possible_end_indexes = [i for i in closed_parentheses if i > start_index]\n",
    "    end_index = random.choice(possible_end_indexes)\n",
    "\n",
    "    return equation[start_index:end_index + 1]"
   ]
  },
  {
   "cell_type": "markdown",
   "metadata": {},
   "source": [
    "Try get random substring"
   ]
  },
  {
   "cell_type": "code",
   "execution_count": 113,
   "metadata": {},
   "outputs": [
    {
     "name": "stdout",
     "output_type": "stream",
     "text": [
      "['(' 'x' '2' ')' '2' '*' '(' 'x' '3' ')' '2' '/' '2']\n"
     ]
    },
    {
     "data": {
      "text/plain": [
       "array(['(', 'x', '2', ')'], dtype='<U32')"
      ]
     },
     "execution_count": 113,
     "metadata": {},
     "output_type": "execute_result"
    }
   ],
   "source": [
    "eq = stringEQtoArray(\"((x + 3) / 2 ) * (x + 2) * ((x + 3) * (x + 2))\")\n",
    "s_eq=stringEQtoArray(simplify_equation(eq))\n",
    "print(s_eq)\n",
    "get_random_subequation(s_eq)"
   ]
  },
  {
   "cell_type": "markdown",
   "metadata": {},
   "source": [
    "Replace a random part of the equation with some other part."
   ]
  },
  {
   "cell_type": "code",
   "execution_count": 114,
   "metadata": {},
   "outputs": [],
   "source": [
    "def replace_random_subequation(equation, replacing_subequation):\n",
    "    open_parentheses = [i for i, char in enumerate(equation) if char == '(']\n",
    "    closed_parentheses = [i for i, char in enumerate(equation) if char == ')']\n",
    "\n",
    "    #add parentheses to the replacing subequation\n",
    "    replacing_subequation = np.append(['('], replacing_subequation)\n",
    "    replacing_subequation = np.append(replacing_subequation, [')'])\n",
    "\n",
    "    #if there are no parentheses \n",
    "    if not open_parentheses or not closed_parentheses:\n",
    "        \n",
    "        #chose two random indexes\n",
    "        start_index = random.randint(0, len(equation) - 1)\n",
    "        end_index = random.randint(start_index, len(equation) - 1)\n",
    "\n",
    "        print(start_index, end_index)\n",
    "\n",
    "        if equation[start_index] in ['+', '-', '*', '/', '**']: \n",
    "            if start_index == 0:\n",
    "                start_index += 1\n",
    "            else:\n",
    "                start_index -= 1\n",
    "        \n",
    "        if equation[end_index] in ['+', '-', '*', '/', '**']:\n",
    "            if end_index == len(equation) - 1:\n",
    "                end_index -= 1\n",
    "            else:\n",
    "                end_index += 1\n",
    "\n",
    "        print(start_index, end_index)\n",
    "\n",
    "        new_equation = np.append(equation[:start_index], replacing_subequation)\n",
    "        new_equation = np.append(new_equation, equation[end_index-1:])\n",
    "\n",
    "        return new_equation\n",
    "\n",
    "    #if there are parentheses\n",
    "    #chose between replacing parentheses or replacing something outside of the parentheses\n",
    "    if np.random.rand() < 0.5:\n",
    "        #replace the parentheses\n",
    "        start_index = random.choice(open_parentheses)\n",
    "        possible_end_indexes = [i for i in closed_parentheses if i > start_index]\n",
    "        end_index = random.choice(possible_end_indexes)\n",
    "\n",
    "        new_equation = np.append(equation[:start_index], replacing_subequation)\n",
    "        new_equation = np.append(new_equation, equation[end_index:])\n",
    "\n",
    "        return new_equation\n",
    "    else:\n",
    "        #replace something outside of the parentheses\n",
    "        \n",
    "        #get the parts outside of the parentheses\n",
    "        lvl = 0\n",
    "        start = []\n",
    "        end = []\n",
    "        for i, char in enumerate(equation):\n",
    "            if i == 0 and char != '(':\n",
    "                start.append(i)\n",
    "\n",
    "            if char == '(':\n",
    "                lvl += 1\n",
    "                if lvl == 1:\n",
    "                    end.append(i)\n",
    "            elif char == ')':\n",
    "                lvl -= 1\n",
    "                if lvl == 0:\n",
    "                    start.append(i)\n",
    "        \n",
    "        if start.__len__() != end.__len__():\n",
    "            end.append(len(equation)-1)\n",
    "\n",
    "        #replace a random part\n",
    "        index = random.randint(0, start.__len__()-1)\n",
    "        start_index = start[index]\n",
    "        end_index = end[index]\n",
    "\n",
    "        replace_index = 0\n",
    "\n",
    "        while True:\n",
    "            random_index = random.randint(start_index, end_index)\n",
    "            if equation[random_index] in ['x'] or equation[random_index].isdigit():\n",
    "                replace_index = random_index\n",
    "                break\n",
    "        \n",
    "        #everything before the replace index\n",
    "        new_equation = equation[:replace_index]\n",
    "        \n",
    "        #the replacing subequation\n",
    "        new_equation = np.append(new_equation, replacing_subequation)\n",
    "\n",
    "        #everything after the replace index\n",
    "        new_equation = np.append(new_equation, equation[replace_index+1:])\n",
    "\n",
    "        return new_equation\n",
    "    "
   ]
  },
  {
   "cell_type": "markdown",
   "metadata": {},
   "source": [
    "Try the replace subequation"
   ]
  },
  {
   "cell_type": "code",
   "execution_count": 115,
   "metadata": {},
   "outputs": [
    {
     "name": "stdout",
     "output_type": "stream",
     "text": [
      "['x' '**' '4']\n",
      "0 2\n",
      "0 2\n",
      "['(' 'x' '**' '2' '+' '2' '*' 'x' ')' '**' '4']\n"
     ]
    }
   ],
   "source": [
    "rand = stringEQtoArray(\"x**2 + 2 * x\")\n",
    "\n",
    "eq2 = stringEQtoArray(\"x**4\")\n",
    "s_eq2=simplify_equation(eq2)\n",
    "print(s_eq2)\n",
    "print(replace_random_subequation(s_eq2,rand))"
   ]
  },
  {
   "cell_type": "markdown",
   "metadata": {},
   "source": [
    "### 3. Genetic algorithm"
   ]
  },
  {
   "cell_type": "code",
   "execution_count": 116,
   "metadata": {},
   "outputs": [
    {
     "name": "stdout",
     "output_type": "stream",
     "text": [
      "['(' '(' '(' 'x' '-' '1' ')' '-' '3' ')' '/' '5' ')']\n",
      "[  1.   2.   3.   4.   5.   6.   7.   8.   9.  10.  11.  12.  13.  14.\n",
      "  15.  16.  17.  18.  19.  20.  21.  22.  23.  24.  25.  26.  27.  28.\n",
      "  29.  30.  31.  32.  33.  34.  35.  36.  37.  38.  39.  40.  41.  42.\n",
      "  43.  44.  45.  46.  47.  48.  49.  50.  51.  52.  53.  54.  55.  56.\n",
      "  57.  58.  59.  60.  61.  62.  63.  64.  65.  66.  67.  68.  69.  70.\n",
      "  71.  72.  73.  74.  75.  76.  77.  78.  79.  80.  81.  82.  83.  84.\n",
      "  85.  86.  87.  88.  89.  90.  91.  92.  93.  94.  95.  96.  97.  98.\n",
      "  99. 100.]\n",
      "[-0.6 -0.4 -0.2  0.   0.2  0.4  0.6  0.8  1.   1.2  1.4  1.6  1.8  2.\n",
      "  2.2  2.4  2.6  2.8  3.   3.2  3.4  3.6  3.8  4.   4.2  4.4  4.6  4.8\n",
      "  5.   5.2  5.4  5.6  5.8  6.   6.2  6.4  6.6  6.8  7.   7.2  7.4  7.6\n",
      "  7.8  8.   8.2  8.4  8.6  8.8  9.   9.2  9.4  9.6  9.8 10.  10.2 10.4\n",
      " 10.6 10.8 11.  11.2 11.4 11.6 11.8 12.  12.2 12.4 12.6 12.8 13.  13.2\n",
      " 13.4 13.6 13.8 14.  14.2 14.4 14.6 14.8 15.  15.2 15.4 15.6 15.8 16.\n",
      " 16.2 16.4 16.6 16.8 17.  17.2 17.4 17.6 17.8 18.  18.2 18.4 18.6 18.8\n",
      " 19.  19.2]\n"
     ]
    }
   ],
   "source": [
    "#trying for the first equation first\n",
    "eq_num = 2\n",
    "\n",
    "true_equation = stringEQtoArray(dataset.iloc[eq_num].values[0])\n",
    "inputs = stringArrayToArray(dataset.iloc[eq_num].values[1])\n",
    "outputs = np.array(stringArrayToArray(dataset.iloc[eq_num].values[2]))\n",
    "\n",
    "print(true_equation)\n",
    "print(inputs)\n",
    "print(outputs)"
   ]
  },
  {
   "cell_type": "markdown",
   "metadata": {},
   "source": [
    "`Model` returns an array of function outputs and a equation length."
   ]
  },
  {
   "cell_type": "code",
   "execution_count": 117,
   "metadata": {},
   "outputs": [],
   "source": [
    "def model(equation):\n",
    "    print(\"modelS\")\n",
    "\n",
    "    equation = equation_from_GA(equation)\n",
    "\n",
    "    #rmaybe remove all the () from the equation for the length???\n",
    "    # equation = [x for x in equation if x != '(' and x != ')']\n",
    "    # equation = np.array(equation)\n",
    "    equation_length = len(equation)\n",
    "\n",
    "    equationString = arrayEQtoString(equation)\n",
    "    equationOutputs = evaluteEquation(equationString, 100)\n",
    "            \n",
    "    return equationOutputs, equation_length\n"
   ]
  },
  {
   "cell_type": "markdown",
   "metadata": {},
   "source": [
    "`Fitness function` returns the fitness of a given equation."
   ]
  },
  {
   "cell_type": "code",
   "execution_count": 118,
   "metadata": {},
   "outputs": [],
   "source": [
    "def fitness_func(ga_instance, solution, solution_idx):\n",
    "    print(\"FitnesS\")\n",
    "    \n",
    "    model_outputs,equation_length = model(solution)\n",
    "  \n",
    "    try:\n",
    "\n",
    "        #change if needed, especialy equation length#\n",
    "\n",
    "        error = np.sum(np.log10(np.abs(model_outputs - outputs) + 1)) + equation_length*0.1\n",
    "\n",
    "        if error < 0:\n",
    "            error = -error\n",
    "\n",
    "    except:\n",
    "        error = np.inf\n",
    "\n",
    "    #print(\"Fitness: \", -error, \"ga_instance.generation: \", ga_instance.generations_completed, \"solution_idx: \", solution_idx)\n",
    "\n",
    "    return -error"
   ]
  },
  {
   "cell_type": "markdown",
   "metadata": {},
   "source": [
    "Try fitness."
   ]
  },
  {
   "cell_type": "code",
   "execution_count": 119,
   "metadata": {},
   "outputs": [
    {
     "name": "stdout",
     "output_type": "stream",
     "text": [
      "FitnesS\n",
      "modelS\n",
      "-1.3\n"
     ]
    }
   ],
   "source": [
    "print(fitness_func(None, equation_for_GA(true_equation), 0))"
   ]
  },
  {
   "cell_type": "markdown",
   "metadata": {},
   "source": [
    "`Crossover function` receives  `N parents` and returns ` N children`."
   ]
  },
  {
   "cell_type": "code",
   "execution_count": 120,
   "metadata": {},
   "outputs": [],
   "source": [
    "def crossover_func(parents, offspring_size, ga_instance):\n",
    "    print(\"CrossoverS\")\n",
    "    number_of_parents = len(parents)\n",
    "\n",
    "    array = np.empty((0, maxEquationLength))\n",
    "    \n",
    "    for i in range(0, number_of_parents, 2):\n",
    "        parent1 = sympify(arrayEQtoString(equation_from_GA(parents[i])))\n",
    "        parent2 = sympify(arrayEQtoString(equation_from_GA(parents[i+1])))\n",
    "  \n",
    "        x = symbols('x')\n",
    "\n",
    "        subexpressions_parent1 = list(parent1.find(lambda x: x.is_Add or x.is_Mul or x.is_Pow or x.is_Symbol))\n",
    "        subexpression_to_replace = random.choice(subexpressions_parent1)\n",
    "\n",
    "        subexpressions_parent2 = list(parent2.find(lambda x: x.is_Add or x.is_Mul or x.is_Pow or x.is_Symbol))\n",
    "        subexpression_replacement = random.choice(subexpressions_parent2)\n",
    "\n",
    "        new_equation = parent1.subs(subexpression_to_replace,subexpression_replacement)\n",
    "\n",
    "        child = stringEQtoArray(str(new_equation))\n",
    "        child = simplify_equation(child)\n",
    "        child = equation_for_GA(child)\n",
    "\n",
    "        #add the child array to the array\n",
    "        child_array = np.array(child, dtype=int).reshape(1, -1)\n",
    "        array = np.vstack((array, child_array))\n",
    "\n",
    "    return array  "
   ]
  },
  {
   "cell_type": "markdown",
   "metadata": {},
   "source": [
    "Try crossover."
   ]
  },
  {
   "cell_type": "code",
   "execution_count": 121,
   "metadata": {},
   "outputs": [
    {
     "name": "stdout",
     "output_type": "stream",
     "text": [
      "CrossoverS\n",
      "['x', '*', '(', 'x', '+', '1', ')']\n"
     ]
    }
   ],
   "source": [
    "parents = [equation_for_GA(stringEQtoArray(\"x**2 + 2 * x\")), equation_for_GA(stringEQtoArray(\"x**4\"))]\n",
    "\n",
    "print(equation_from_GA(crossover_func(parents, 2, None)[0]))"
   ]
  },
  {
   "cell_type": "markdown",
   "metadata": {},
   "source": [
    "`Mutation function ` receives N equations and returns N `mutated` equations."
   ]
  },
  {
   "cell_type": "code",
   "execution_count": 122,
   "metadata": {},
   "outputs": [],
   "source": [
    "def mutation_func(offspring, ga_instance):\n",
    "    print(\"MutationS\")\n",
    "    array = np.empty((0, maxEquationLength))\n",
    "\n",
    "    for j in range(len(offspring)):\n",
    "\n",
    "        eq_mutated = equation_from_GA(offspring[j])\n",
    "\n",
    "        #Mutation type 1\n",
    "        if np.random.rand() > 0.2:\n",
    "            while True:\n",
    "                \n",
    "                i = random.randrange(len(eq_mutated))\n",
    "\n",
    "                # changes a random operator\n",
    "                if eq_mutated[i] in ['+', '-', '*', '/', '**']:              \n",
    "                    eq_mutated[i] = np.random.choice(['+', '-', '*', '/', '**'])\n",
    "                    break\n",
    "                # changes a random number\n",
    "                elif eq_mutated[i].isdigit():\n",
    "                    random_number = str(np.random.randint(-10, 10))\n",
    "                    if random_number == '0':\n",
    "                        random_number = '1'\n",
    "                    eq_mutated[i] = random_number\n",
    "                    break\n",
    "                #change the x to ( x + random number )\n",
    "                elif eq_mutated[i] == 'x':\n",
    "                    eq_mutated[i] = '('\n",
    "                    random_number = str(np.random.randint(1, 10))\n",
    "                    eq_mutated = np.insert(eq_mutated, i+1, ['x', '+', str(random_number), ')'])\n",
    "                    break\n",
    "        #Mutation type 2\n",
    "        else:\n",
    "            #if it doesnt have () on the start and the end add them\n",
    "            if eq_mutated[0] != '(' and eq_mutated[-1] != ')':\n",
    "                eq_mutated = np.append(['('], eq_mutated)\n",
    "                eq_mutated = np.append(eq_mutated, [')'])\n",
    "\n",
    "            #add a random operator and a random number on the start or the end\n",
    "            if np.random.rand() > 0.5:\n",
    "                #add on the start\n",
    "                eq_mutated = np.insert(eq_mutated, 0, np.random.choice(['+', '-', '*', '/']))\n",
    "                random_number = str(np.random.randint(1, 10))\n",
    "                eq_mutated = np.insert(eq_mutated, 0, random_number)\n",
    "            else:\n",
    "                #add on the end\n",
    "                eq_mutated = np.append(eq_mutated, np.random.choice(['+', '-', '*', '/']))\n",
    "                random_number = str(np.random.randint(1, 10))\n",
    "                eq_mutated = np.append(eq_mutated, random_number)\n",
    "\n",
    "        #check if the equation is valid\n",
    "        if not is_valid(eq_mutated):\n",
    "            eq_mutated = equation_from_GA(offspring[j])\n",
    "\n",
    "\n",
    "        eq_mutated = simplify_equation(eq_mutated)\n",
    "\n",
    "        #check if the equation is valid\n",
    "        if not is_valid(eq_mutated):\n",
    "            eq_mutated = equation_from_GA(offspring[j])\n",
    "    \n",
    "\n",
    "        offspring_array = np.array(equation_for_GA(eq_mutated), dtype=int).reshape(1, -1)\n",
    "        array = np.vstack((array, offspring_array)).astype(int)\n",
    "\n",
    "    # print(\"Mutation: \")\n",
    "    # for i in array:\n",
    "    #     print(equation_from_GA(i))\n",
    "\n",
    "    return array"
   ]
  },
  {
   "cell_type": "markdown",
   "metadata": {},
   "source": [
    "Try mutation."
   ]
  },
  {
   "cell_type": "code",
   "execution_count": 123,
   "metadata": {},
   "outputs": [
    {
     "name": "stdout",
     "output_type": "stream",
     "text": [
      "MutationS\n",
      "1\n",
      "2\n",
      "3\n"
     ]
    },
    {
     "data": {
      "text/plain": [
       "['x']"
      ]
     },
     "execution_count": 123,
     "metadata": {},
     "output_type": "execute_result"
    }
   ],
   "source": [
    "equation_from_GA(mutation_func(np.array([equation_for_GA(['x','+','1'])]), 1)[0])"
   ]
  },
  {
   "cell_type": "markdown",
   "metadata": {},
   "source": [
    "Initialize the population."
   ]
  },
  {
   "cell_type": "code",
   "execution_count": 124,
   "metadata": {},
   "outputs": [],
   "source": [
    "pop1 = [['x','+', '1']] + [['x','+', '2']] +[['x','+', '3']] + [['x','+', '4']] + [['x','+', '5']] +[['x','+', '6']] + [['x','+', '7']] + [['x','+', '8']] + [['x','+', '9']]\n",
    "pop2 = [['x','*', '1']] + [['x','*', '2']] +[['x','*', '3']] + [['x','*', '4']] + [['x','*', '5']]  + [['x','*', '6']] +[['x','*', '7']] + [['x','*', '8']] + [['x','*', '9']]\n",
    "pop3 = [['x','**', '2']] +[['x','**', '3']] + [['x','**', '4']] + [['x','**', '5']] + [['x','**', '6']] +[['x','**', '7']] + [['x','**', '8']] + [['x','**', '9']]\n",
    "pop4 = [['x','/', '2']] +[['x','/', '3']] + [['x','/', '4']] + [['x','/', '5']] + [['x','/', '6']] +[['x','/', '7']] + [['x','/', '8']] + [['x','/', '9']]\n",
    "\n",
    "initial_population = pop1 + pop2 + pop3 + pop4\n",
    "\n",
    "#transform the initial population to a int array\n",
    "initial_population = [equation_for_GA(i) for i in initial_population]\n",
    "\n",
    "gene_space = np.array([ord('x'), ord('+'), ord('-'), ord('*'), ord('/'), 420, 1, 2, 3, 4, 5, 6, 7, 8, 9,-1, -2, -3, -4, -5, -6, -7, -8, -9])"
   ]
  },
  {
   "cell_type": "code",
   "execution_count": 125,
   "metadata": {},
   "outputs": [
    {
     "name": "stdout",
     "output_type": "stream",
     "text": [
      "sol_per_pop:  34\n",
      "num_parents_mating:  20\n",
      "keep_elitism:  24\n"
     ]
    }
   ],
   "source": [
    "sol_per_pop = initial_population.__len__()\n",
    "num_parents_mating = 20\n",
    "keep_elitism = int(sol_per_pop - num_parents_mating/2)\n",
    "\n",
    "print(\"sol_per_pop: \", sol_per_pop)\n",
    "print(\"num_parents_mating: \", num_parents_mating)\n",
    "print(\"keep_elitism: \", keep_elitism)"
   ]
  },
  {
   "cell_type": "code",
   "execution_count": 126,
   "metadata": {},
   "outputs": [],
   "source": [
    "def printCrossover(x,y):\n",
    "    print(\"Crossover\")\n",
    "\n",
    "def printMutation(x,y):\n",
    "    print(\"Mutation\")\n",
    "\n",
    "def printFitness(x,y):\n",
    "    print(\"Fitness\")\n",
    "\n",
    "def printParents(y,parents):\n",
    "    print(\"Parents\")"
   ]
  },
  {
   "cell_type": "code",
   "execution_count": 127,
   "metadata": {},
   "outputs": [
    {
     "name": "stdout",
     "output_type": "stream",
     "text": [
      "Equation:  0\n",
      "FitnesS\n",
      "modelS\n",
      "FitnesS\n",
      "modelS\n",
      "FitnesS\n",
      "modelS\n",
      "FitnesS\n",
      "modelS\n",
      "FitnesS\n",
      "modelS\n",
      "FitnesS\n",
      "modelS\n",
      "FitnesS\n",
      "modelS\n",
      "FitnesS\n",
      "modelS\n",
      "FitnesS\n",
      "modelS\n",
      "FitnesS\n",
      "modelS\n",
      "FitnesS\n",
      "modelS\n",
      "FitnesS\n",
      "modelS\n",
      "FitnesS\n",
      "modelS\n",
      "FitnesS\n",
      "modelS\n",
      "FitnesS\n",
      "modelS\n",
      "FitnesS\n",
      "modelS\n",
      "FitnesS\n",
      "modelS\n",
      "FitnesS\n",
      "modelS\n",
      "FitnesS\n",
      "modelS\n",
      "FitnesS\n",
      "modelS\n",
      "FitnesS\n",
      "modelS\n",
      "FitnesS\n",
      "modelS\n",
      "FitnesS\n",
      "modelS\n",
      "FitnesS\n",
      "modelS\n",
      "FitnesS\n",
      "modelS\n",
      "FitnesS\n",
      "modelS\n",
      "FitnesS\n",
      "modelS\n",
      "FitnesS\n",
      "modelS\n",
      "FitnesS\n",
      "modelS\n",
      "FitnesS\n",
      "modelS\n",
      "FitnesS\n",
      "modelS\n",
      "FitnesS\n",
      "modelS\n",
      "FitnesS\n",
      "modelS\n",
      "FitnesS\n",
      "modelS\n",
      "Fitness\n",
      "Parents\n",
      "CrossoverS\n"
     ]
    },
    {
     "name": "stderr",
     "output_type": "stream",
     "text": [
      "Sympify of expression 'could not parse '2 5 * x ** 2 '' failed, because of exception being raised:\n",
      "SyntaxError: invalid syntax (<string>, line 1)\n",
      "ValueError: Error from parse_expr with transformed code: \"Integer (2 )Integer (5 )*Symbol ('x' )**Integer (2 )\"\n",
      "\n",
      "The above exception was the direct cause of the following exception:\n",
      "\n",
      "Traceback (most recent call last):\n",
      "  File \"/Library/Frameworks/Python.framework/Versions/3.12/lib/python3.12/site-packages/sympy/core/sympify.py\", line 495, in sympify\n",
      "    expr = parse_expr(a, local_dict=locals, transformations=transformations, evaluate=evaluate)\n",
      "           ^^^^^^^^^^^^^^^^^^^^^^^^^^^^^^^^^^^^^^^^^^^^^^^^^^^^^^^^^^^^^^^^^^^^^^^^^^^^^^^^^^^^\n",
      "  File \"/Library/Frameworks/Python.framework/Versions/3.12/lib/python3.12/site-packages/sympy/parsing/sympy_parser.py\", line 1087, in parse_expr\n",
      "    raise e from ValueError(f\"Error from parse_expr with transformed code: {code!r}\")\n",
      "  File \"/Library/Frameworks/Python.framework/Versions/3.12/lib/python3.12/site-packages/sympy/parsing/sympy_parser.py\", line 1078, in parse_expr\n",
      "    rv = eval_expr(code, local_dict, global_dict)\n",
      "         ^^^^^^^^^^^^^^^^^^^^^^^^^^^^^^^^^^^^^^^^\n",
      "  File \"/Library/Frameworks/Python.framework/Versions/3.12/lib/python3.12/site-packages/sympy/parsing/sympy_parser.py\", line 906, in eval_expr\n",
      "    expr = eval(\n",
      "           ^^^^^\n",
      "  File \"<string>\", line 1\n",
      "    Integer (2 )Integer (5 )*Symbol ('x' )**Integer (2 )\n",
      "                ^^^^^^^\n",
      "SyntaxError: invalid syntax\n",
      "\n",
      "During handling of the above exception, another exception occurred:\n",
      "\n",
      "Traceback (most recent call last):\n",
      "  File \"/Library/Frameworks/Python.framework/Versions/3.12/lib/python3.12/site-packages/pygad/pygad.py\", line 2020, in run\n",
      "    self.last_generation_offspring_crossover = self.crossover(self.last_generation_parents,\n",
      "                                               ^^^^^^^^^^^^^^^^^^^^^^^^^^^^^^^^^^^^^^^^^^^^\n",
      "  File \"/var/folders/r_/0ymw_h356pqcpslcb7w07lfd183tlj/T/ipykernel_7755/534229669.py\", line 22, in crossover_func\n",
      "    child = simplify_equation(child)\n",
      "            ^^^^^^^^^^^^^^^^^^^^^^^^\n",
      "  File \"/var/folders/r_/0ymw_h356pqcpslcb7w07lfd183tlj/T/ipykernel_7755/2819594568.py\", line 7, in simplify_equation\n",
      "    simp_equation = simplify(equationString)\n",
      "                    ^^^^^^^^^^^^^^^^^^^^^^^^\n",
      "  File \"/Library/Frameworks/Python.framework/Versions/3.12/lib/python3.12/site-packages/sympy/simplify/simplify.py\", line 588, in simplify\n",
      "    expr = sympify(expr, rational=rational)\n",
      "           ^^^^^^^^^^^^^^^^^^^^^^^^^^^^^^^^\n",
      "  File \"/Library/Frameworks/Python.framework/Versions/3.12/lib/python3.12/site-packages/sympy/core/sympify.py\", line 497, in sympify\n",
      "    raise SympifyError('could not parse %r' % a, exc)\n",
      "sympy.core.sympify.SympifyError: Sympify of expression 'could not parse '2 5 * x ** 2 '' failed, because of exception being raised:\n",
      "SyntaxError: invalid syntax (<string>, line 1)\n"
     ]
    },
    {
     "ename": "AttributeError",
     "evalue": "'tuple' object has no attribute 'tb_frame'",
     "output_type": "error",
     "traceback": [
      "\u001b[0;31m---------------------------------------------------------------------------\u001b[0m",
      "\u001b[0;31mValueError\u001b[0m                                Traceback (most recent call last)",
      "\u001b[0;31mValueError\u001b[0m: Error from parse_expr with transformed code: \"Integer (2 )Integer (5 )*Symbol ('x' )**Integer (2 )\"",
      "\nThe above exception was the direct cause of the following exception:\n",
      "\u001b[0;31mSyntaxError\u001b[0m                               Traceback (most recent call last)",
      "File \u001b[0;32m/Library/Frameworks/Python.framework/Versions/3.12/lib/python3.12/site-packages/sympy/core/sympify.py:495\u001b[0m, in \u001b[0;36msympify\u001b[0;34m(a, locals, convert_xor, strict, rational, evaluate)\u001b[0m\n\u001b[1;32m    494\u001b[0m     a \u001b[39m=\u001b[39m a\u001b[39m.\u001b[39mreplace(\u001b[39m'\u001b[39m\u001b[39m\\n\u001b[39;00m\u001b[39m'\u001b[39m, \u001b[39m'\u001b[39m\u001b[39m'\u001b[39m)\n\u001b[0;32m--> 495\u001b[0m     expr \u001b[39m=\u001b[39m parse_expr(a, local_dict\u001b[39m=\u001b[39;49m\u001b[39mlocals\u001b[39;49m, transformations\u001b[39m=\u001b[39;49mtransformations, evaluate\u001b[39m=\u001b[39;49mevaluate)\n\u001b[1;32m    496\u001b[0m \u001b[39mexcept\u001b[39;00m (TokenError, \u001b[39mSyntaxError\u001b[39;00m) \u001b[39mas\u001b[39;00m exc:\n",
      "File \u001b[0;32m/Library/Frameworks/Python.framework/Versions/3.12/lib/python3.12/site-packages/sympy/parsing/sympy_parser.py:1087\u001b[0m, in \u001b[0;36mparse_expr\u001b[0;34m(s, local_dict, transformations, global_dict, evaluate)\u001b[0m\n\u001b[1;32m   1086\u001b[0m     local_dict[i] \u001b[39m=\u001b[39m null\n\u001b[0;32m-> 1087\u001b[0m \u001b[39mraise\u001b[39;00m e \u001b[39mfrom\u001b[39;00m \u001b[39mValueError\u001b[39;00m(\u001b[39mf\u001b[39m\u001b[39m\"\u001b[39m\u001b[39mError from parse_expr with transformed code: \u001b[39m\u001b[39m{\u001b[39;00mcode\u001b[39m!r}\u001b[39;00m\u001b[39m\"\u001b[39m)\n",
      "File \u001b[0;32m/Library/Frameworks/Python.framework/Versions/3.12/lib/python3.12/site-packages/sympy/parsing/sympy_parser.py:1078\u001b[0m, in \u001b[0;36mparse_expr\u001b[0;34m(s, local_dict, transformations, global_dict, evaluate)\u001b[0m\n\u001b[1;32m   1077\u001b[0m \u001b[39mtry\u001b[39;00m:\n\u001b[0;32m-> 1078\u001b[0m     rv \u001b[39m=\u001b[39m eval_expr(code, local_dict, global_dict)\n\u001b[1;32m   1079\u001b[0m     \u001b[39m# restore neutral definitions for names\u001b[39;00m\n",
      "File \u001b[0;32m/Library/Frameworks/Python.framework/Versions/3.12/lib/python3.12/site-packages/sympy/parsing/sympy_parser.py:906\u001b[0m, in \u001b[0;36meval_expr\u001b[0;34m(code, local_dict, global_dict)\u001b[0m\n\u001b[1;32m    901\u001b[0m \u001b[39m\u001b[39m\u001b[39m\"\"\"\u001b[39;00m\n\u001b[1;32m    902\u001b[0m \u001b[39mEvaluate Python code generated by ``stringify_expr``.\u001b[39;00m\n\u001b[1;32m    903\u001b[0m \n\u001b[1;32m    904\u001b[0m \u001b[39mGenerally, ``parse_expr`` should be used.\u001b[39;00m\n\u001b[1;32m    905\u001b[0m \u001b[39m\"\"\"\u001b[39;00m\n\u001b[0;32m--> 906\u001b[0m expr \u001b[39m=\u001b[39m \u001b[39meval\u001b[39;49m(\n\u001b[1;32m    907\u001b[0m     code, global_dict, local_dict)  \u001b[39m# take local objects in preference\u001b[39;00m\n\u001b[1;32m    908\u001b[0m \u001b[39mreturn\u001b[39;00m expr\n",
      "\u001b[0;31mSyntaxError\u001b[0m: invalid syntax (<string>, line 1)",
      "\nDuring handling of the above exception, another exception occurred:\n",
      "\u001b[0;31mSympifyError\u001b[0m                              Traceback (most recent call last)",
      "File \u001b[0;32m/Library/Frameworks/Python.framework/Versions/3.12/lib/python3.12/site-packages/pygad/pygad.py:2020\u001b[0m, in \u001b[0;36mGA.run\u001b[0;34m(self)\u001b[0m\n\u001b[1;32m   2019\u001b[0m \u001b[39mif\u001b[39;00m \u001b[39mcallable\u001b[39m(\u001b[39mself\u001b[39m\u001b[39m.\u001b[39mcrossover_type):\n\u001b[0;32m-> 2020\u001b[0m     \u001b[39mself\u001b[39m\u001b[39m.\u001b[39mlast_generation_offspring_crossover \u001b[39m=\u001b[39m \u001b[39mself\u001b[39;49m\u001b[39m.\u001b[39;49mcrossover(\u001b[39mself\u001b[39;49m\u001b[39m.\u001b[39;49mlast_generation_parents,\n\u001b[1;32m   2021\u001b[0m                                                             (\u001b[39mself\u001b[39;49m\u001b[39m.\u001b[39;49mnum_offspring,\n\u001b[1;32m   2022\u001b[0m                                                             \u001b[39mself\u001b[39;49m\u001b[39m.\u001b[39;49mnum_genes),\n\u001b[1;32m   2023\u001b[0m                                                             \u001b[39mself\u001b[39;49m)\n\u001b[1;32m   2024\u001b[0m     \u001b[39mif\u001b[39;00m \u001b[39mnot\u001b[39;00m \u001b[39mtype\u001b[39m(\u001b[39mself\u001b[39m\u001b[39m.\u001b[39mlast_generation_offspring_crossover) \u001b[39mis\u001b[39;00m numpy\u001b[39m.\u001b[39mndarray:\n",
      "\u001b[1;32m/Users/v.kalisnik/Documents/Faks/IS/assignment1/assignment.ipynb Cell 59\u001b[0m line \u001b[0;36m2\n\u001b[1;32m     <a href='vscode-notebook-cell:/Users/v.kalisnik/Documents/Faks/IS/assignment1/assignment.ipynb#Y224sZmlsZQ%3D%3D?line=20'>21</a>\u001b[0m child \u001b[39m=\u001b[39m stringEQtoArray(\u001b[39mstr\u001b[39m(new_equation))\n\u001b[0;32m---> <a href='vscode-notebook-cell:/Users/v.kalisnik/Documents/Faks/IS/assignment1/assignment.ipynb#Y224sZmlsZQ%3D%3D?line=21'>22</a>\u001b[0m child \u001b[39m=\u001b[39m simplify_equation(child)\n\u001b[1;32m     <a href='vscode-notebook-cell:/Users/v.kalisnik/Documents/Faks/IS/assignment1/assignment.ipynb#Y224sZmlsZQ%3D%3D?line=22'>23</a>\u001b[0m child \u001b[39m=\u001b[39m equation_for_GA(child)\n",
      "\u001b[1;32m/Users/v.kalisnik/Documents/Faks/IS/assignment1/assignment.ipynb Cell 59\u001b[0m line \u001b[0;36m7\n\u001b[1;32m      <a href='vscode-notebook-cell:/Users/v.kalisnik/Documents/Faks/IS/assignment1/assignment.ipynb#Y224sZmlsZQ%3D%3D?line=4'>5</a>\u001b[0m equationString \u001b[39m=\u001b[39m arrayEQtoString(equation)\n\u001b[0;32m----> <a href='vscode-notebook-cell:/Users/v.kalisnik/Documents/Faks/IS/assignment1/assignment.ipynb#Y224sZmlsZQ%3D%3D?line=6'>7</a>\u001b[0m simp_equation \u001b[39m=\u001b[39m simplify(equationString)\n\u001b[1;32m      <a href='vscode-notebook-cell:/Users/v.kalisnik/Documents/Faks/IS/assignment1/assignment.ipynb#Y224sZmlsZQ%3D%3D?line=7'>8</a>\u001b[0m \u001b[39m#print(simp_equation)\u001b[39;00m\n",
      "File \u001b[0;32m/Library/Frameworks/Python.framework/Versions/3.12/lib/python3.12/site-packages/sympy/simplify/simplify.py:588\u001b[0m, in \u001b[0;36msimplify\u001b[0;34m(expr, ratio, measure, rational, inverse, doit, **kwargs)\u001b[0m\n\u001b[1;32m    586\u001b[0m     \u001b[39mreturn\u001b[39;00m shorter(rv, collect_abs(rv))\n\u001b[0;32m--> 588\u001b[0m expr \u001b[39m=\u001b[39m sympify(expr, rational\u001b[39m=\u001b[39;49mrational)\n\u001b[1;32m    589\u001b[0m kwargs \u001b[39m=\u001b[39m {\n\u001b[1;32m    590\u001b[0m     \u001b[39m\"\u001b[39m\u001b[39mratio\u001b[39m\u001b[39m\"\u001b[39m: kwargs\u001b[39m.\u001b[39mget(\u001b[39m'\u001b[39m\u001b[39mratio\u001b[39m\u001b[39m'\u001b[39m, ratio),\n\u001b[1;32m    591\u001b[0m     \u001b[39m\"\u001b[39m\u001b[39mmeasure\u001b[39m\u001b[39m\"\u001b[39m: kwargs\u001b[39m.\u001b[39mget(\u001b[39m'\u001b[39m\u001b[39mmeasure\u001b[39m\u001b[39m'\u001b[39m, measure),\n\u001b[1;32m    592\u001b[0m     \u001b[39m\"\u001b[39m\u001b[39mrational\u001b[39m\u001b[39m\"\u001b[39m: kwargs\u001b[39m.\u001b[39mget(\u001b[39m'\u001b[39m\u001b[39mrational\u001b[39m\u001b[39m'\u001b[39m, rational),\n\u001b[1;32m    593\u001b[0m     \u001b[39m\"\u001b[39m\u001b[39minverse\u001b[39m\u001b[39m\"\u001b[39m: kwargs\u001b[39m.\u001b[39mget(\u001b[39m'\u001b[39m\u001b[39minverse\u001b[39m\u001b[39m'\u001b[39m, inverse),\n\u001b[1;32m    594\u001b[0m     \u001b[39m\"\u001b[39m\u001b[39mdoit\u001b[39m\u001b[39m\"\u001b[39m: kwargs\u001b[39m.\u001b[39mget(\u001b[39m'\u001b[39m\u001b[39mdoit\u001b[39m\u001b[39m'\u001b[39m, doit)}\n",
      "File \u001b[0;32m/Library/Frameworks/Python.framework/Versions/3.12/lib/python3.12/site-packages/sympy/core/sympify.py:497\u001b[0m, in \u001b[0;36msympify\u001b[0;34m(a, locals, convert_xor, strict, rational, evaluate)\u001b[0m\n\u001b[1;32m    496\u001b[0m \u001b[39mexcept\u001b[39;00m (TokenError, \u001b[39mSyntaxError\u001b[39;00m) \u001b[39mas\u001b[39;00m exc:\n\u001b[0;32m--> 497\u001b[0m     \u001b[39mraise\u001b[39;00m SympifyError(\u001b[39m'\u001b[39m\u001b[39mcould not parse \u001b[39m\u001b[39m%r\u001b[39;00m\u001b[39m'\u001b[39m \u001b[39m%\u001b[39m a, exc)\n\u001b[1;32m    499\u001b[0m \u001b[39mreturn\u001b[39;00m expr\n",
      "\u001b[0;31mSympifyError\u001b[0m: Sympify of expression 'could not parse '2 5 * x ** 2 '' failed, because of exception being raised:\nSyntaxError: invalid syntax (<string>, line 1)",
      "\nDuring handling of the above exception, another exception occurred:\n",
      "\u001b[0;31mSystemExit\u001b[0m                                Traceback (most recent call last)",
      "    \u001b[0;31m[... skipping hidden 1 frame]\u001b[0m\n",
      "\u001b[1;32m/Users/v.kalisnik/Documents/Faks/IS/assignment1/assignment.ipynb Cell 59\u001b[0m line \u001b[0;36m2\n\u001b[1;32m     <a href='vscode-notebook-cell:/Users/v.kalisnik/Documents/Faks/IS/assignment1/assignment.ipynb#Y224sZmlsZQ%3D%3D?line=9'>10</a>\u001b[0m ga_instance \u001b[39m=\u001b[39m pygad\u001b[39m.\u001b[39mGA(num_generations\u001b[39m=\u001b[39m\u001b[39m200\u001b[39m,\n\u001b[1;32m     <a href='vscode-notebook-cell:/Users/v.kalisnik/Documents/Faks/IS/assignment1/assignment.ipynb#Y224sZmlsZQ%3D%3D?line=10'>11</a>\u001b[0m                     num_parents_mating\u001b[39m=\u001b[39mnum_parents_mating,\n\u001b[1;32m     <a href='vscode-notebook-cell:/Users/v.kalisnik/Documents/Faks/IS/assignment1/assignment.ipynb#Y224sZmlsZQ%3D%3D?line=11'>12</a>\u001b[0m                     fitness_func\u001b[39m=\u001b[39mfitness_func,\n\u001b[0;32m   (...)\u001b[0m\n\u001b[1;32m     <a href='vscode-notebook-cell:/Users/v.kalisnik/Documents/Faks/IS/assignment1/assignment.ipynb#Y224sZmlsZQ%3D%3D?line=24'>25</a>\u001b[0m                     on_fitness\u001b[39m=\u001b[39mprintFitness,\n\u001b[1;32m     <a href='vscode-notebook-cell:/Users/v.kalisnik/Documents/Faks/IS/assignment1/assignment.ipynb#Y224sZmlsZQ%3D%3D?line=25'>26</a>\u001b[0m                     on_parents\u001b[39m=\u001b[39mprintParents)\n\u001b[0;32m---> <a href='vscode-notebook-cell:/Users/v.kalisnik/Documents/Faks/IS/assignment1/assignment.ipynb#Y224sZmlsZQ%3D%3D?line=27'>28</a>\u001b[0m ga_instance\u001b[39m.\u001b[39;49mrun()\n\u001b[1;32m     <a href='vscode-notebook-cell:/Users/v.kalisnik/Documents/Faks/IS/assignment1/assignment.ipynb#Y224sZmlsZQ%3D%3D?line=29'>30</a>\u001b[0m \u001b[39mprint\u001b[39m(ga_instance\u001b[39m.\u001b[39mplot_fitness())\n",
      "File \u001b[0;32m/Library/Frameworks/Python.framework/Versions/3.12/lib/python3.12/site-packages/pygad/pygad.py:2182\u001b[0m, in \u001b[0;36mGA.run\u001b[0;34m(self)\u001b[0m\n\u001b[1;32m   2181\u001b[0m \u001b[39mself\u001b[39m\u001b[39m.\u001b[39mlogger\u001b[39m.\u001b[39mexception(ex)\n\u001b[0;32m-> 2182\u001b[0m sys\u001b[39m.\u001b[39;49mexit(\u001b[39m-\u001b[39;49m\u001b[39m1\u001b[39;49m)\n",
      "\u001b[0;31mSystemExit\u001b[0m: -1",
      "\nDuring handling of the above exception, another exception occurred:\n",
      "\u001b[0;31mAttributeError\u001b[0m                            Traceback (most recent call last)",
      "    \u001b[0;31m[... skipping hidden 1 frame]\u001b[0m\n",
      "File \u001b[0;32m~/Library/Python/3.12/lib/python/site-packages/IPython/core/interactiveshell.py:2119\u001b[0m, in \u001b[0;36mInteractiveShell.showtraceback\u001b[0;34m(self, exc_tuple, filename, tb_offset, exception_only, running_compiled_code)\u001b[0m\n\u001b[1;32m   2116\u001b[0m \u001b[39mif\u001b[39;00m exception_only:\n\u001b[1;32m   2117\u001b[0m     stb \u001b[39m=\u001b[39m [\u001b[39m'\u001b[39m\u001b[39mAn exception has occurred, use \u001b[39m\u001b[39m%\u001b[39m\u001b[39mtb to see \u001b[39m\u001b[39m'\u001b[39m\n\u001b[1;32m   2118\u001b[0m            \u001b[39m'\u001b[39m\u001b[39mthe full traceback.\u001b[39m\u001b[39m\\n\u001b[39;00m\u001b[39m'\u001b[39m]\n\u001b[0;32m-> 2119\u001b[0m     stb\u001b[39m.\u001b[39mextend(\u001b[39mself\u001b[39;49m\u001b[39m.\u001b[39;49mInteractiveTB\u001b[39m.\u001b[39;49mget_exception_only(etype,\n\u001b[1;32m   2120\u001b[0m                                                      value))\n\u001b[1;32m   2121\u001b[0m \u001b[39melse\u001b[39;00m:\n\u001b[1;32m   2123\u001b[0m     \u001b[39mdef\u001b[39;00m \u001b[39mcontains_exceptiongroup\u001b[39m(val):\n",
      "File \u001b[0;32m~/Library/Python/3.12/lib/python/site-packages/IPython/core/ultratb.py:710\u001b[0m, in \u001b[0;36mListTB.get_exception_only\u001b[0;34m(self, etype, value)\u001b[0m\n\u001b[1;32m    702\u001b[0m \u001b[39mdef\u001b[39;00m \u001b[39mget_exception_only\u001b[39m(\u001b[39mself\u001b[39m, etype, value):\n\u001b[1;32m    703\u001b[0m \u001b[39m    \u001b[39m\u001b[39m\"\"\"Only print the exception type and message, without a traceback.\u001b[39;00m\n\u001b[1;32m    704\u001b[0m \n\u001b[1;32m    705\u001b[0m \u001b[39m    Parameters\u001b[39;00m\n\u001b[0;32m   (...)\u001b[0m\n\u001b[1;32m    708\u001b[0m \u001b[39m    value : exception value\u001b[39;00m\n\u001b[1;32m    709\u001b[0m \u001b[39m    \"\"\"\u001b[39;00m\n\u001b[0;32m--> 710\u001b[0m     \u001b[39mreturn\u001b[39;00m ListTB\u001b[39m.\u001b[39;49mstructured_traceback(\u001b[39mself\u001b[39;49m, etype, value)\n",
      "File \u001b[0;32m~/Library/Python/3.12/lib/python/site-packages/IPython/core/ultratb.py:568\u001b[0m, in \u001b[0;36mListTB.structured_traceback\u001b[0;34m(self, etype, evalue, etb, tb_offset, context)\u001b[0m\n\u001b[1;32m    565\u001b[0m     chained_exc_ids\u001b[39m.\u001b[39madd(\u001b[39mid\u001b[39m(exception[\u001b[39m1\u001b[39m]))\n\u001b[1;32m    566\u001b[0m     chained_exceptions_tb_offset \u001b[39m=\u001b[39m \u001b[39m0\u001b[39m\n\u001b[1;32m    567\u001b[0m     out_list \u001b[39m=\u001b[39m (\n\u001b[0;32m--> 568\u001b[0m         \u001b[39mself\u001b[39;49m\u001b[39m.\u001b[39;49mstructured_traceback(\n\u001b[1;32m    569\u001b[0m             etype,\n\u001b[1;32m    570\u001b[0m             evalue,\n\u001b[1;32m    571\u001b[0m             (etb, chained_exc_ids),  \u001b[39m# type: ignore\u001b[39;49;00m\n\u001b[1;32m    572\u001b[0m             chained_exceptions_tb_offset,\n\u001b[1;32m    573\u001b[0m             context,\n\u001b[1;32m    574\u001b[0m         )\n\u001b[1;32m    575\u001b[0m         \u001b[39m+\u001b[39m chained_exception_message\n\u001b[1;32m    576\u001b[0m         \u001b[39m+\u001b[39m out_list)\n\u001b[1;32m    578\u001b[0m \u001b[39mreturn\u001b[39;00m out_list\n",
      "File \u001b[0;32m~/Library/Python/3.12/lib/python/site-packages/IPython/core/ultratb.py:1435\u001b[0m, in \u001b[0;36mAutoFormattedTB.structured_traceback\u001b[0;34m(self, etype, evalue, etb, tb_offset, number_of_lines_of_context)\u001b[0m\n\u001b[1;32m   1433\u001b[0m \u001b[39melse\u001b[39;00m:\n\u001b[1;32m   1434\u001b[0m     \u001b[39mself\u001b[39m\u001b[39m.\u001b[39mtb \u001b[39m=\u001b[39m etb\n\u001b[0;32m-> 1435\u001b[0m \u001b[39mreturn\u001b[39;00m FormattedTB\u001b[39m.\u001b[39;49mstructured_traceback(\n\u001b[1;32m   1436\u001b[0m     \u001b[39mself\u001b[39;49m, etype, evalue, etb, tb_offset, number_of_lines_of_context\n\u001b[1;32m   1437\u001b[0m )\n",
      "File \u001b[0;32m~/Library/Python/3.12/lib/python/site-packages/IPython/core/ultratb.py:1326\u001b[0m, in \u001b[0;36mFormattedTB.structured_traceback\u001b[0;34m(self, etype, value, tb, tb_offset, number_of_lines_of_context)\u001b[0m\n\u001b[1;32m   1323\u001b[0m mode \u001b[39m=\u001b[39m \u001b[39mself\u001b[39m\u001b[39m.\u001b[39mmode\n\u001b[1;32m   1324\u001b[0m \u001b[39mif\u001b[39;00m mode \u001b[39min\u001b[39;00m \u001b[39mself\u001b[39m\u001b[39m.\u001b[39mverbose_modes:\n\u001b[1;32m   1325\u001b[0m     \u001b[39m# Verbose modes need a full traceback\u001b[39;00m\n\u001b[0;32m-> 1326\u001b[0m     \u001b[39mreturn\u001b[39;00m VerboseTB\u001b[39m.\u001b[39;49mstructured_traceback(\n\u001b[1;32m   1327\u001b[0m         \u001b[39mself\u001b[39;49m, etype, value, tb, tb_offset, number_of_lines_of_context\n\u001b[1;32m   1328\u001b[0m     )\n\u001b[1;32m   1329\u001b[0m \u001b[39melif\u001b[39;00m mode \u001b[39m==\u001b[39m \u001b[39m'\u001b[39m\u001b[39mMinimal\u001b[39m\u001b[39m'\u001b[39m:\n\u001b[1;32m   1330\u001b[0m     \u001b[39mreturn\u001b[39;00m ListTB\u001b[39m.\u001b[39mget_exception_only(\u001b[39mself\u001b[39m, etype, value)\n",
      "File \u001b[0;32m~/Library/Python/3.12/lib/python/site-packages/IPython/core/ultratb.py:1173\u001b[0m, in \u001b[0;36mVerboseTB.structured_traceback\u001b[0;34m(self, etype, evalue, etb, tb_offset, number_of_lines_of_context)\u001b[0m\n\u001b[1;32m   1164\u001b[0m \u001b[39mdef\u001b[39;00m \u001b[39mstructured_traceback\u001b[39m(\n\u001b[1;32m   1165\u001b[0m     \u001b[39mself\u001b[39m,\n\u001b[1;32m   1166\u001b[0m     etype: \u001b[39mtype\u001b[39m,\n\u001b[0;32m   (...)\u001b[0m\n\u001b[1;32m   1170\u001b[0m     number_of_lines_of_context: \u001b[39mint\u001b[39m \u001b[39m=\u001b[39m \u001b[39m5\u001b[39m,\n\u001b[1;32m   1171\u001b[0m ):\n\u001b[1;32m   1172\u001b[0m \u001b[39m    \u001b[39m\u001b[39m\"\"\"Return a nice text document describing the traceback.\"\"\"\u001b[39;00m\n\u001b[0;32m-> 1173\u001b[0m     formatted_exception \u001b[39m=\u001b[39m \u001b[39mself\u001b[39;49m\u001b[39m.\u001b[39;49mformat_exception_as_a_whole(etype, evalue, etb, number_of_lines_of_context,\n\u001b[1;32m   1174\u001b[0m                                                            tb_offset)\n\u001b[1;32m   1176\u001b[0m     colors \u001b[39m=\u001b[39m \u001b[39mself\u001b[39m\u001b[39m.\u001b[39mColors  \u001b[39m# just a shorthand + quicker name lookup\u001b[39;00m\n\u001b[1;32m   1177\u001b[0m     colorsnormal \u001b[39m=\u001b[39m colors\u001b[39m.\u001b[39mNormal  \u001b[39m# used a lot\u001b[39;00m\n",
      "File \u001b[0;32m~/Library/Python/3.12/lib/python/site-packages/IPython/core/ultratb.py:1063\u001b[0m, in \u001b[0;36mVerboseTB.format_exception_as_a_whole\u001b[0;34m(self, etype, evalue, etb, number_of_lines_of_context, tb_offset)\u001b[0m\n\u001b[1;32m   1060\u001b[0m \u001b[39massert\u001b[39;00m \u001b[39misinstance\u001b[39m(tb_offset, \u001b[39mint\u001b[39m)\n\u001b[1;32m   1061\u001b[0m head \u001b[39m=\u001b[39m \u001b[39mself\u001b[39m\u001b[39m.\u001b[39mprepare_header(\u001b[39mstr\u001b[39m(etype), \u001b[39mself\u001b[39m\u001b[39m.\u001b[39mlong_header)\n\u001b[1;32m   1062\u001b[0m records \u001b[39m=\u001b[39m (\n\u001b[0;32m-> 1063\u001b[0m     \u001b[39mself\u001b[39;49m\u001b[39m.\u001b[39;49mget_records(etb, number_of_lines_of_context, tb_offset) \u001b[39mif\u001b[39;00m etb \u001b[39melse\u001b[39;00m []\n\u001b[1;32m   1064\u001b[0m )\n\u001b[1;32m   1066\u001b[0m frames \u001b[39m=\u001b[39m []\n\u001b[1;32m   1067\u001b[0m skipped \u001b[39m=\u001b[39m \u001b[39m0\u001b[39m\n",
      "File \u001b[0;32m~/Library/Python/3.12/lib/python/site-packages/IPython/core/ultratb.py:1131\u001b[0m, in \u001b[0;36mVerboseTB.get_records\u001b[0;34m(self, etb, number_of_lines_of_context, tb_offset)\u001b[0m\n\u001b[1;32m   1129\u001b[0m \u001b[39mwhile\u001b[39;00m cf \u001b[39mis\u001b[39;00m \u001b[39mnot\u001b[39;00m \u001b[39mNone\u001b[39;00m:\n\u001b[1;32m   1130\u001b[0m     \u001b[39mtry\u001b[39;00m:\n\u001b[0;32m-> 1131\u001b[0m         mod \u001b[39m=\u001b[39m inspect\u001b[39m.\u001b[39mgetmodule(cf\u001b[39m.\u001b[39;49mtb_frame)\n\u001b[1;32m   1132\u001b[0m         \u001b[39mif\u001b[39;00m mod \u001b[39mis\u001b[39;00m \u001b[39mnot\u001b[39;00m \u001b[39mNone\u001b[39;00m:\n\u001b[1;32m   1133\u001b[0m             mod_name \u001b[39m=\u001b[39m mod\u001b[39m.\u001b[39m\u001b[39m__name__\u001b[39m\n",
      "\u001b[0;31mAttributeError\u001b[0m: 'tuple' object has no attribute 'tb_frame'"
     ]
    }
   ],
   "source": [
    "for i in range(20):   \n",
    "    try:\n",
    "        print(\"Equation: \", i)\n",
    "\n",
    "        true_equation = stringEQtoArray(dataset.iloc[i].values[0])\n",
    "        inputs = stringArrayToArray(dataset.iloc[i].values[1])\n",
    "        outputs = np.array(stringArrayToArray(dataset.iloc[i].values[2]))\n",
    "\n",
    "\n",
    "        ga_instance = pygad.GA(num_generations=200,\n",
    "                            num_parents_mating=num_parents_mating,\n",
    "                            fitness_func=fitness_func,\n",
    "                            initial_population=initial_population,\n",
    "                            gene_type=int,\n",
    "                            parent_selection_type=\"tournament\",\n",
    "                            keep_elitism=keep_elitism,\n",
    "                            crossover_probability=0.8,\n",
    "                            crossover_type=crossover_func,\n",
    "                            mutation_type=mutation_func,\n",
    "                            mutation_probability=0.5,\n",
    "                            gene_space=gene_space,\n",
    "                            stop_criteria=\"saturate_100\",\n",
    "                            on_crossover=printCrossover,\n",
    "                            on_mutation=printMutation,\n",
    "                            on_fitness=printFitness,\n",
    "                            on_parents=printParents)\n",
    "\n",
    "        ga_instance.run()\n",
    "\n",
    "        print(ga_instance.plot_fitness())\n",
    "\n",
    "        solution, solution_fitness, solution_idx = ga_instance.best_solution()\n",
    "\n",
    "        x = range(1, 101)\n",
    "\n",
    "        # Assuming you have two output arrays of the same length\n",
    "        y1 = outputs\n",
    "\n",
    "        tree = EquationTree()\n",
    "        tree.build_tree(equation_from_GA(solution))\n",
    "        y2 = [tree.evaluate(i) for i in x]\n",
    "\n",
    "        print(\"True equation: \", true_equation)\n",
    "        print(\"Predicted equation: \", equation_from_GA(solution))\n",
    "\n",
    "        # Plotting the first array\n",
    "        plt.plot(x, y1, label='True equation')\n",
    "\n",
    "        # Plotting the second array\n",
    "        plt.plot(x, y2, label='Predicted equation')\n",
    "\n",
    "        # Adding labels and title\n",
    "        plt.xlabel('X-axis label')\n",
    "        plt.ylabel('Y-axis label')\n",
    "        plt.title('Two Arrays Plot')\n",
    "\n",
    "        # Adding legend\n",
    "        plt.legend()\n",
    "\n",
    "        # Display the plot\n",
    "        plt.show()\n",
    "\n",
    "    except Exception as e:\n",
    "        print(\"ERROR: \", e)\n",
    "        continue\n"
   ]
  }
 ],
 "metadata": {
  "kernelspec": {
   "display_name": "Python 3",
   "language": "python",
   "name": "python3"
  },
  "language_info": {
   "codemirror_mode": {
    "name": "ipython",
    "version": 3
   },
   "file_extension": ".py",
   "mimetype": "text/x-python",
   "name": "python",
   "nbconvert_exporter": "python",
   "pygments_lexer": "ipython3",
   "version": "3.12.0"
  }
 },
 "nbformat": 4,
 "nbformat_minor": 2
}
