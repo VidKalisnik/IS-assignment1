{
 "cells": [
  {
   "cell_type": "markdown",
   "metadata": {},
   "source": [
    "# 1. Configuration\n",
    "\n",
    "### Imports"
   ]
  },
  {
   "cell_type": "code",
   "execution_count": 1,
   "metadata": {},
   "outputs": [],
   "source": [
    "import pygad\n",
    "import numpy as np\n",
    "import matplotlib.pyplot as plt\n",
    "import pandas as pd "
   ]
  },
  {
   "cell_type": "markdown",
   "metadata": {},
   "source": [
    "### Read the data"
   ]
  },
  {
   "cell_type": "code",
   "execution_count": 2,
   "metadata": {},
   "outputs": [
    {
     "data": {
      "text/html": [
       "<div>\n",
       "<style scoped>\n",
       "    .dataframe tbody tr th:only-of-type {\n",
       "        vertical-align: middle;\n",
       "    }\n",
       "\n",
       "    .dataframe tbody tr th {\n",
       "        vertical-align: top;\n",
       "    }\n",
       "\n",
       "    .dataframe thead th {\n",
       "        text-align: right;\n",
       "    }\n",
       "</style>\n",
       "<table border=\"1\" class=\"dataframe\">\n",
       "  <thead>\n",
       "    <tr style=\"text-align: right;\">\n",
       "      <th></th>\n",
       "      <th>Equation</th>\n",
       "      <th>Xs</th>\n",
       "      <th>Ys</th>\n",
       "    </tr>\n",
       "  </thead>\n",
       "  <tbody>\n",
       "    <tr>\n",
       "      <th>0</th>\n",
       "      <td>((x ** 4) - 6)</td>\n",
       "      <td>[1, 2, 3, 4, 5, 6, 7, 8, 9, 10, 11, 12, 13, 14...</td>\n",
       "      <td>[-5, 10, 75, 250, 619, 1290, 2395, 4090, 6555,...</td>\n",
       "    </tr>\n",
       "    <tr>\n",
       "      <th>1</th>\n",
       "      <td>(((x / 8) * 2) + 1)</td>\n",
       "      <td>[1, 2, 3, 4, 5, 6, 7, 8, 9, 10, 11, 12, 13, 14...</td>\n",
       "      <td>[1.25, 1.5, 1.75, 2.0, 2.25, 2.5, 2.75, 3.0, 3...</td>\n",
       "    </tr>\n",
       "    <tr>\n",
       "      <th>2</th>\n",
       "      <td>(((x - 1) - 3) / 5)</td>\n",
       "      <td>[1, 2, 3, 4, 5, 6, 7, 8, 9, 10, 11, 12, 13, 14...</td>\n",
       "      <td>[-0.6, -0.4, -0.2, 0.0, 0.2, 0.4, 0.6, 0.8, 1....</td>\n",
       "    </tr>\n",
       "    <tr>\n",
       "      <th>3</th>\n",
       "      <td>(x * 5)</td>\n",
       "      <td>[1, 2, 3, 4, 5, 6, 7, 8, 9, 10, 11, 12, 13, 14...</td>\n",
       "      <td>[5, 10, 15, 20, 25, 30, 35, 40, 45, 50, 55, 60...</td>\n",
       "    </tr>\n",
       "    <tr>\n",
       "      <th>4</th>\n",
       "      <td>(x + 2)</td>\n",
       "      <td>[1, 2, 3, 4, 5, 6, 7, 8, 9, 10, 11, 12, 13, 14...</td>\n",
       "      <td>[3, 4, 5, 6, 7, 8, 9, 10, 11, 12, 13, 14, 15, ...</td>\n",
       "    </tr>\n",
       "    <tr>\n",
       "      <th>...</th>\n",
       "      <td>...</td>\n",
       "      <td>...</td>\n",
       "      <td>...</td>\n",
       "    </tr>\n",
       "    <tr>\n",
       "      <th>93</th>\n",
       "      <td>1*x**5 + -2*x**3 + -1*x + -5</td>\n",
       "      <td>[1, 2, 3, 4, 5, 6, 7, 8, 9, 10, 11, 12, 13, 14...</td>\n",
       "      <td>[-7, 9, 181, 887, 2865, 7333, 16109, 31731, 57...</td>\n",
       "    </tr>\n",
       "    <tr>\n",
       "      <th>94</th>\n",
       "      <td>3*x**5 + 2*x**4 + 1*x + -2</td>\n",
       "      <td>[1, 2, 3, 4, 5, 6, 7, 8, 9, 10, 11, 12, 13, 14...</td>\n",
       "      <td>[4, 128, 892, 3586, 10628, 25924, 55228, 10650...</td>\n",
       "    </tr>\n",
       "    <tr>\n",
       "      <th>95</th>\n",
       "      <td>-4*x**5 + -1*x + -5</td>\n",
       "      <td>[1, 2, 3, 4, 5, 6, 7, 8, 9, 10, 11, 12, 13, 14...</td>\n",
       "      <td>[-10, -135, -980, -4105, -12510, -31115, -6724...</td>\n",
       "    </tr>\n",
       "    <tr>\n",
       "      <th>96</th>\n",
       "      <td>4*x + +1</td>\n",
       "      <td>[1, 2, 3, 4, 5, 6, 7, 8, 9, 10, 11, 12, 13, 14...</td>\n",
       "      <td>[5, 9, 13, 17, 21, 25, 29, 33, 37, 41, 45, 49,...</td>\n",
       "    </tr>\n",
       "    <tr>\n",
       "      <th>97</th>\n",
       "      <td>-4*x**5 + 3*x**4 + -4*x**2 + -2*x + 5</td>\n",
       "      <td>[1, 2, 3, 4, 5, 6, 7, 8, 9, 10, 11, 12, 13, 14...</td>\n",
       "      <td>[-2, -95, -766, -3395, -10730, -27367, -60230,...</td>\n",
       "    </tr>\n",
       "  </tbody>\n",
       "</table>\n",
       "<p>98 rows × 3 columns</p>\n",
       "</div>"
      ],
      "text/plain": [
       "                                  Equation  \\\n",
       "0                           ((x ** 4) - 6)   \n",
       "1                      (((x / 8) * 2) + 1)   \n",
       "2                      (((x - 1) - 3) / 5)   \n",
       "3                                  (x * 5)   \n",
       "4                                  (x + 2)   \n",
       "..                                     ...   \n",
       "93            1*x**5 + -2*x**3 + -1*x + -5   \n",
       "94              3*x**5 + 2*x**4 + 1*x + -2   \n",
       "95                     -4*x**5 + -1*x + -5   \n",
       "96                                4*x + +1   \n",
       "97   -4*x**5 + 3*x**4 + -4*x**2 + -2*x + 5   \n",
       "\n",
       "                                                   Xs  \\\n",
       "0   [1, 2, 3, 4, 5, 6, 7, 8, 9, 10, 11, 12, 13, 14...   \n",
       "1   [1, 2, 3, 4, 5, 6, 7, 8, 9, 10, 11, 12, 13, 14...   \n",
       "2   [1, 2, 3, 4, 5, 6, 7, 8, 9, 10, 11, 12, 13, 14...   \n",
       "3   [1, 2, 3, 4, 5, 6, 7, 8, 9, 10, 11, 12, 13, 14...   \n",
       "4   [1, 2, 3, 4, 5, 6, 7, 8, 9, 10, 11, 12, 13, 14...   \n",
       "..                                                ...   \n",
       "93  [1, 2, 3, 4, 5, 6, 7, 8, 9, 10, 11, 12, 13, 14...   \n",
       "94  [1, 2, 3, 4, 5, 6, 7, 8, 9, 10, 11, 12, 13, 14...   \n",
       "95  [1, 2, 3, 4, 5, 6, 7, 8, 9, 10, 11, 12, 13, 14...   \n",
       "96  [1, 2, 3, 4, 5, 6, 7, 8, 9, 10, 11, 12, 13, 14...   \n",
       "97  [1, 2, 3, 4, 5, 6, 7, 8, 9, 10, 11, 12, 13, 14...   \n",
       "\n",
       "                                                   Ys  \n",
       "0   [-5, 10, 75, 250, 619, 1290, 2395, 4090, 6555,...  \n",
       "1   [1.25, 1.5, 1.75, 2.0, 2.25, 2.5, 2.75, 3.0, 3...  \n",
       "2   [-0.6, -0.4, -0.2, 0.0, 0.2, 0.4, 0.6, 0.8, 1....  \n",
       "3   [5, 10, 15, 20, 25, 30, 35, 40, 45, 50, 55, 60...  \n",
       "4   [3, 4, 5, 6, 7, 8, 9, 10, 11, 12, 13, 14, 15, ...  \n",
       "..                                                ...  \n",
       "93  [-7, 9, 181, 887, 2865, 7333, 16109, 31731, 57...  \n",
       "94  [4, 128, 892, 3586, 10628, 25924, 55228, 10650...  \n",
       "95  [-10, -135, -980, -4105, -12510, -31115, -6724...  \n",
       "96  [5, 9, 13, 17, 21, 25, 29, 33, 37, 41, 45, 49,...  \n",
       "97  [-2, -95, -766, -3395, -10730, -27367, -60230,...  \n",
       "\n",
       "[98 rows x 3 columns]"
      ]
     },
     "execution_count": 2,
     "metadata": {},
     "output_type": "execute_result"
    }
   ],
   "source": [
    "dataset = pd.read_csv(\"dataset.csv\")\n",
    "dataset"
   ]
  },
  {
   "cell_type": "markdown",
   "metadata": {},
   "source": [
    "# 2. Representation"
   ]
  },
  {
   "cell_type": "markdown",
   "metadata": {},
   "source": [
    "### Tree data structure\n",
    "\n",
    "#### Node class"
   ]
  },
  {
   "cell_type": "code",
   "execution_count": 3,
   "metadata": {},
   "outputs": [],
   "source": [
    "class Node:\n",
    "    def __init__(self, value=None):\n",
    "        self.value = value\n",
    "        self.children = []\n",
    "\n",
    "    def add_child(self, child):\n",
    "        self.children.append(child)"
   ]
  },
  {
   "cell_type": "markdown",
   "metadata": {},
   "source": [
    "#### Equation tree class"
   ]
  },
  {
   "cell_type": "code",
   "execution_count": 4,
   "metadata": {},
   "outputs": [],
   "source": [
    "class EquationTree:\n",
    "    def __init__(self, root=None):\n",
    "        self.root = root\n",
    "\n",
    "    def build_tree(self, expression):\n",
    "        self.root = self._build_tree_recursive(expression)\n",
    "\n",
    "    def _build_tree_recursive(self, expression):\n",
    "        \n",
    "        current_depth = 0\n",
    "\n",
    "        lowest_depth = 0\n",
    "        lowest_depth_index = -1\n",
    "\n",
    "        leaf = False\n",
    "        leaf_value = None\n",
    "\n",
    "\n",
    "        # ** nima prednosti pred * in / in je treba to popraut, oz nevem c ma + in - prednost pred * in /\n",
    "        for i in range(len(expression)):\n",
    "            if expression[i] == '(':\n",
    "                current_depth += 1\n",
    "            elif expression[i] == ')':\n",
    "                current_depth -= 1\n",
    "            elif expression[i] in ['+', '-', '*', '/','**']:\n",
    "                if current_depth <= lowest_depth or lowest_depth_index == -1:\n",
    "                    lowest_depth = current_depth\n",
    "                    lowest_depth_index = i\n",
    "            elif expression[i] == 'x' or expression[i].lstrip('-').isdigit():\n",
    "                leaf_value = expression[i]\n",
    "                leaf = True\n",
    "\n",
    "        if lowest_depth_index == -1 and leaf:\n",
    "            return Node(leaf_value)\n",
    "        else:\n",
    "            root = Node(expression[lowest_depth_index])\n",
    "            root.add_child(self._build_tree_recursive(expression[:lowest_depth_index]))\n",
    "            root.add_child(self._build_tree_recursive(expression[lowest_depth_index+1:]))\n",
    "\n",
    "            return root\n",
    "        \n",
    "    def print_tree(self):\n",
    "        self._print_tree_recursive(self.root)\n",
    "    \n",
    "    def _print_tree_recursive(self, root, depth=0):\n",
    "        if root is None:\n",
    "            return\n",
    "\n",
    "        print('\\t' * depth + str(root.value))\n",
    "\n",
    "        for child in root.children:\n",
    "            self._print_tree_recursive(child, depth + 1)\n",
    "\n",
    "    def evaluate(self, x):\n",
    "        return self._evaluate_recursive(self.root, x)\n",
    "    \n",
    "    def _evaluate_recursive(self, root, x):\n",
    "        if root is None:\n",
    "            return None\n",
    "\n",
    "        if root.value == 'x':\n",
    "            return x\n",
    "        elif root.value.lstrip('-').isdigit():\n",
    "            return int(root.value)\n",
    "        elif root.value == '+':\n",
    "            return self._evaluate_recursive(root.children[0], x) + self._evaluate_recursive(root.children[1], x)\n",
    "        elif root.value == '-':\n",
    "            return self._evaluate_recursive(root.children[0], x) - self._evaluate_recursive(root.children[1], x)\n",
    "        elif root.value == '*':\n",
    "            return self._evaluate_recursive(root.children[0], x) * self._evaluate_recursive(root.children[1], x)\n",
    "        elif root.value == '/':\n",
    "            return self._evaluate_recursive(root.children[0], x) / self._evaluate_recursive(root.children[1], x)\n",
    "        elif root.value == '**':\n",
    "            return self._evaluate_recursive(root.children[0], x) ** self._evaluate_recursive(root.children[1], x)\n",
    "        else:\n",
    "            return None"
   ]
  },
  {
   "cell_type": "code",
   "execution_count": 5,
   "metadata": {},
   "outputs": [
    {
     "data": {
      "text/plain": [
       "'((x ** 4) - 6)'"
      ]
     },
     "execution_count": 5,
     "metadata": {},
     "output_type": "execute_result"
    }
   ],
   "source": [
    "equation_inputs = dataset.iloc[0].values[0]\n",
    "equation_inputs"
   ]
  },
  {
   "cell_type": "code",
   "execution_count": 6,
   "metadata": {},
   "outputs": [
    {
     "data": {
      "text/plain": [
       "['(', '(', 'x', '**', '4', ')', '-', '6', ')']"
      ]
     },
     "execution_count": 6,
     "metadata": {},
     "output_type": "execute_result"
    }
   ],
   "source": [
    "def stringEQtoArray(equation):\n",
    "    arr = []\n",
    "    skip = False\n",
    "\n",
    "    \n",
    "    for index, char in enumerate(equation):\n",
    "        if skip:\n",
    "            skip = False\n",
    "            continue\n",
    "    \n",
    "        if char == ' ':\n",
    "            continue\n",
    "        elif char == 'x' or char.isdigit():\n",
    "            arr.append(char)\n",
    "        elif char == '*' and equation[index+1] == '*':\n",
    "            arr.append('**')\n",
    "            skip = True\n",
    "        elif char in ['+', '-'] and equation[index+1].isdigit():\n",
    "            if char == '+':\n",
    "                arr.append(equation[index+1])\n",
    "            else:\n",
    "                arr.append(char + equation[index+1])\n",
    "            skip = True\n",
    "        elif char in ['+', '-', '*', '/', '(', ')']:\n",
    "            arr.append(char)\n",
    "\n",
    "    return arr\n",
    "\n",
    "        \n",
    "equation = stringEQtoArray(equation_inputs)\n",
    "equation"
   ]
  },
  {
   "cell_type": "code",
   "execution_count": 7,
   "metadata": {},
   "outputs": [
    {
     "name": "stdout",
     "output_type": "stream",
     "text": [
      "-\n",
      "\t**\n",
      "\t\tx\n",
      "\t\t4\n",
      "\t6\n"
     ]
    },
    {
     "data": {
      "text/plain": [
       "10"
      ]
     },
     "execution_count": 7,
     "metadata": {},
     "output_type": "execute_result"
    }
   ],
   "source": [
    "equation_tree = EquationTree()\n",
    "equation_tree.build_tree(equation) \n",
    "equation_tree.print_tree()\n",
    "equation_tree.evaluate(2)"
   ]
  }
 ],
 "metadata": {
  "kernelspec": {
   "display_name": "Python 3",
   "language": "python",
   "name": "python3"
  },
  "language_info": {
   "codemirror_mode": {
    "name": "ipython",
    "version": 3
   },
   "file_extension": ".py",
   "mimetype": "text/x-python",
   "name": "python",
   "nbconvert_exporter": "python",
   "pygments_lexer": "ipython3",
   "version": "3.12.0"
  }
 },
 "nbformat": 4,
 "nbformat_minor": 2
}
