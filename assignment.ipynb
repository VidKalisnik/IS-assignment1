{
 "cells": [
  {
   "cell_type": "markdown",
   "metadata": {},
   "source": [
    "# 1. Configuration\n",
    "\n",
    "### Imports"
   ]
  },
  {
   "cell_type": "code",
   "execution_count": null,
   "metadata": {},
   "outputs": [],
   "source": [
    "import pygad\n",
    "import numpy as np\n",
    "import matplotlib.pyplot as plt\n",
    "import pandas as pd \n",
    "import random\n",
    "import math\n",
    "import time\n",
    "from sympy import symbols, simplify"
   ]
  },
  {
   "cell_type": "markdown",
   "metadata": {},
   "source": [
    "### Read the data"
   ]
  },
  {
   "cell_type": "code",
   "execution_count": null,
   "metadata": {},
   "outputs": [],
   "source": [
    "dataset = pd.read_csv(\"dataset.csv\")\n",
    "dataset"
   ]
  },
  {
   "cell_type": "markdown",
   "metadata": {},
   "source": [
    "# 2. Representation"
   ]
  },
  {
   "cell_type": "code",
   "execution_count": null,
   "metadata": {},
   "outputs": [],
   "source": [
    "maxEquationLength = 25"
   ]
  },
  {
   "cell_type": "markdown",
   "metadata": {},
   "source": [
    "#### Helper functions"
   ]
  },
  {
   "cell_type": "markdown",
   "metadata": {},
   "source": [
    "Convert a `string equation` into an `array of tokens`."
   ]
  },
  {
   "cell_type": "code",
   "execution_count": null,
   "metadata": {},
   "outputs": [],
   "source": [
    "def stringEQtoArray(equation):\n",
    "    arr = np.array([])\n",
    "    skip = 0\n",
    "\n",
    "    for index, char in enumerate(equation):\n",
    "        if skip != 0:\n",
    "            skip-=1\n",
    "            continue\n",
    "    \n",
    "        if char == ' ':\n",
    "            continue\n",
    "        elif char == 'x' or char.isdigit():\n",
    "            arr = np.append(arr, char)\n",
    "        elif char == '*' and equation[index+1] == '*':\n",
    "            arr = np.append(arr, '**')\n",
    "            skip = 1\n",
    "        elif char in ['+', '-'] and equation[index+1].isdigit():\n",
    "            if char == '+':\n",
    "                arr = np.append(arr, equation[index+1])\n",
    "            else:\n",
    "                arr = np.append(arr, char+equation[index+1])\n",
    "            skip = 1\n",
    "        elif char in ['+', '-', '*', '/', '(', ')']:\n",
    "            arr = np.append(arr, char)\n",
    "\n",
    "    return arr"
   ]
  },
  {
   "cell_type": "markdown",
   "metadata": {},
   "source": [
    "Convert an `array of tokens` to a `string equation`."
   ]
  },
  {
   "cell_type": "code",
   "execution_count": null,
   "metadata": {},
   "outputs": [],
   "source": [
    "def arrayEQtoString(equation):\n",
    "    string = \"\"\n",
    "    for char in equation:\n",
    "        string += char\n",
    "        string += \" \"\n",
    "    return string"
   ]
  },
  {
   "cell_type": "markdown",
   "metadata": {},
   "source": [
    "Convert a string sequance to an `array`."
   ]
  },
  {
   "cell_type": "code",
   "execution_count": null,
   "metadata": {},
   "outputs": [],
   "source": [
    "def stringArrayToArray(string):\n",
    "    string = string[1:-1]\n",
    "    arr = string.split(',')\n",
    "    arr = [float(i) for i in arr]\n",
    "    arr = np.array(arr)\n",
    "    return arr"
   ]
  },
  {
   "cell_type": "markdown",
   "metadata": {},
   "source": [
    "Evaluates `x_values` of the `equation`."
   ]
  },
  {
   "cell_type": "code",
   "execution_count": null,
   "metadata": {},
   "outputs": [],
   "source": [
    "def evaluteEquation(equation, x_values):\n",
    "\n",
    "    result = np.array([])\n",
    "    for x in range(1, x_values+1):\n",
    "        result = np.append(result, eval(equation, {'x': x}, {'math': math}))\n",
    "    return result"
   ]
  },
  {
   "cell_type": "markdown",
   "metadata": {},
   "source": [
    "Testing"
   ]
  },
  {
   "cell_type": "code",
   "execution_count": null,
   "metadata": {},
   "outputs": [],
   "source": [
    "#vse dela prou :)\n",
    "\n",
    "for x in range(0,98):\n",
    "    equation_inputs = dataset.iloc[x].values[0]\n",
    "    \n",
    "    outputs = stringArrayToArray(dataset.iloc[x].values[2])\n",
    "    \n",
    "    equationOutputs = evaluteEquation(equation_inputs, 100)\n",
    "\n",
    "    #print(np.sum(outputs - equationOutputs))\n",
    "\n",
    "    "
   ]
  },
  {
   "cell_type": "markdown",
   "metadata": {},
   "source": [
    "Tests if the equation `is valid`."
   ]
  },
  {
   "cell_type": "code",
   "execution_count": null,
   "metadata": {},
   "outputs": [],
   "source": [
    "def is_valid(solution):\n",
    "    #solution is an array of tokens from the equation\n",
    "\n",
    "    #if there is no x in the equation -> it is not valid\n",
    "    if 'x' not in solution:\n",
    "        return False\n",
    "    \n",
    "    #if there is no equation -> it is not valid\n",
    "    if solution.__len__() > maxEquationLength:\n",
    "        return False\n",
    "\n",
    "    #try to evaluate the equation\n",
    "    try:\n",
    "        evaluteEquation(arrayEQtoString(solution), 100)\n",
    "    except:\n",
    "        return False\n",
    "\n",
    "    return True"
   ]
  },
  {
   "cell_type": "markdown",
   "metadata": {},
   "source": [
    "`Simplifies` the equation."
   ]
  },
  {
   "cell_type": "code",
   "execution_count": null,
   "metadata": {},
   "outputs": [],
   "source": [
    "def simplify_equation(equation):\n",
    "    \n",
    "    x = symbols('x')\n",
    "\n",
    "    equationString = arrayEQtoString(equation)\n",
    "\n",
    "    equation = simplify(equationString)\n",
    "\n",
    "    equation = stringEQtoArray(str(equation))\n",
    "            \n",
    "    return equation    "
   ]
  },
  {
   "cell_type": "markdown",
   "metadata": {},
   "source": [
    "Transform an array of `chars` to a `int` array, and it's inverse (`int` -> `char`)."
   ]
  },
  {
   "cell_type": "code",
   "execution_count": null,
   "metadata": {},
   "outputs": [],
   "source": [
    "def char_to_int_array(array):\n",
    "    new_array = []\n",
    "    for i in array:\n",
    "        if i == 'x':\n",
    "            new_array.append(ord(i))\n",
    "        elif i == '+':\n",
    "            new_array.append(ord(i))\n",
    "        elif i == '-':\n",
    "            new_array.append(ord(i))\n",
    "        elif i == '*':\n",
    "            new_array.append(ord(i))\n",
    "        elif i == '/':\n",
    "            new_array.append(ord(i))\n",
    "        elif i == '**':\n",
    "            new_array.append(420)\n",
    "        elif i == '(':\n",
    "            new_array.append(ord(i))\n",
    "        elif i == ')':\n",
    "            new_array.append(ord(i))\n",
    "        else:\n",
    "            new_array.append(int(float(i)))\n",
    "    return new_array"
   ]
  },
  {
   "cell_type": "code",
   "execution_count": null,
   "metadata": {},
   "outputs": [],
   "source": [
    "def int_array_to_char(array):\n",
    "    new_array = []\n",
    "    for i in array:\n",
    "        if i == ord('x'):\n",
    "            new_array.append('x')\n",
    "        elif i == ord('+'):\n",
    "            new_array.append('+')\n",
    "        elif i == ord('-'):\n",
    "            new_array.append('-')\n",
    "        elif i == ord('*'):\n",
    "            new_array.append('*')\n",
    "        elif i == ord('/'):\n",
    "            new_array.append('/')\n",
    "        elif i == 420:\n",
    "            new_array.append('**')\n",
    "        elif i == ord('('):\n",
    "            new_array.append('(')\n",
    "        elif i == ord(')'):\n",
    "            new_array.append(')')\n",
    "        else:\n",
    "            new_array.append(str(i))\n",
    "    return new_array"
   ]
  },
  {
   "cell_type": "markdown",
   "metadata": {},
   "source": [
    "Adds `pedding` to the int array, and it's inverse (removes padding)."
   ]
  },
  {
   "cell_type": "code",
   "execution_count": null,
   "metadata": {},
   "outputs": [],
   "source": [
    "def add_padding(array):\n",
    "    new_array = np.zeros(maxEquationLength)\n",
    "    for i in range(len(array)):\n",
    "        new_array[i] = array[i]\n",
    "    return new_array"
   ]
  },
  {
   "cell_type": "code",
   "execution_count": null,
   "metadata": {},
   "outputs": [],
   "source": [
    "def remove_padding(array):\n",
    "    new_array = []\n",
    "    for i in array:\n",
    "        if i == 0:\n",
    "            break\n",
    "        new_array.append(int(i))\n",
    "    return new_array"
   ]
  },
  {
   "cell_type": "markdown",
   "metadata": {},
   "source": [
    "Puts the last two functions together."
   ]
  },
  {
   "cell_type": "code",
   "execution_count": null,
   "metadata": {},
   "outputs": [],
   "source": [
    "def equation_for_GA(equation):\n",
    "    equation = char_to_int_array(equation)\n",
    "    equation = transform_array(equation, 25)\n",
    "    return equation"
   ]
  },
  {
   "cell_type": "code",
   "execution_count": null,
   "metadata": {},
   "outputs": [],
   "source": [
    "def equation_from_GA(equation):\n",
    "    equation = inverse_transform_array(equation)\n",
    "    equation = int_array_to_char(equation)\n",
    "    return equation"
   ]
  },
  {
   "cell_type": "markdown",
   "metadata": {},
   "source": [
    "### 3. Genetic algorithm"
   ]
  },
  {
   "cell_type": "code",
   "execution_count": null,
   "metadata": {},
   "outputs": [],
   "source": [
    "#trying for the first equation first\n",
    "eq_num = 2\n",
    "\n",
    "true_equation = stringEQtoArray(dataset.iloc[eq_num].values[0])\n",
    "inputs = stringArrayToArray(dataset.iloc[eq_num].values[1])\n",
    "outputs = np.array(stringArrayToArray(dataset.iloc[eq_num].values[2]))\n",
    "\n",
    "print(true_equation)\n",
    "print(inputs)\n",
    "print(outputs)"
   ]
  },
  {
   "cell_type": "markdown",
   "metadata": {},
   "source": [
    "`Model` returns an array of function outputs and a equation length."
   ]
  },
  {
   "cell_type": "code",
   "execution_count": null,
   "metadata": {},
   "outputs": [],
   "source": [
    "def model(equation):\n",
    "\n",
    "    equation = equation_from_GA(equation)\n",
    "\n",
    "    #rmaybe remove all the () from the equation for the length???\n",
    "    # equation = [x for x in equation if x != '(' and x != ')']\n",
    "    # equation = np.array(equation)\n",
    "    equation_length = len(equation)\n",
    "\n",
    "    equationString = arrayEQtoString(equation)\n",
    "    equationOutputs = evaluteEquation(equationString, 100)\n",
    "            \n",
    "    return equationOutputs, equation_length\n"
   ]
  },
  {
   "cell_type": "markdown",
   "metadata": {},
   "source": [
    "`Fitness function` returns the fitness of a given equation."
   ]
  },
  {
   "cell_type": "code",
   "execution_count": null,
   "metadata": {},
   "outputs": [],
   "source": [
    "def fitness_func(ga_instance, solution, solution_idx):\n",
    "    \n",
    "    model_outputs,equation_length = model(solution)\n",
    "  \n",
    "    try:\n",
    "\n",
    "        #change if needed, especialy equation length#\n",
    "\n",
    "        error = np.sum(np.log10(np.abs(model_outputs - outputs) + 1)) + equation_length*0.1\n",
    "\n",
    "        if error < 0:\n",
    "            error = -error\n",
    "\n",
    "    except:\n",
    "        error = np.inf\n",
    "\n",
    "    #print(\"Fitness: \", -error, \"ga_instance.generation: \", ga_instance.generations_completed, \"solution_idx: \", solution_idx)\n",
    "\n",
    "    return -error"
   ]
  },
  {
   "cell_type": "markdown",
   "metadata": {},
   "source": [
    "`Crossover function` receives `N parents` and returns ` N children`."
   ]
  },
  {
   "cell_type": "code",
   "execution_count": null,
   "metadata": {},
   "outputs": [],
   "source": [
    "def crossover_func(parents, offspring_size, ga_instance):\n",
    "    num_of_parents = parents.__len__()\n",
    "    #note : 100 is the length of the equation\n",
    "    array = np.empty((0, 25))\n",
    "\n",
    "    for i in range(0,num_of_parents,2):\n",
    "        #build a parent tree\n",
    "\n",
    "        #print(1)\n",
    "\n",
    "        parent1 = equation_from_GA(parents[i])\n",
    "        parent2 = equation_from_GA(parents[i+1])\n",
    "\n",
    "        #print(2)\n",
    "\n",
    "        if not simpl_is_valid(parent1):\n",
    "            parent1 = parent2\n",
    "\n",
    "        #print(3)        \n",
    "        if not simpl_is_valid(parent2):\n",
    "            parent2 = parent1\n",
    "        \n",
    "        #print(4)\n",
    "\n",
    "        parent1_tree = EquationTree()\n",
    "        parent1_tree.build_tree(parent1)\n",
    "\n",
    "       #print(5)\n",
    "\n",
    "        parent2_tree = EquationTree()\n",
    "        parent2_tree.build_tree(parent2)\n",
    "\n",
    "        #print(6)\n",
    "\n",
    "        parent1_subtree = parent1_tree.get_random_subtree()\n",
    "        parent2_tree.replance_random_subtree(parent1_subtree)\n",
    "        child = parent2_tree.get_array()\n",
    "\n",
    "        #print(7, child)\n",
    "        # print(\"GET ARRAY: \")\n",
    "        # print(child)\n",
    "        child = simplify_equation(child)\n",
    "        # print(child)\n",
    "\n",
    "        #print(8,child)\n",
    "        if not is_valid(child):\n",
    "            # print(\"NOT VALID\")\n",
    "            child = parent1\n",
    "\n",
    "        #print(9,child)\n",
    "        child = equation_for_GA(child)\n",
    "        #add the child array to the array\n",
    "        #print(10)\n",
    "        child_array = np.array(child, dtype=int).reshape(1, -1)\n",
    "        #print(11)\n",
    "        array = np.vstack((array, child_array))\n",
    "        #print(12)\n",
    "\n",
    "    # print(\"Crossover: \")\n",
    "    # for i in array:\n",
    "    #     print(equation_from_GA(i))\n",
    "\n",
    "    # print(ga_instance.generations_completed, ga_instance.population.__len__())\n",
    "    # for i in ga_instance.population:\n",
    "    #     print(equation_from_GA(i) , fitness_func(ga_instance, i, 0))\n",
    "\n",
    "    return array"
   ]
  },
  {
   "cell_type": "markdown",
   "metadata": {},
   "source": [
    "Try crossover."
   ]
  },
  {
   "cell_type": "markdown",
   "metadata": {},
   "source": [
    "`Mutation function ` receives N equations and returns N `mutated` equations."
   ]
  },
  {
   "cell_type": "code",
   "execution_count": null,
   "metadata": {},
   "outputs": [],
   "source": [
    "def mutation_func(offspring, ga_instance):\n",
    "    array = np.empty((0, maxEquationLength))\n",
    "\n",
    "    for j in range(len(offspring)):\n",
    "\n",
    "        eq_mutated = equation_from_GA(offspring[j])\n",
    "  \n",
    "        #Mutation type 1\n",
    "        if np.random.rand() > 0.2:\n",
    "            print(\"Mutation type 1\")\n",
    "            while True:\n",
    "                \n",
    "                i = random.randrange(len(eq_mutated))\n",
    "\n",
    "                # changes a random operator\n",
    "                if eq_mutated[i] in ['+', '-', '*', '/', '**']:              \n",
    "                    eq_mutated[i] = np.random.choice(['+', '-', '*', '/', '**'])\n",
    "                    break\n",
    "                # changes a random number\n",
    "                elif eq_mutated[i].isdigit():\n",
    "                    random_number = str(np.random.randint(-10, 10))\n",
    "                    if random_number == '0':\n",
    "                        random_number = '1'\n",
    "                    eq_mutated[i] = random_number\n",
    "                    break\n",
    "                #change the x to ( x + random number )\n",
    "                elif eq_mutated[i] == 'x':\n",
    "                    eq_mutated[i] = '('\n",
    "                    random_number = str(np.random.randint(1, 10))\n",
    "                    eq_mutated = np.insert(eq_mutated, i+1, ['x', '+', str(random_number), ')'])\n",
    "                    break\n",
    "\n",
    "        #Mutation type 2\n",
    "        else:\n",
    "            print(\"Mutation type 2\")\n",
    "            #if it doesnt have () on the start and the end add them\n",
    "            if eq_mutated[0] != '(' and eq_mutated[-1] != ')':\n",
    "                eq_mutated = np.append(['('], eq_mutated)\n",
    "                eq_mutated = np.append(eq_mutated, [')'])\n",
    "\n",
    "            #add a random operator and a random number on the start or the end\n",
    "            if np.random.rand() > 0.5:\n",
    "                #add on the start\n",
    "                eq_mutated = np.insert(eq_mutated, 0, np.random.choice(['+', '-', '*', '/']))\n",
    "                random_number = str(np.random.randint(1, 10))\n",
    "                eq_mutated = np.insert(eq_mutated, 0, random_number)\n",
    "            else:\n",
    "                #add on the end\n",
    "                eq_mutated = np.append(eq_mutated, np.random.choice(['+', '-', '*', '/']))\n",
    "                random_number = str(np.random.randint(1, 10))\n",
    "                eq_mutated = np.append(eq_mutated, random_number)\n",
    "\n",
    "        #check if the equation is valid\n",
    "        if not is_valid(eq_mutated):\n",
    "            eq_mutated = equation_from_GA(offspring[j])\n",
    "\n",
    "\n",
    "        eq_mutated = simplify_equation(eq_mutated)\n",
    "\n",
    "        #check if the equation is valid\n",
    "        if not is_valid(eq_mutated):\n",
    "            eq_mutated = equation_from_GA(offspring[j])\n",
    "    \n",
    "\n",
    "        offspring_array = np.array(equation_for_GA(eq_mutated), dtype=int).reshape(1, -1)\n",
    "        array = np.vstack((array, offspring_array)).astype(int)\n",
    "\n",
    "    # print(\"Mutation: \")\n",
    "    # for i in array:\n",
    "    #     print(equation_from_GA(i))\n",
    "\n",
    "    return array"
   ]
  },
  {
   "cell_type": "markdown",
   "metadata": {},
   "source": [
    "Try mutation."
   ]
  },
  {
   "cell_type": "code",
   "execution_count": null,
   "metadata": {},
   "outputs": [],
   "source": [
    "equation_from_GA(mutation_func(np.array([equation_for_GA(['x','+','1'])]), 1)[0])"
   ]
  },
  {
   "cell_type": "markdown",
   "metadata": {},
   "source": [
    "Initialize the population."
   ]
  },
  {
   "cell_type": "code",
   "execution_count": null,
   "metadata": {},
   "outputs": [],
   "source": [
    "pop1 = [['x','+', '1']] + [['x','+', '2']] +[['x','+', '3']] + [['x','+', '4']] + [['x','+', '5']] +[['x','+', '6']] + [['x','+', '7']] + [['x','+', '8']] + [['x','+', '9']]\n",
    "pop2 = [['x','*', '1']] + [['x','*', '2']] +[['x','*', '3']] + [['x','*', '4']] + [['x','*', '5']]  + [['x','*', '6']] +[['x','*', '7']] + [['x','*', '8']] + [['x','*', '9']]\n",
    "pop3 = [['x','**', '2']] +[['x','**', '3']] + [['x','**', '4']] + [['x','**', '5']] + [['x','**', '6']] +[['x','**', '7']] + [['x','**', '8']] + [['x','**', '9']]\n",
    "pop4 = [['x','/', '2']] +[['x','/', '3']] + [['x','/', '4']] + [['x','/', '5']] + [['x','/', '6']] +[['x','/', '7']] + [['x','/', '8']] + [['x','/', '9']]\n",
    "\n",
    "initial_population = pop1 + pop2 + pop3 + pop4\n",
    "\n",
    "#transform the initial population to a int array\n",
    "initial_population = [equation_for_GA(i) for i in initial_population]\n",
    "\n",
    "gene_space = np.array([ord('x'), ord('+'), ord('-'), ord('*'), ord('/'), 420, 1, 2, 3, 4, 5, 6, 7, 8, 9,-1, -2, -3, -4, -5, -6, -7, -8, -9])"
   ]
  },
  {
   "cell_type": "code",
   "execution_count": null,
   "metadata": {},
   "outputs": [],
   "source": [
    "sol_per_pop = initial_population.__len__()\n",
    "num_parents_mating = 20\n",
    "keep_elitism = int(sol_per_pop - num_parents_mating/2)\n",
    "\n",
    "print(\"sol_per_pop: \", sol_per_pop)\n",
    "print(\"num_parents_mating: \", num_parents_mating)\n",
    "print(\"keep_elitism: \", keep_elitism)"
   ]
  },
  {
   "cell_type": "code",
   "execution_count": null,
   "metadata": {},
   "outputs": [],
   "source": [
    "def printCrossover(x,y):\n",
    "    print(\"Crossover\")\n",
    "\n",
    "def printMutation(x,y):\n",
    "    print(\"Mutation\")\n",
    "\n",
    "def printFitness(x,y):\n",
    "    print(\"Fitness\")\n",
    "\n",
    "def printParents(y,parents):\n",
    "    print(\"Parents\")"
   ]
  },
  {
   "cell_type": "code",
   "execution_count": null,
   "metadata": {},
   "outputs": [],
   "source": [
    "for i in range(20):   \n",
    "    try:\n",
    "        print(\"Equation: \", i)\n",
    "\n",
    "        true_equation = stringEQtoArray(dataset.iloc[i].values[0])\n",
    "        inputs = stringArrayToArray(dataset.iloc[i].values[1])\n",
    "        outputs = np.array(stringArrayToArray(dataset.iloc[i].values[2]))\n",
    "\n",
    "\n",
    "        ga_instance = pygad.GA(num_generations=200,\n",
    "                            num_parents_mating=num_parents_mating,\n",
    "                            fitness_func=fitness_func,\n",
    "                            initial_population=initial_population,\n",
    "                            gene_type=int,\n",
    "                            parent_selection_type=\"tournament\",\n",
    "                            keep_elitism=keep_elitism,\n",
    "                            crossover_probability=0.8,\n",
    "                            crossover_type=crossover_func,\n",
    "                            mutation_type=mutation_func,\n",
    "                            mutation_probability=0.5,\n",
    "                            gene_space=gene_space,\n",
    "                            stop_criteria=\"saturate_100\")\n",
    "                            # on_crossover=printCrossover,\n",
    "                            # on_mutation=printMutation,\n",
    "                            # on_fitness=printFitness,\n",
    "                            # on_parents=printParents)\n",
    "\n",
    "        ga_instance.run()\n",
    "\n",
    "        print(ga_instance.plot_fitness())\n",
    "\n",
    "        solution, solution_fitness, solution_idx = ga_instance.best_solution()\n",
    "\n",
    "        x = range(1, 101)\n",
    "\n",
    "        # Assuming you have two output arrays of the same length\n",
    "        y1 = outputs\n",
    "\n",
    "        tree = EquationTree()\n",
    "        tree.build_tree(equation_from_GA(solution))\n",
    "        y2 = [tree.evaluate(i) for i in x]\n",
    "\n",
    "        print(\"True equation: \", true_equation)\n",
    "        print(\"Predicted equation: \", equation_from_GA(solution))\n",
    "\n",
    "        # Plotting the first array\n",
    "        plt.plot(x, y1, label='True equation')\n",
    "\n",
    "        # Plotting the second array\n",
    "        plt.plot(x, y2, label='Predicted equation')\n",
    "\n",
    "        # Adding labels and title\n",
    "        plt.xlabel('X-axis label')\n",
    "        plt.ylabel('Y-axis label')\n",
    "        plt.title('Two Arrays Plot')\n",
    "\n",
    "        # Adding legend\n",
    "        plt.legend()\n",
    "\n",
    "        # Display the plot\n",
    "        plt.show()\n",
    "\n",
    "    except Exception as e:\n",
    "        print(\"ERROR: \", e)\n",
    "        continue\n"
   ]
  },
  {
   "cell_type": "code",
   "execution_count": null,
   "metadata": {},
   "outputs": [],
   "source": [
    "solution, solution_fitness, solution_idx = ga_instance.best_solution()\n",
    "print(\"Best parameter\", equation_from_GA(solution))\n",
    "print(\"Fitness\", solution_fitness)\n",
    "print(\"Index\", solution_idx)"
   ]
  },
  {
   "cell_type": "code",
   "execution_count": null,
   "metadata": {},
   "outputs": [],
   "source": [
    "print(ga_instance.plot_fitness())"
   ]
  }
 ],
 "metadata": {
  "kernelspec": {
   "display_name": "Python 3",
   "language": "python",
   "name": "python3"
  },
  "language_info": {
   "codemirror_mode": {
    "name": "ipython",
    "version": 3
   },
   "file_extension": ".py",
   "mimetype": "text/x-python",
   "name": "python",
   "nbconvert_exporter": "python",
   "pygments_lexer": "ipython3",
   "version": "3.12.0"
  }
 },
 "nbformat": 4,
 "nbformat_minor": 2
}
