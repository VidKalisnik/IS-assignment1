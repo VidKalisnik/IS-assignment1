{
 "cells": [
  {
   "cell_type": "markdown",
   "metadata": {},
   "source": [
    "# 1. Configuration\n",
    "\n",
    "### Imports"
   ]
  },
  {
   "cell_type": "code",
   "execution_count": 1,
   "metadata": {},
   "outputs": [],
   "source": [
    "import pygad\n",
    "import numpy as np\n",
    "import matplotlib.pyplot as plt\n",
    "import pandas as pd "
   ]
  },
  {
   "cell_type": "markdown",
   "metadata": {},
   "source": [
    "### Read the data"
   ]
  },
  {
   "cell_type": "code",
   "execution_count": 2,
   "metadata": {},
   "outputs": [
    {
     "data": {
      "text/html": [
       "<div>\n",
       "<style scoped>\n",
       "    .dataframe tbody tr th:only-of-type {\n",
       "        vertical-align: middle;\n",
       "    }\n",
       "\n",
       "    .dataframe tbody tr th {\n",
       "        vertical-align: top;\n",
       "    }\n",
       "\n",
       "    .dataframe thead th {\n",
       "        text-align: right;\n",
       "    }\n",
       "</style>\n",
       "<table border=\"1\" class=\"dataframe\">\n",
       "  <thead>\n",
       "    <tr style=\"text-align: right;\">\n",
       "      <th></th>\n",
       "      <th>Equation</th>\n",
       "      <th>Xs</th>\n",
       "      <th>Ys</th>\n",
       "    </tr>\n",
       "  </thead>\n",
       "  <tbody>\n",
       "    <tr>\n",
       "      <th>0</th>\n",
       "      <td>((x ** 4) - 6)</td>\n",
       "      <td>[1, 2, 3, 4, 5, 6, 7, 8, 9, 10, 11, 12, 13, 14...</td>\n",
       "      <td>[-5, 10, 75, 250, 619, 1290, 2395, 4090, 6555,...</td>\n",
       "    </tr>\n",
       "    <tr>\n",
       "      <th>1</th>\n",
       "      <td>(((x / 8) * 2) + 1)</td>\n",
       "      <td>[1, 2, 3, 4, 5, 6, 7, 8, 9, 10, 11, 12, 13, 14...</td>\n",
       "      <td>[1.25, 1.5, 1.75, 2.0, 2.25, 2.5, 2.75, 3.0, 3...</td>\n",
       "    </tr>\n",
       "    <tr>\n",
       "      <th>2</th>\n",
       "      <td>(((x - 1) - 3) / 5)</td>\n",
       "      <td>[1, 2, 3, 4, 5, 6, 7, 8, 9, 10, 11, 12, 13, 14...</td>\n",
       "      <td>[-0.6, -0.4, -0.2, 0.0, 0.2, 0.4, 0.6, 0.8, 1....</td>\n",
       "    </tr>\n",
       "    <tr>\n",
       "      <th>3</th>\n",
       "      <td>(x * 5)</td>\n",
       "      <td>[1, 2, 3, 4, 5, 6, 7, 8, 9, 10, 11, 12, 13, 14...</td>\n",
       "      <td>[5, 10, 15, 20, 25, 30, 35, 40, 45, 50, 55, 60...</td>\n",
       "    </tr>\n",
       "    <tr>\n",
       "      <th>4</th>\n",
       "      <td>(x + 2)</td>\n",
       "      <td>[1, 2, 3, 4, 5, 6, 7, 8, 9, 10, 11, 12, 13, 14...</td>\n",
       "      <td>[3, 4, 5, 6, 7, 8, 9, 10, 11, 12, 13, 14, 15, ...</td>\n",
       "    </tr>\n",
       "    <tr>\n",
       "      <th>...</th>\n",
       "      <td>...</td>\n",
       "      <td>...</td>\n",
       "      <td>...</td>\n",
       "    </tr>\n",
       "    <tr>\n",
       "      <th>93</th>\n",
       "      <td>1*x**5 + -2*x**3 + -1*x + -5</td>\n",
       "      <td>[1, 2, 3, 4, 5, 6, 7, 8, 9, 10, 11, 12, 13, 14...</td>\n",
       "      <td>[-7, 9, 181, 887, 2865, 7333, 16109, 31731, 57...</td>\n",
       "    </tr>\n",
       "    <tr>\n",
       "      <th>94</th>\n",
       "      <td>3*x**5 + 2*x**4 + 1*x + -2</td>\n",
       "      <td>[1, 2, 3, 4, 5, 6, 7, 8, 9, 10, 11, 12, 13, 14...</td>\n",
       "      <td>[4, 128, 892, 3586, 10628, 25924, 55228, 10650...</td>\n",
       "    </tr>\n",
       "    <tr>\n",
       "      <th>95</th>\n",
       "      <td>-4*x**5 + -1*x + -5</td>\n",
       "      <td>[1, 2, 3, 4, 5, 6, 7, 8, 9, 10, 11, 12, 13, 14...</td>\n",
       "      <td>[-10, -135, -980, -4105, -12510, -31115, -6724...</td>\n",
       "    </tr>\n",
       "    <tr>\n",
       "      <th>96</th>\n",
       "      <td>4*x + +1</td>\n",
       "      <td>[1, 2, 3, 4, 5, 6, 7, 8, 9, 10, 11, 12, 13, 14...</td>\n",
       "      <td>[5, 9, 13, 17, 21, 25, 29, 33, 37, 41, 45, 49,...</td>\n",
       "    </tr>\n",
       "    <tr>\n",
       "      <th>97</th>\n",
       "      <td>-4*x**5 + 3*x**4 + -4*x**2 + -2*x + 5</td>\n",
       "      <td>[1, 2, 3, 4, 5, 6, 7, 8, 9, 10, 11, 12, 13, 14...</td>\n",
       "      <td>[-2, -95, -766, -3395, -10730, -27367, -60230,...</td>\n",
       "    </tr>\n",
       "  </tbody>\n",
       "</table>\n",
       "<p>98 rows × 3 columns</p>\n",
       "</div>"
      ],
      "text/plain": [
       "                                  Equation  \\\n",
       "0                           ((x ** 4) - 6)   \n",
       "1                      (((x / 8) * 2) + 1)   \n",
       "2                      (((x - 1) - 3) / 5)   \n",
       "3                                  (x * 5)   \n",
       "4                                  (x + 2)   \n",
       "..                                     ...   \n",
       "93            1*x**5 + -2*x**3 + -1*x + -5   \n",
       "94              3*x**5 + 2*x**4 + 1*x + -2   \n",
       "95                     -4*x**5 + -1*x + -5   \n",
       "96                                4*x + +1   \n",
       "97   -4*x**5 + 3*x**4 + -4*x**2 + -2*x + 5   \n",
       "\n",
       "                                                   Xs  \\\n",
       "0   [1, 2, 3, 4, 5, 6, 7, 8, 9, 10, 11, 12, 13, 14...   \n",
       "1   [1, 2, 3, 4, 5, 6, 7, 8, 9, 10, 11, 12, 13, 14...   \n",
       "2   [1, 2, 3, 4, 5, 6, 7, 8, 9, 10, 11, 12, 13, 14...   \n",
       "3   [1, 2, 3, 4, 5, 6, 7, 8, 9, 10, 11, 12, 13, 14...   \n",
       "4   [1, 2, 3, 4, 5, 6, 7, 8, 9, 10, 11, 12, 13, 14...   \n",
       "..                                                ...   \n",
       "93  [1, 2, 3, 4, 5, 6, 7, 8, 9, 10, 11, 12, 13, 14...   \n",
       "94  [1, 2, 3, 4, 5, 6, 7, 8, 9, 10, 11, 12, 13, 14...   \n",
       "95  [1, 2, 3, 4, 5, 6, 7, 8, 9, 10, 11, 12, 13, 14...   \n",
       "96  [1, 2, 3, 4, 5, 6, 7, 8, 9, 10, 11, 12, 13, 14...   \n",
       "97  [1, 2, 3, 4, 5, 6, 7, 8, 9, 10, 11, 12, 13, 14...   \n",
       "\n",
       "                                                   Ys  \n",
       "0   [-5, 10, 75, 250, 619, 1290, 2395, 4090, 6555,...  \n",
       "1   [1.25, 1.5, 1.75, 2.0, 2.25, 2.5, 2.75, 3.0, 3...  \n",
       "2   [-0.6, -0.4, -0.2, 0.0, 0.2, 0.4, 0.6, 0.8, 1....  \n",
       "3   [5, 10, 15, 20, 25, 30, 35, 40, 45, 50, 55, 60...  \n",
       "4   [3, 4, 5, 6, 7, 8, 9, 10, 11, 12, 13, 14, 15, ...  \n",
       "..                                                ...  \n",
       "93  [-7, 9, 181, 887, 2865, 7333, 16109, 31731, 57...  \n",
       "94  [4, 128, 892, 3586, 10628, 25924, 55228, 10650...  \n",
       "95  [-10, -135, -980, -4105, -12510, -31115, -6724...  \n",
       "96  [5, 9, 13, 17, 21, 25, 29, 33, 37, 41, 45, 49,...  \n",
       "97  [-2, -95, -766, -3395, -10730, -27367, -60230,...  \n",
       "\n",
       "[98 rows x 3 columns]"
      ]
     },
     "execution_count": 2,
     "metadata": {},
     "output_type": "execute_result"
    }
   ],
   "source": [
    "dataset = pd.read_csv(\"dataset.csv\")\n",
    "dataset"
   ]
  },
  {
   "cell_type": "markdown",
   "metadata": {},
   "source": [
    "# 2. Representation"
   ]
  },
  {
   "cell_type": "markdown",
   "metadata": {},
   "source": [
    "### Tree data structure\n",
    "\n",
    "#### Node class"
   ]
  },
  {
   "cell_type": "code",
   "execution_count": 3,
   "metadata": {},
   "outputs": [],
   "source": [
    "class Node:\n",
    "    def __init__(self, value=None):\n",
    "        self.value = value\n",
    "        self.children = []\n",
    "\n",
    "    def add_child(self, child):\n",
    "        self.children.append(child)"
   ]
  },
  {
   "cell_type": "markdown",
   "metadata": {},
   "source": [
    "#### Equation tree class\n",
    "\n",
    "The `EquationTree` class is a custom implementation of a binary tree data structure that represents a mathematical equation. It is used to parse and evaluate mathematical expressions in a tree-like structure. \n",
    "\n",
    "The class has the following methods:\n",
    "\n",
    "- `build_tree(self, expression)`: Builds the tree structure from a given mathematical expression.\n",
    "- `print_tree(self)`: Prints the tree structure in a readable format.\n",
    "- `evaluate(self, x)`: Evaluates the mathematical expression represented by the tree structure for a given value of `x`.\n"
   ]
  },
  {
   "cell_type": "code",
   "execution_count": 76,
   "metadata": {},
   "outputs": [],
   "source": [
    "class EquationTree:\n",
    "    def __init__(self, root=None):\n",
    "        self.root = root\n",
    "\n",
    "    def build_tree(self, expression):\n",
    "        self.root = self._build_tree_recursive(expression)\n",
    "\n",
    "    def _build_tree_recursive(self, expression):\n",
    "        \n",
    "        current_depth = -1  #odvisn v kok ( gres notr\n",
    "\n",
    "        lowest_depth = 0    #najvecja globina\n",
    "        lowest_depth_index = -1 #index najvecje globine, oz tm k je element d splitamo drevo\n",
    "\n",
    "        leaf = False    #ce je list pa v izrazu ni vec operatorjev pol vrne list\n",
    "        leaf_value = None   #vrednost lista\n",
    "\n",
    "        priority_lvl = 0   #to je zto d ma ** prednost pred * in /, pa + in - pred tem\n",
    "\n",
    "        for i in range(len(expression)):\n",
    "            if expression[i] == '(':    \n",
    "                current_depth += 1  #povecamo globino\n",
    "            elif expression[i] == ')':\n",
    "                current_depth -= 1  #zmanjsamo globino\n",
    "            elif expression[i] in ['+', '-']:\n",
    "                #   ce smo v najmajsi globini    ce sploh ni globine v enacbi    prednost pred drugimi operatorji (kle nima tok veze, bl je spodi)\n",
    "                if current_depth < lowest_depth or lowest_depth_index == -1 or priority_lvl > 1:  \n",
    "                    lowest_depth = current_depth\n",
    "                    lowest_depth_index = i\n",
    "                    priority_lvl = 1 \n",
    "            elif expression[i] in ['*', '/']:\n",
    "                if current_depth < lowest_depth or lowest_depth_index == -1 or priority_lvl > 2:\n",
    "                    lowest_depth = current_depth\n",
    "                    lowest_depth_index = i\n",
    "                    priority_lvl = 2\n",
    "            elif expression[i] in ['**']:\n",
    "                if current_depth < lowest_depth or lowest_depth_index == -1 or priority_lvl > 3:\n",
    "                    lowest_depth = current_depth\n",
    "                    lowest_depth_index = i\n",
    "                    priority_lvl = 3\n",
    "            elif expression[i] == 'x' or expression[i].lstrip('-').isdigit():\n",
    "                leaf_value = expression[i]\n",
    "                leaf = True\n",
    "\n",
    "        if lowest_depth_index == -1 and leaf:\n",
    "            return Node(leaf_value)\n",
    "        else:\n",
    "            root = Node(expression[lowest_depth_index])\n",
    "            # print(expression[:lowest_depth_index])\n",
    "            # print(expression[lowest_depth_index+1:])\n",
    "            root.add_child(self._build_tree_recursive(expression[:lowest_depth_index])) #rekurzivno zgradimo levo poddrevo\n",
    "            root.add_child(self._build_tree_recursive(expression[lowest_depth_index+1:]))   #rekurzivno zgradimo desno poddrevo\n",
    "\n",
    "            return root\n",
    "        \n",
    "    def print_tree(self):\n",
    "        self._print_tree_recursive(self.root)\n",
    "    \n",
    "    def _print_tree_recursive(self, root, depth=0):\n",
    "        if root is None:\n",
    "            return\n",
    "\n",
    "        print('\\t' * depth + str(root.value) + \"--------\")\n",
    "\n",
    "        for child in root.children:\n",
    "            self._print_tree_recursive(child, depth + 1)\n",
    "\n",
    "    def evaluate(self, x):\n",
    "        return self._evaluate_recursive(self.root, x)\n",
    "    \n",
    "    def _evaluate_recursive(self, root, x):\n",
    "        if root is None:\n",
    "            return None\n",
    "\n",
    "        if root.value == 'x':\n",
    "            return x\n",
    "        elif root.value.lstrip('-').isdigit():\n",
    "            return int(root.value)\n",
    "        elif root.value == '+':\n",
    "            return self._evaluate_recursive(root.children[0], x) + self._evaluate_recursive(root.children[1], x)\n",
    "        elif root.value == '-':\n",
    "            return self._evaluate_recursive(root.children[0], x) - self._evaluate_recursive(root.children[1], x)\n",
    "        elif root.value == '*':\n",
    "            return self._evaluate_recursive(root.children[0], x) * self._evaluate_recursive(root.children[1], x)\n",
    "        elif root.value == '/':\n",
    "            return self._evaluate_recursive(root.children[0], x) / self._evaluate_recursive(root.children[1], x)\n",
    "        elif root.value == '**':\n",
    "            return self._evaluate_recursive(root.children[0], x) ** self._evaluate_recursive(root.children[1], x)\n",
    "        else:\n",
    "            return None"
   ]
  },
  {
   "cell_type": "markdown",
   "metadata": {},
   "source": [
    "Helper function to convert a string equation into an array of `tokens`."
   ]
  },
  {
   "cell_type": "code",
   "execution_count": 79,
   "metadata": {},
   "outputs": [],
   "source": [
    "def stringEQtoArray(equation):\n",
    "    arr = np.array([])\n",
    "    skip = 0\n",
    "\n",
    "    for index, char in enumerate(equation):\n",
    "        if skip != 0:\n",
    "            skip-=1\n",
    "            continue\n",
    "    \n",
    "        if char == ' ':\n",
    "            continue\n",
    "        elif char == 'x' or char.isdigit():\n",
    "            arr = np.append(arr, char)\n",
    "        elif char == '*' and equation[index+1] == '*':\n",
    "            arr = np.append(arr, '**')\n",
    "            skip = 1\n",
    "        elif char in ['+', '-'] and equation[index+1].isdigit():\n",
    "            if char == '+':\n",
    "                arr = np.append(arr, equation[index+1])\n",
    "            else:\n",
    "                arr = np.append(arr, char+equation[index+1])\n",
    "            skip = 1\n",
    "        elif char in ['+', '-', '*', '/', '(', ')']:\n",
    "            arr = np.append(arr, char)\n",
    "\n",
    "    return arr"
   ]
  },
  {
   "cell_type": "markdown",
   "metadata": {},
   "source": [
    "Helper function to convert a string sequance array to an array."
   ]
  },
  {
   "cell_type": "code",
   "execution_count": 58,
   "metadata": {},
   "outputs": [],
   "source": [
    "def stringArrayToArray(string):\n",
    "    string = string[1:-1]\n",
    "    arr = string.split(',')\n",
    "    arr = [float(i) for i in arr]\n",
    "    return arr"
   ]
  },
  {
   "cell_type": "code",
   "execution_count": 78,
   "metadata": {},
   "outputs": [
    {
     "name": "stdout",
     "output_type": "stream",
     "text": [
      "((x ** 4) - 6)\n",
      "['(' '(' 'x' '**' '4' ')' '-' '6' ')']\n",
      "---------\n",
      "\t**--------\n",
      "\t\tx--------\n",
      "\t\t4--------\n",
      "\t6--------\n"
     ]
    }
   ],
   "source": [
    "#vse dela prou :)\n",
    "\n",
    "for x in range(0,1):\n",
    "    equation_inputs = dataset.iloc[x].values[0]\n",
    "    #print(equation_inputs)\n",
    "    equation = stringEQtoArray(equation_inputs)\n",
    "    #print(equation)\n",
    "    equation_tree = EquationTree()\n",
    "    equation_tree.build_tree(equation) \n",
    "    equation_tree.print_tree()\n",
    "\n",
    "    outputs = stringArrayToArray(dataset.iloc[x].values[2])\n",
    "    sum = 0\n",
    "    for i in range(100):\n",
    "        sum += (equation_tree.evaluate(i+1) - outputs[i])\n",
    "\n",
    "    #print(sum) #more bit 0\n",
    "    "
   ]
  },
  {
   "cell_type": "markdown",
   "metadata": {},
   "source": [
    "### 3. Genetic algorithm"
   ]
  },
  {
   "cell_type": "code",
   "execution_count": 80,
   "metadata": {},
   "outputs": [
    {
     "name": "stdout",
     "output_type": "stream",
     "text": [
      "['(' '(' 'x' '**' '4' ')' '-' '6' ')']\n",
      "[1.0, 2.0, 3.0, 4.0, 5.0, 6.0, 7.0, 8.0, 9.0, 10.0, 11.0, 12.0, 13.0, 14.0, 15.0, 16.0, 17.0, 18.0, 19.0, 20.0, 21.0, 22.0, 23.0, 24.0, 25.0, 26.0, 27.0, 28.0, 29.0, 30.0, 31.0, 32.0, 33.0, 34.0, 35.0, 36.0, 37.0, 38.0, 39.0, 40.0, 41.0, 42.0, 43.0, 44.0, 45.0, 46.0, 47.0, 48.0, 49.0, 50.0, 51.0, 52.0, 53.0, 54.0, 55.0, 56.0, 57.0, 58.0, 59.0, 60.0, 61.0, 62.0, 63.0, 64.0, 65.0, 66.0, 67.0, 68.0, 69.0, 70.0, 71.0, 72.0, 73.0, 74.0, 75.0, 76.0, 77.0, 78.0, 79.0, 80.0, 81.0, 82.0, 83.0, 84.0, 85.0, 86.0, 87.0, 88.0, 89.0, 90.0, 91.0, 92.0, 93.0, 94.0, 95.0, 96.0, 97.0, 98.0, 99.0, 100.0]\n",
      "[-5.0, 10.0, 75.0, 250.0, 619.0, 1290.0, 2395.0, 4090.0, 6555.0, 9994.0, 14635.0, 20730.0, 28555.0, 38410.0, 50619.0, 65530.0, 83515.0, 104970.0, 130315.0, 159994.0, 194475.0, 234250.0, 279835.0, 331770.0, 390619.0, 456970.0, 531435.0, 614650.0, 707275.0, 809994.0, 923515.0, 1048570.0, 1185915.0, 1336330.0, 1500619.0, 1679610.0, 1874155.0, 2085130.0, 2313435.0, 2559994.0, 2825755.0, 3111690.0, 3418795.0, 3748090.0, 4100619.0, 4477450.0, 4879675.0, 5308410.0, 5764795.0, 6249994.0, 6765195.0, 7311610.0, 7890475.0, 8503050.0, 9150619.0, 9834490.0, 10555995.0, 11316490.0, 12117355.0, 12959994.0, 13845835.0, 14776330.0, 15752955.0, 16777210.0, 17850619.0, 18974730.0, 20151115.0, 21381370.0, 22667115.0, 24009994.0, 25411675.0, 26873850.0, 28398235.0, 29986570.0, 31640619.0, 33362170.0, 35153035.0, 37015050.0, 38950075.0, 40959994.0, 43046715.0, 45212170.0, 47458315.0, 49787130.0, 52200619.0, 54700810.0, 57289755.0, 59969530.0, 62742235.0, 65609994.0, 68574955.0, 71639290.0, 74805195.0, 78074890.0, 81450619.0, 84934650.0, 88529275.0, 92236810.0, 96059595.0, 99999994.0]\n"
     ]
    }
   ],
   "source": [
    "#trying for the first equation first\n",
    "true_equation = stringEQtoArray(dataset.iloc[0].values[0])\n",
    "inputs = stringArrayToArray(dataset.iloc[0].values[1])\n",
    "outputs = stringArrayToArray(dataset.iloc[0].values[2])\n",
    "\n",
    "print(true_equation)\n",
    "print(inputs)\n",
    "print(outputs)"
   ]
  },
  {
   "cell_type": "code",
   "execution_count": null,
   "metadata": {},
   "outputs": [],
   "source": [
    "def model(equation):\n",
    "    equation_tree = EquationTree()\n",
    "    equation_tree.build_tree(equation)\n",
    "\n",
    "    return np.array([equation_tree.evaluate(i+1) for i in range(100)])\n"
   ]
  },
  {
   "cell_type": "code",
   "execution_count": 81,
   "metadata": {},
   "outputs": [],
   "source": [
    "def fitness_func(ga_instance, solution, solution_idx):\n",
    "    \n",
    "    model_outputs = model(solution)\n",
    "\n",
    "    #square the difference between the outputs and the actual values\n",
    "    return -np.sum(np.square(model_outputs - outputs))"
   ]
  },
  {
   "cell_type": "code",
   "execution_count": 84,
   "metadata": {},
   "outputs": [],
   "source": [
    "#try the crossover function to only add the parents\n",
    "def crossover_func(parents, offspring_size, ga_instance):\n",
    "    \n",
    "    child = np.array(parents[0],['+'],parents[1])\n",
    "\n",
    "    return child"
   ]
  },
  {
   "cell_type": "code",
   "execution_count": 85,
   "metadata": {},
   "outputs": [],
   "source": [
    "#try the mutation function to only change the operators\n",
    "def mutation_func(offspring, ga_instance):\n",
    "    \n",
    "    for i in range(len(offspring)):\n",
    "        if offspring[i] in ['+', '-', '*', '/']:\n",
    "            offspring[i] = np.random.choice(['+', '-', '*', '/'])\n",
    "\n",
    "    return offspring"
   ]
  },
  {
   "cell_type": "code",
   "execution_count": 86,
   "metadata": {},
   "outputs": [],
   "source": [
    "initial_population = [['x'],np.linspace(1,100,100)]"
   ]
  },
  {
   "cell_type": "code",
   "execution_count": 87,
   "metadata": {},
   "outputs": [
    {
     "name": "stderr",
     "output_type": "stream",
     "text": [
      "Unexpected type <class 'str'> for the element indexed 0 of 'gene_space'. The accepted types are list/tuple/range/numpy.ndarray of numbers, a single number (int/float), or None.\n",
      "Traceback (most recent call last):\n",
      "  File \"/Library/Frameworks/Python.framework/Versions/3.12/lib/python3.12/site-packages/pygad/pygad.py\", line 244, in __init__\n",
      "    raise TypeError(f\"Unexpected type {type(el)} for the element indexed {index} of 'gene_space'. The accepted types are list/tuple/range/numpy.ndarray of numbers, a single number (int/float), or None.\")\n",
      "TypeError: Unexpected type <class 'str'> for the element indexed 0 of 'gene_space'. The accepted types are list/tuple/range/numpy.ndarray of numbers, a single number (int/float), or None.\n"
     ]
    },
    {
     "ename": "AttributeError",
     "evalue": "'tuple' object has no attribute 'tb_frame'",
     "output_type": "error",
     "traceback": [
      "\u001b[0;31m---------------------------------------------------------------------------\u001b[0m",
      "\u001b[0;31mTypeError\u001b[0m                                 Traceback (most recent call last)",
      "File \u001b[0;32m/Library/Frameworks/Python.framework/Versions/3.12/lib/python3.12/site-packages/pygad/pygad.py:244\u001b[0m, in \u001b[0;36mGA.__init__\u001b[0;34m(self, num_generations, num_parents_mating, fitness_func, fitness_batch_size, initial_population, sol_per_pop, num_genes, init_range_low, init_range_high, gene_type, parent_selection_type, keep_parents, keep_elitism, K_tournament, crossover_type, crossover_probability, mutation_type, mutation_probability, mutation_by_replacement, mutation_percent_genes, mutation_num_genes, random_mutation_min_val, random_mutation_max_val, gene_space, allow_duplicate_genes, on_start, on_fitness, on_parents, on_crossover, on_mutation, on_generation, on_stop, delay_after_gen, save_best_solutions, save_solutions, suppress_warnings, stop_criteria, parallel_processing, random_seed, logger)\u001b[0m\n\u001b[1;32m    243\u001b[0m                 \u001b[39mself\u001b[39m\u001b[39m.\u001b[39mvalid_parameters \u001b[39m=\u001b[39m \u001b[39mFalse\u001b[39;00m\n\u001b[0;32m--> 244\u001b[0m                 \u001b[39mraise\u001b[39;00m \u001b[39mTypeError\u001b[39;00m(\u001b[39mf\u001b[39m\u001b[39m\"\u001b[39m\u001b[39mUnexpected type \u001b[39m\u001b[39m{\u001b[39;00m\u001b[39mtype\u001b[39m(el)\u001b[39m}\u001b[39;00m\u001b[39m for the element indexed \u001b[39m\u001b[39m{\u001b[39;00mindex\u001b[39m}\u001b[39;00m\u001b[39m of \u001b[39m\u001b[39m'\u001b[39m\u001b[39mgene_space\u001b[39m\u001b[39m'\u001b[39m\u001b[39m. The accepted types are list/tuple/range/numpy.ndarray of numbers, a single number (int/float), or None.\u001b[39m\u001b[39m\"\u001b[39m)\n\u001b[1;32m    246\u001b[0m \u001b[39melif\u001b[39;00m \u001b[39mtype\u001b[39m(gene_space) \u001b[39mis\u001b[39;00m \u001b[39mdict\u001b[39m:\n",
      "\u001b[0;31mTypeError\u001b[0m: Unexpected type <class 'str'> for the element indexed 0 of 'gene_space'. The accepted types are list/tuple/range/numpy.ndarray of numbers, a single number (int/float), or None.",
      "\nDuring handling of the above exception, another exception occurred:\n",
      "\u001b[0;31mSystemExit\u001b[0m                                Traceback (most recent call last)",
      "    \u001b[0;31m[... skipping hidden 1 frame]\u001b[0m\n",
      "\u001b[1;32m/Users/v.kalisnik/Documents/Faks/IS/assignment1/assignment.ipynb Cell 22\u001b[0m line \u001b[0;36m2\n\u001b[1;32m      <a href='vscode-notebook-cell:/Users/v.kalisnik/Documents/Faks/IS/assignment1/assignment.ipynb#X34sZmlsZQ%3D%3D?line=0'>1</a>\u001b[0m \u001b[39m#try the ga\u001b[39;00m\n\u001b[0;32m----> <a href='vscode-notebook-cell:/Users/v.kalisnik/Documents/Faks/IS/assignment1/assignment.ipynb#X34sZmlsZQ%3D%3D?line=1'>2</a>\u001b[0m ga_instance \u001b[39m=\u001b[39m pygad\u001b[39m.\u001b[39;49mGA(num_generations\u001b[39m=\u001b[39;49m\u001b[39m100\u001b[39;49m,\n\u001b[1;32m      <a href='vscode-notebook-cell:/Users/v.kalisnik/Documents/Faks/IS/assignment1/assignment.ipynb#X34sZmlsZQ%3D%3D?line=2'>3</a>\u001b[0m                         num_parents_mating\u001b[39m=\u001b[39;49m\u001b[39m2\u001b[39;49m,\n\u001b[1;32m      <a href='vscode-notebook-cell:/Users/v.kalisnik/Documents/Faks/IS/assignment1/assignment.ipynb#X34sZmlsZQ%3D%3D?line=3'>4</a>\u001b[0m                         fitness_func\u001b[39m=\u001b[39;49mfitness_func,\n\u001b[1;32m      <a href='vscode-notebook-cell:/Users/v.kalisnik/Documents/Faks/IS/assignment1/assignment.ipynb#X34sZmlsZQ%3D%3D?line=4'>5</a>\u001b[0m                         sol_per_pop\u001b[39m=\u001b[39;49m\u001b[39m10\u001b[39;49m,\n\u001b[1;32m      <a href='vscode-notebook-cell:/Users/v.kalisnik/Documents/Faks/IS/assignment1/assignment.ipynb#X34sZmlsZQ%3D%3D?line=5'>6</a>\u001b[0m                         num_genes\u001b[39m=\u001b[39;49m\u001b[39m100\u001b[39;49m,\n\u001b[1;32m      <a href='vscode-notebook-cell:/Users/v.kalisnik/Documents/Faks/IS/assignment1/assignment.ipynb#X34sZmlsZQ%3D%3D?line=6'>7</a>\u001b[0m                         gene_type\u001b[39m=\u001b[39;49mnp\u001b[39m.\u001b[39;49mndarray,\n\u001b[1;32m      <a href='vscode-notebook-cell:/Users/v.kalisnik/Documents/Faks/IS/assignment1/assignment.ipynb#X34sZmlsZQ%3D%3D?line=7'>8</a>\u001b[0m                         gene_space\u001b[39m=\u001b[39;49m[\u001b[39m'\u001b[39;49m\u001b[39mx\u001b[39;49m\u001b[39m'\u001b[39;49m, \u001b[39m'\u001b[39;49m\u001b[39m+\u001b[39;49m\u001b[39m'\u001b[39;49m, \u001b[39m'\u001b[39;49m\u001b[39m-\u001b[39;49m\u001b[39m'\u001b[39;49m, \u001b[39m'\u001b[39;49m\u001b[39m*\u001b[39;49m\u001b[39m'\u001b[39;49m, \u001b[39m'\u001b[39;49m\u001b[39m/\u001b[39;49m\u001b[39m'\u001b[39;49m],\n\u001b[1;32m      <a href='vscode-notebook-cell:/Users/v.kalisnik/Documents/Faks/IS/assignment1/assignment.ipynb#X34sZmlsZQ%3D%3D?line=8'>9</a>\u001b[0m                         crossover_type\u001b[39m=\u001b[39;49mcrossover_func,\n\u001b[1;32m     <a href='vscode-notebook-cell:/Users/v.kalisnik/Documents/Faks/IS/assignment1/assignment.ipynb#X34sZmlsZQ%3D%3D?line=9'>10</a>\u001b[0m                         mutation_type\u001b[39m=\u001b[39;49mmutation_func,\n\u001b[1;32m     <a href='vscode-notebook-cell:/Users/v.kalisnik/Documents/Faks/IS/assignment1/assignment.ipynb#X34sZmlsZQ%3D%3D?line=10'>11</a>\u001b[0m                         initial_population\u001b[39m=\u001b[39;49minitial_population)\n\u001b[1;32m     <a href='vscode-notebook-cell:/Users/v.kalisnik/Documents/Faks/IS/assignment1/assignment.ipynb#X34sZmlsZQ%3D%3D?line=12'>13</a>\u001b[0m ga_instance\u001b[39m.\u001b[39mrun()\n",
      "File \u001b[0;32m/Library/Frameworks/Python.framework/Versions/3.12/lib/python3.12/site-packages/pygad/pygad.py:1316\u001b[0m, in \u001b[0;36mGA.__init__\u001b[0;34m(self, num_generations, num_parents_mating, fitness_func, fitness_batch_size, initial_population, sol_per_pop, num_genes, init_range_low, init_range_high, gene_type, parent_selection_type, keep_parents, keep_elitism, K_tournament, crossover_type, crossover_probability, mutation_type, mutation_probability, mutation_by_replacement, mutation_percent_genes, mutation_num_genes, random_mutation_min_val, random_mutation_max_val, gene_space, allow_duplicate_genes, on_start, on_fitness, on_parents, on_crossover, on_mutation, on_generation, on_stop, delay_after_gen, save_best_solutions, save_solutions, suppress_warnings, stop_criteria, parallel_processing, random_seed, logger)\u001b[0m\n\u001b[1;32m   1315\u001b[0m \u001b[39mself\u001b[39m\u001b[39m.\u001b[39mlogger\u001b[39m.\u001b[39mexception(e)\n\u001b[0;32m-> 1316\u001b[0m sys\u001b[39m.\u001b[39;49mexit(\u001b[39m-\u001b[39;49m\u001b[39m1\u001b[39;49m)\n",
      "\u001b[0;31mSystemExit\u001b[0m: -1",
      "\nDuring handling of the above exception, another exception occurred:\n",
      "\u001b[0;31mAttributeError\u001b[0m                            Traceback (most recent call last)",
      "    \u001b[0;31m[... skipping hidden 1 frame]\u001b[0m\n",
      "File \u001b[0;32m~/Library/Python/3.12/lib/python/site-packages/IPython/core/interactiveshell.py:2119\u001b[0m, in \u001b[0;36mInteractiveShell.showtraceback\u001b[0;34m(self, exc_tuple, filename, tb_offset, exception_only, running_compiled_code)\u001b[0m\n\u001b[1;32m   2116\u001b[0m \u001b[39mif\u001b[39;00m exception_only:\n\u001b[1;32m   2117\u001b[0m     stb \u001b[39m=\u001b[39m [\u001b[39m'\u001b[39m\u001b[39mAn exception has occurred, use \u001b[39m\u001b[39m%\u001b[39m\u001b[39mtb to see \u001b[39m\u001b[39m'\u001b[39m\n\u001b[1;32m   2118\u001b[0m            \u001b[39m'\u001b[39m\u001b[39mthe full traceback.\u001b[39m\u001b[39m\\n\u001b[39;00m\u001b[39m'\u001b[39m]\n\u001b[0;32m-> 2119\u001b[0m     stb\u001b[39m.\u001b[39mextend(\u001b[39mself\u001b[39;49m\u001b[39m.\u001b[39;49mInteractiveTB\u001b[39m.\u001b[39;49mget_exception_only(etype,\n\u001b[1;32m   2120\u001b[0m                                                      value))\n\u001b[1;32m   2121\u001b[0m \u001b[39melse\u001b[39;00m:\n\u001b[1;32m   2123\u001b[0m     \u001b[39mdef\u001b[39;00m \u001b[39mcontains_exceptiongroup\u001b[39m(val):\n",
      "File \u001b[0;32m~/Library/Python/3.12/lib/python/site-packages/IPython/core/ultratb.py:710\u001b[0m, in \u001b[0;36mListTB.get_exception_only\u001b[0;34m(self, etype, value)\u001b[0m\n\u001b[1;32m    702\u001b[0m \u001b[39mdef\u001b[39;00m \u001b[39mget_exception_only\u001b[39m(\u001b[39mself\u001b[39m, etype, value):\n\u001b[1;32m    703\u001b[0m \u001b[39m    \u001b[39m\u001b[39m\"\"\"Only print the exception type and message, without a traceback.\u001b[39;00m\n\u001b[1;32m    704\u001b[0m \n\u001b[1;32m    705\u001b[0m \u001b[39m    Parameters\u001b[39;00m\n\u001b[0;32m   (...)\u001b[0m\n\u001b[1;32m    708\u001b[0m \u001b[39m    value : exception value\u001b[39;00m\n\u001b[1;32m    709\u001b[0m \u001b[39m    \"\"\"\u001b[39;00m\n\u001b[0;32m--> 710\u001b[0m     \u001b[39mreturn\u001b[39;00m ListTB\u001b[39m.\u001b[39;49mstructured_traceback(\u001b[39mself\u001b[39;49m, etype, value)\n",
      "File \u001b[0;32m~/Library/Python/3.12/lib/python/site-packages/IPython/core/ultratb.py:568\u001b[0m, in \u001b[0;36mListTB.structured_traceback\u001b[0;34m(self, etype, evalue, etb, tb_offset, context)\u001b[0m\n\u001b[1;32m    565\u001b[0m     chained_exc_ids\u001b[39m.\u001b[39madd(\u001b[39mid\u001b[39m(exception[\u001b[39m1\u001b[39m]))\n\u001b[1;32m    566\u001b[0m     chained_exceptions_tb_offset \u001b[39m=\u001b[39m \u001b[39m0\u001b[39m\n\u001b[1;32m    567\u001b[0m     out_list \u001b[39m=\u001b[39m (\n\u001b[0;32m--> 568\u001b[0m         \u001b[39mself\u001b[39;49m\u001b[39m.\u001b[39;49mstructured_traceback(\n\u001b[1;32m    569\u001b[0m             etype,\n\u001b[1;32m    570\u001b[0m             evalue,\n\u001b[1;32m    571\u001b[0m             (etb, chained_exc_ids),  \u001b[39m# type: ignore\u001b[39;49;00m\n\u001b[1;32m    572\u001b[0m             chained_exceptions_tb_offset,\n\u001b[1;32m    573\u001b[0m             context,\n\u001b[1;32m    574\u001b[0m         )\n\u001b[1;32m    575\u001b[0m         \u001b[39m+\u001b[39m chained_exception_message\n\u001b[1;32m    576\u001b[0m         \u001b[39m+\u001b[39m out_list)\n\u001b[1;32m    578\u001b[0m \u001b[39mreturn\u001b[39;00m out_list\n",
      "File \u001b[0;32m~/Library/Python/3.12/lib/python/site-packages/IPython/core/ultratb.py:1435\u001b[0m, in \u001b[0;36mAutoFormattedTB.structured_traceback\u001b[0;34m(self, etype, evalue, etb, tb_offset, number_of_lines_of_context)\u001b[0m\n\u001b[1;32m   1433\u001b[0m \u001b[39melse\u001b[39;00m:\n\u001b[1;32m   1434\u001b[0m     \u001b[39mself\u001b[39m\u001b[39m.\u001b[39mtb \u001b[39m=\u001b[39m etb\n\u001b[0;32m-> 1435\u001b[0m \u001b[39mreturn\u001b[39;00m FormattedTB\u001b[39m.\u001b[39;49mstructured_traceback(\n\u001b[1;32m   1436\u001b[0m     \u001b[39mself\u001b[39;49m, etype, evalue, etb, tb_offset, number_of_lines_of_context\n\u001b[1;32m   1437\u001b[0m )\n",
      "File \u001b[0;32m~/Library/Python/3.12/lib/python/site-packages/IPython/core/ultratb.py:1326\u001b[0m, in \u001b[0;36mFormattedTB.structured_traceback\u001b[0;34m(self, etype, value, tb, tb_offset, number_of_lines_of_context)\u001b[0m\n\u001b[1;32m   1323\u001b[0m mode \u001b[39m=\u001b[39m \u001b[39mself\u001b[39m\u001b[39m.\u001b[39mmode\n\u001b[1;32m   1324\u001b[0m \u001b[39mif\u001b[39;00m mode \u001b[39min\u001b[39;00m \u001b[39mself\u001b[39m\u001b[39m.\u001b[39mverbose_modes:\n\u001b[1;32m   1325\u001b[0m     \u001b[39m# Verbose modes need a full traceback\u001b[39;00m\n\u001b[0;32m-> 1326\u001b[0m     \u001b[39mreturn\u001b[39;00m VerboseTB\u001b[39m.\u001b[39;49mstructured_traceback(\n\u001b[1;32m   1327\u001b[0m         \u001b[39mself\u001b[39;49m, etype, value, tb, tb_offset, number_of_lines_of_context\n\u001b[1;32m   1328\u001b[0m     )\n\u001b[1;32m   1329\u001b[0m \u001b[39melif\u001b[39;00m mode \u001b[39m==\u001b[39m \u001b[39m'\u001b[39m\u001b[39mMinimal\u001b[39m\u001b[39m'\u001b[39m:\n\u001b[1;32m   1330\u001b[0m     \u001b[39mreturn\u001b[39;00m ListTB\u001b[39m.\u001b[39mget_exception_only(\u001b[39mself\u001b[39m, etype, value)\n",
      "File \u001b[0;32m~/Library/Python/3.12/lib/python/site-packages/IPython/core/ultratb.py:1173\u001b[0m, in \u001b[0;36mVerboseTB.structured_traceback\u001b[0;34m(self, etype, evalue, etb, tb_offset, number_of_lines_of_context)\u001b[0m\n\u001b[1;32m   1164\u001b[0m \u001b[39mdef\u001b[39;00m \u001b[39mstructured_traceback\u001b[39m(\n\u001b[1;32m   1165\u001b[0m     \u001b[39mself\u001b[39m,\n\u001b[1;32m   1166\u001b[0m     etype: \u001b[39mtype\u001b[39m,\n\u001b[0;32m   (...)\u001b[0m\n\u001b[1;32m   1170\u001b[0m     number_of_lines_of_context: \u001b[39mint\u001b[39m \u001b[39m=\u001b[39m \u001b[39m5\u001b[39m,\n\u001b[1;32m   1171\u001b[0m ):\n\u001b[1;32m   1172\u001b[0m \u001b[39m    \u001b[39m\u001b[39m\"\"\"Return a nice text document describing the traceback.\"\"\"\u001b[39;00m\n\u001b[0;32m-> 1173\u001b[0m     formatted_exception \u001b[39m=\u001b[39m \u001b[39mself\u001b[39;49m\u001b[39m.\u001b[39;49mformat_exception_as_a_whole(etype, evalue, etb, number_of_lines_of_context,\n\u001b[1;32m   1174\u001b[0m                                                            tb_offset)\n\u001b[1;32m   1176\u001b[0m     colors \u001b[39m=\u001b[39m \u001b[39mself\u001b[39m\u001b[39m.\u001b[39mColors  \u001b[39m# just a shorthand + quicker name lookup\u001b[39;00m\n\u001b[1;32m   1177\u001b[0m     colorsnormal \u001b[39m=\u001b[39m colors\u001b[39m.\u001b[39mNormal  \u001b[39m# used a lot\u001b[39;00m\n",
      "File \u001b[0;32m~/Library/Python/3.12/lib/python/site-packages/IPython/core/ultratb.py:1063\u001b[0m, in \u001b[0;36mVerboseTB.format_exception_as_a_whole\u001b[0;34m(self, etype, evalue, etb, number_of_lines_of_context, tb_offset)\u001b[0m\n\u001b[1;32m   1060\u001b[0m \u001b[39massert\u001b[39;00m \u001b[39misinstance\u001b[39m(tb_offset, \u001b[39mint\u001b[39m)\n\u001b[1;32m   1061\u001b[0m head \u001b[39m=\u001b[39m \u001b[39mself\u001b[39m\u001b[39m.\u001b[39mprepare_header(\u001b[39mstr\u001b[39m(etype), \u001b[39mself\u001b[39m\u001b[39m.\u001b[39mlong_header)\n\u001b[1;32m   1062\u001b[0m records \u001b[39m=\u001b[39m (\n\u001b[0;32m-> 1063\u001b[0m     \u001b[39mself\u001b[39;49m\u001b[39m.\u001b[39;49mget_records(etb, number_of_lines_of_context, tb_offset) \u001b[39mif\u001b[39;00m etb \u001b[39melse\u001b[39;00m []\n\u001b[1;32m   1064\u001b[0m )\n\u001b[1;32m   1066\u001b[0m frames \u001b[39m=\u001b[39m []\n\u001b[1;32m   1067\u001b[0m skipped \u001b[39m=\u001b[39m \u001b[39m0\u001b[39m\n",
      "File \u001b[0;32m~/Library/Python/3.12/lib/python/site-packages/IPython/core/ultratb.py:1131\u001b[0m, in \u001b[0;36mVerboseTB.get_records\u001b[0;34m(self, etb, number_of_lines_of_context, tb_offset)\u001b[0m\n\u001b[1;32m   1129\u001b[0m \u001b[39mwhile\u001b[39;00m cf \u001b[39mis\u001b[39;00m \u001b[39mnot\u001b[39;00m \u001b[39mNone\u001b[39;00m:\n\u001b[1;32m   1130\u001b[0m     \u001b[39mtry\u001b[39;00m:\n\u001b[0;32m-> 1131\u001b[0m         mod \u001b[39m=\u001b[39m inspect\u001b[39m.\u001b[39mgetmodule(cf\u001b[39m.\u001b[39;49mtb_frame)\n\u001b[1;32m   1132\u001b[0m         \u001b[39mif\u001b[39;00m mod \u001b[39mis\u001b[39;00m \u001b[39mnot\u001b[39;00m \u001b[39mNone\u001b[39;00m:\n\u001b[1;32m   1133\u001b[0m             mod_name \u001b[39m=\u001b[39m mod\u001b[39m.\u001b[39m\u001b[39m__name__\u001b[39m\n",
      "\u001b[0;31mAttributeError\u001b[0m: 'tuple' object has no attribute 'tb_frame'"
     ]
    }
   ],
   "source": [
    "#try the ga\n",
    "ga_instance = pygad.GA(num_generations=100,\n",
    "                        num_parents_mating=2,\n",
    "                        fitness_func=fitness_func,\n",
    "                        sol_per_pop=10,\n",
    "                        num_genes=100,\n",
    "                        gene_type=np.ndarray,\n",
    "                        gene_space=['x', '+', '-', '*', '/'],\n",
    "                        crossover_type=crossover_func,\n",
    "                        mutation_type=mutation_func,\n",
    "                        initial_population=initial_population)\n",
    "\n",
    "ga_instance.run()"
   ]
  }
 ],
 "metadata": {
  "kernelspec": {
   "display_name": "Python 3",
   "language": "python",
   "name": "python3"
  },
  "language_info": {
   "codemirror_mode": {
    "name": "ipython",
    "version": 3
   },
   "file_extension": ".py",
   "mimetype": "text/x-python",
   "name": "python",
   "nbconvert_exporter": "python",
   "pygments_lexer": "ipython3",
   "version": "3.12.0"
  }
 },
 "nbformat": 4,
 "nbformat_minor": 2
}
